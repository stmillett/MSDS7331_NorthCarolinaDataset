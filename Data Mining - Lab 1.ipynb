{
 "cells": [
  {
   "cell_type": "markdown",
   "metadata": {},
   "source": [
    "# Lab 1\n",
    "\n",
    "<b>Class:</b> MSDS 7331 Data Mining\n",
    "<br> <b>Dataset:</b> Belk Endowment Educational Attainment Data \n",
    "\n",
    "<h1 style=\"font-size:150%;\"> Teammates </h1>\n",
    "Maryam Shahini\n",
    "<br> Murtada Shubbar\n",
    "<br> Michael Toolin\n",
    "<br> Steven Millett"
   ]
  },
  {
   "cell_type": "code",
   "execution_count": 108,
   "metadata": {},
   "outputs": [],
   "source": [
    "import pandas as pd\n",
    "import numpy as np\n",
    "import matplotlib.pyplot as plt\n",
    "from pandas.plotting import scatter_matrix\n",
    "import seaborn as sns\n",
    "import math\n",
    "import re\n",
    "\n",
    "%matplotlib inline"
   ]
  },
  {
   "cell_type": "code",
   "execution_count": null,
   "metadata": {
    "collapsed": true
   },
   "outputs": [],
   "source": []
  },
  {
   "cell_type": "code",
   "execution_count": 12,
   "metadata": {},
   "outputs": [],
   "source": [
    "#\n",
    "# The Machine Learning Date Set is being used through out this analysis.  The _ML suffix is removed to less name space size\n",
    "#\n",
    "# Load Full Public School Data Frames for each year\n",
    "#\n",
    "school_data = pd.read_csv('./Data/2017/machine Learning Datasets/PublicSchools2017_ML.csv', low_memory=False)"
   ]
  },
  {
   "cell_type": "code",
   "execution_count": null,
   "metadata": {},
   "outputs": [],
   "source": []
  },
  {
   "cell_type": "markdown",
   "metadata": {},
   "source": [
    "# Business Understanding \n",
    "\n",
    "The North Carolina Educational data set contains report cards on a variety of schools in the North Carolina school system. These include public schools, charter schools and alternative schools.  This data describes the school system at multiple levels and grades the schools on a number of different metrics.  The number of different metrics available provide an opportunity to measure schools on all these different performance areas.  One area to look closely into is school and student performance.  These specific metrics can provide some insight into indivdual schools or schools in parts of the state that are underperforming where additional resources might help.  North Carolina ranks 40th in the nation in eduction and ranks 45th in funding.[1] The lack of financial resources places a premium on deciding where to use the available money. For example, how are districts with primarliy minority students fairing compared to others? Where schools are underperforming, how experienced are teachers?  Using this data to identify underperforming areas, can we predict if higher funding correlates to better performance in school or on SAT scores. Also, are college admissions in any way connected to better funded schools.  A seperate area to examine would be the safety of neighborhoods in comparison to school performance.  This information could be used in other areas of local government as well.\n",
    "\n",
    "###citation: Drew J., The Belk Endowment Educational Attainment Data Repository for North Carolina Public Schools, (2018), GitHub repository, https://github.com/jakemdrew/EducationDataNC\n",
    "\n",
    "[1] (source: https://www.edweek.org/ew/collections/quality-counts-2018-state-grades/highlight-reports/2018/01/17/north-carolina.html/)\n",
    "\n",
    "Describe the purpose of the data set you selected (i.e., why was this data collected in the first place?). Describe how you would define and measure the outcomes from the dataset. That is, why is this data important and how do you know if you have mined useful knowledge from the dataset? How would you measure the effectiveness of a good prediction algorithm? Be specific."
   ]
  },
  {
   "cell_type": "code",
   "execution_count": null,
   "metadata": {
    "collapsed": true
   },
   "outputs": [],
   "source": []
  },
  {
   "cell_type": "markdown",
   "metadata": {},
   "source": [
    "# Data Meaning Type \n",
    "\n",
    "Describe the meaning and type of data (scale, values, etc.) for each attribute in the data file."
   ]
  },
  {
   "cell_type": "code",
   "execution_count": 14,
   "metadata": {},
   "outputs": [
    {
     "name": "stdout",
     "output_type": "stream",
     "text": [
      "<class 'pandas.core.frame.DataFrame'>\n",
      "RangeIndex: 2443 entries, 0 to 2442\n",
      "Columns: 334 entries, student_num to unit_code\n",
      "dtypes: float64(290), int64(44)\n",
      "memory usage: 6.2 MB\n",
      "None\n"
     ]
    }
   ],
   "source": [
    "print(school_data.info())"
   ]
  },
  {
   "cell_type": "code",
   "execution_count": 15,
   "metadata": {},
   "outputs": [
    {
     "data": {
      "text/html": [
       "<div>\n",
       "<style scoped>\n",
       "    .dataframe tbody tr th:only-of-type {\n",
       "        vertical-align: middle;\n",
       "    }\n",
       "\n",
       "    .dataframe tbody tr th {\n",
       "        vertical-align: top;\n",
       "    }\n",
       "\n",
       "    .dataframe thead th {\n",
       "        text-align: right;\n",
       "    }\n",
       "</style>\n",
       "<table border=\"1\" class=\"dataframe\">\n",
       "  <thead>\n",
       "    <tr style=\"text-align: right;\">\n",
       "      <th></th>\n",
       "      <th>student_num</th>\n",
       "      <th>lea_avg_student_num</th>\n",
       "      <th>st_avg_student_num</th>\n",
       "      <th>00_Size</th>\n",
       "      <th>02_Size</th>\n",
       "      <th>03_Size</th>\n",
       "      <th>04_Size</th>\n",
       "      <th>05_Size</th>\n",
       "      <th>Math I_Size</th>\n",
       "      <th>lea_total_expense_num</th>\n",
       "      <th>...</th>\n",
       "      <th>Math SPG Grade_C</th>\n",
       "      <th>Math SPG Grade_D</th>\n",
       "      <th>Math SPG Grade_F</th>\n",
       "      <th>EVAAS Growth Status_Met</th>\n",
       "      <th>EVAAS Growth Status_NotMet</th>\n",
       "      <th>State Gap Compared_Y</th>\n",
       "      <th>Byod_Yes</th>\n",
       "      <th>_1_to_1_access_Yes</th>\n",
       "      <th>SRC_devices_sent_home_Yes</th>\n",
       "      <th>unit_code</th>\n",
       "    </tr>\n",
       "  </thead>\n",
       "  <tbody>\n",
       "    <tr>\n",
       "      <th>0</th>\n",
       "      <td>152.0</td>\n",
       "      <td>996.0</td>\n",
       "      <td>853.0</td>\n",
       "      <td>0.0</td>\n",
       "      <td>0.0</td>\n",
       "      <td>0.0</td>\n",
       "      <td>0.0</td>\n",
       "      <td>0.0</td>\n",
       "      <td>21.0</td>\n",
       "      <td>8588.32</td>\n",
       "      <td>...</td>\n",
       "      <td>0</td>\n",
       "      <td>0</td>\n",
       "      <td>0</td>\n",
       "      <td>1</td>\n",
       "      <td>0</td>\n",
       "      <td>0</td>\n",
       "      <td>0</td>\n",
       "      <td>1</td>\n",
       "      <td>1</td>\n",
       "      <td>10303</td>\n",
       "    </tr>\n",
       "    <tr>\n",
       "      <th>1</th>\n",
       "      <td>575.0</td>\n",
       "      <td>528.0</td>\n",
       "      <td>490.0</td>\n",
       "      <td>21.0</td>\n",
       "      <td>19.0</td>\n",
       "      <td>22.0</td>\n",
       "      <td>24.0</td>\n",
       "      <td>28.0</td>\n",
       "      <td>0.0</td>\n",
       "      <td>8588.32</td>\n",
       "      <td>...</td>\n",
       "      <td>0</td>\n",
       "      <td>0</td>\n",
       "      <td>0</td>\n",
       "      <td>0</td>\n",
       "      <td>0</td>\n",
       "      <td>0</td>\n",
       "      <td>0</td>\n",
       "      <td>0</td>\n",
       "      <td>0</td>\n",
       "      <td>10304</td>\n",
       "    </tr>\n",
       "    <tr>\n",
       "      <th>2</th>\n",
       "      <td>611.0</td>\n",
       "      <td>528.0</td>\n",
       "      <td>490.0</td>\n",
       "      <td>19.0</td>\n",
       "      <td>20.0</td>\n",
       "      <td>19.0</td>\n",
       "      <td>27.0</td>\n",
       "      <td>26.0</td>\n",
       "      <td>0.0</td>\n",
       "      <td>8588.32</td>\n",
       "      <td>...</td>\n",
       "      <td>1</td>\n",
       "      <td>0</td>\n",
       "      <td>0</td>\n",
       "      <td>0</td>\n",
       "      <td>0</td>\n",
       "      <td>0</td>\n",
       "      <td>0</td>\n",
       "      <td>0</td>\n",
       "      <td>0</td>\n",
       "      <td>10308</td>\n",
       "    </tr>\n",
       "    <tr>\n",
       "      <th>3</th>\n",
       "      <td>742.0</td>\n",
       "      <td>706.0</td>\n",
       "      <td>629.0</td>\n",
       "      <td>0.0</td>\n",
       "      <td>0.0</td>\n",
       "      <td>0.0</td>\n",
       "      <td>0.0</td>\n",
       "      <td>0.0</td>\n",
       "      <td>26.0</td>\n",
       "      <td>8588.32</td>\n",
       "      <td>...</td>\n",
       "      <td>0</td>\n",
       "      <td>0</td>\n",
       "      <td>1</td>\n",
       "      <td>1</td>\n",
       "      <td>0</td>\n",
       "      <td>0</td>\n",
       "      <td>0</td>\n",
       "      <td>0</td>\n",
       "      <td>0</td>\n",
       "      <td>10310</td>\n",
       "    </tr>\n",
       "    <tr>\n",
       "      <th>4</th>\n",
       "      <td>701.0</td>\n",
       "      <td>528.0</td>\n",
       "      <td>490.0</td>\n",
       "      <td>20.0</td>\n",
       "      <td>21.0</td>\n",
       "      <td>22.0</td>\n",
       "      <td>24.0</td>\n",
       "      <td>23.0</td>\n",
       "      <td>0.0</td>\n",
       "      <td>8588.32</td>\n",
       "      <td>...</td>\n",
       "      <td>1</td>\n",
       "      <td>0</td>\n",
       "      <td>0</td>\n",
       "      <td>0</td>\n",
       "      <td>1</td>\n",
       "      <td>0</td>\n",
       "      <td>0</td>\n",
       "      <td>0</td>\n",
       "      <td>0</td>\n",
       "      <td>10312</td>\n",
       "    </tr>\n",
       "  </tbody>\n",
       "</table>\n",
       "<p>5 rows × 334 columns</p>\n",
       "</div>"
      ],
      "text/plain": [
       "   student_num  lea_avg_student_num  st_avg_student_num  00_Size  02_Size  \\\n",
       "0        152.0                996.0               853.0      0.0      0.0   \n",
       "1        575.0                528.0               490.0     21.0     19.0   \n",
       "2        611.0                528.0               490.0     19.0     20.0   \n",
       "3        742.0                706.0               629.0      0.0      0.0   \n",
       "4        701.0                528.0               490.0     20.0     21.0   \n",
       "\n",
       "   03_Size  04_Size  05_Size  Math I_Size  lea_total_expense_num    ...      \\\n",
       "0      0.0      0.0      0.0         21.0                8588.32    ...       \n",
       "1     22.0     24.0     28.0          0.0                8588.32    ...       \n",
       "2     19.0     27.0     26.0          0.0                8588.32    ...       \n",
       "3      0.0      0.0      0.0         26.0                8588.32    ...       \n",
       "4     22.0     24.0     23.0          0.0                8588.32    ...       \n",
       "\n",
       "   Math SPG Grade_C  Math SPG Grade_D  Math SPG Grade_F  \\\n",
       "0                 0                 0                 0   \n",
       "1                 0                 0                 0   \n",
       "2                 1                 0                 0   \n",
       "3                 0                 0                 1   \n",
       "4                 1                 0                 0   \n",
       "\n",
       "   EVAAS Growth Status_Met  EVAAS Growth Status_NotMet  State Gap Compared_Y  \\\n",
       "0                        1                           0                     0   \n",
       "1                        0                           0                     0   \n",
       "2                        0                           0                     0   \n",
       "3                        1                           0                     0   \n",
       "4                        0                           1                     0   \n",
       "\n",
       "   Byod_Yes  _1_to_1_access_Yes  SRC_devices_sent_home_Yes  unit_code  \n",
       "0         0                   1                          1      10303  \n",
       "1         0                   0                          0      10304  \n",
       "2         0                   0                          0      10308  \n",
       "3         0                   0                          0      10310  \n",
       "4         0                   0                          0      10312  \n",
       "\n",
       "[5 rows x 334 columns]"
      ]
     },
     "execution_count": 15,
     "metadata": {},
     "output_type": "execute_result"
    }
   ],
   "source": [
    "school_data.head()"
   ]
  },
  {
   "cell_type": "code",
   "execution_count": null,
   "metadata": {
    "collapsed": true
   },
   "outputs": [],
   "source": [
    "#scatter_matrix(school_data)"
   ]
  },
  {
   "cell_type": "code",
   "execution_count": 16,
   "metadata": {},
   "outputs": [
    {
     "data": {
      "text/plain": [
       "(2443, 334)"
      ]
     },
     "execution_count": 16,
     "metadata": {},
     "output_type": "execute_result"
    }
   ],
   "source": [
    "school_data.shape"
   ]
  },
  {
   "cell_type": "markdown",
   "metadata": {},
   "source": [
    "# Data Quality\n",
    "\n",
    "Verify data quality: Explain any missing values, duplicate data, and outliers. Are those mistakes? How do you deal with these problems? Give justifications for your methods."
   ]
  },
  {
   "cell_type": "code",
   "execution_count": null,
   "metadata": {
    "collapsed": true
   },
   "outputs": [],
   "source": []
  },
  {
   "cell_type": "markdown",
   "metadata": {},
   "source": [
    "# Simple Statistics\n",
    "\n",
    "Visualize appropriate statistics (e.g., range, mode, mean, median, variance, counts) for a subset of attributes. Describe anything meaningful you found from this or if you found something potentially interesting. Note: You can also use data from other sources for comparison. Explain why the statistics run are meaningful. "
   ]
  },
  {
   "cell_type": "code",
   "execution_count": 17,
   "metadata": {},
   "outputs": [
    {
     "name": "stdout",
     "output_type": "stream",
     "text": [
      "       student_num  lea_avg_student_num  st_avg_student_num      00_Size  \\\n",
      "count  2443.000000          2443.000000         2443.000000  2443.000000   \n",
      "mean    584.173966           584.245600          586.074089     9.969709   \n",
      "std     386.933479           271.986506          150.150219     9.588669   \n",
      "min       5.000000             5.000000          278.000000     0.000000   \n",
      "25%     337.500000           427.500000          490.000000     0.000000   \n",
      "50%     512.000000           529.000000          490.000000    14.000000   \n",
      "75%     725.000000           683.000000          629.000000    19.000000   \n",
      "max    2974.000000          1852.000000          853.000000    27.000000   \n",
      "\n",
      "           02_Size      03_Size      04_Size      05_Size  Math I_Size  \\\n",
      "count  2443.000000  2443.000000  2443.000000  2443.000000  2443.000000   \n",
      "mean     10.153090    10.067131    11.209578    11.152272     8.808023   \n",
      "std       9.756678     9.756138    10.842040    11.173440    11.225975   \n",
      "min       0.000000     0.000000     0.000000     0.000000     0.000000   \n",
      "25%       0.000000     0.000000     0.000000     0.000000     0.000000   \n",
      "50%      14.000000    14.000000    15.000000    14.000000     0.000000   \n",
      "75%      20.000000    20.000000    21.000000    22.000000    19.000000   \n",
      "max      28.000000    40.000000    44.000000    68.000000    42.000000   \n",
      "\n",
      "       lea_total_expense_num      ...        Math SPG Grade_C  \\\n",
      "count            2443.000000      ...             2443.000000   \n",
      "mean             9337.465980      ...                0.286124   \n",
      "std              1014.397854      ...                0.452040   \n",
      "min              8150.840000      ...                0.000000   \n",
      "25%              8731.670000      ...                0.000000   \n",
      "50%              9008.240000      ...                0.000000   \n",
      "75%              9740.490000      ...                1.000000   \n",
      "max             17718.540000      ...                1.000000   \n",
      "\n",
      "       Math SPG Grade_D  Math SPG Grade_F  EVAAS Growth Status_Met  \\\n",
      "count       2443.000000       2443.000000              2443.000000   \n",
      "mean           0.189930          0.063856                 0.452722   \n",
      "std            0.392326          0.244546                 0.497862   \n",
      "min            0.000000          0.000000                 0.000000   \n",
      "25%            0.000000          0.000000                 0.000000   \n",
      "50%            0.000000          0.000000                 0.000000   \n",
      "75%            0.000000          0.000000                 1.000000   \n",
      "max            1.000000          1.000000                 1.000000   \n",
      "\n",
      "       EVAAS Growth Status_NotMet  State Gap Compared_Y     Byod_Yes  \\\n",
      "count                 2443.000000           2443.000000  2443.000000   \n",
      "mean                     0.231682              0.038068     0.298813   \n",
      "std                      0.421994              0.191400     0.457831   \n",
      "min                      0.000000              0.000000     0.000000   \n",
      "25%                      0.000000              0.000000     0.000000   \n",
      "50%                      0.000000              0.000000     0.000000   \n",
      "75%                      0.000000              0.000000     1.000000   \n",
      "max                      1.000000              1.000000     1.000000   \n",
      "\n",
      "       _1_to_1_access_Yes  SRC_devices_sent_home_Yes      unit_code  \n",
      "count         2443.000000                2443.000000    2443.000000  \n",
      "mean             0.441261                   0.178060  522484.663938  \n",
      "std              0.496639                   0.382641  278104.556294  \n",
      "min              0.000000                   0.000000   10303.000000  \n",
      "25%              0.000000                   0.000000  290386.000000  \n",
      "50%              0.000000                   0.000000  510388.000000  \n",
      "75%              1.000000                   0.000000  770350.000000  \n",
      "max              1.000000                   1.000000  995336.000000  \n",
      "\n",
      "[8 rows x 334 columns]\n"
     ]
    }
   ],
   "source": [
    "print(school_data.describe())"
   ]
  },
  {
   "cell_type": "markdown",
   "metadata": {},
   "source": [
    "# Visualize Attributes\n",
    "\n",
    "Visualize the most interesting attributes (at least 5 attributes, your opinion on what is interesting). Important: Interpret the implications for each visualization. Explain for each attribute why the chosen visualization is appropriate."
   ]
  },
  {
   "cell_type": "code",
   "execution_count": 68,
   "metadata": {},
   "outputs": [],
   "source": [
    "def prefixsearch(search_string, missing_value ,start_of_search_string,end_of_search_string):\n",
    "    if re.search(end_of_search_string, search_string):\n",
    "        return re.search('('+ start_of_search_string +'\\S*)(?='+ end_of_search_string +')',search_string).group(0)\n",
    "    else:\n",
    "        return missing_value\n",
    "\n"
   ]
  },
  {
   "cell_type": "code",
   "execution_count": 69,
   "metadata": {},
   "outputs": [],
   "source": [
    "teacher_temp_col = [col for col in school_data.columns if 'tchyrs' in col]\n",
    "teacher_columns = school_data[teacher_temp_col].melt(var_name='col',value_name='values')\n",
    "\n",
    "teacher_columns['year'] = teacher_columns['col'].apply(lambda name: re.search('(?<=tchyrs_)\\S*(?=_)',name).group(0))\n",
    "teacher_columns['region'] = teacher_columns['col'].apply(lambda name: prefixsearch(name, \"Sch\", '^\\S*','_tch'))\n",
    "\n"
   ]
  },
  {
   "cell_type": "code",
   "execution_count": 70,
   "metadata": {},
   "outputs": [
    {
     "data": {
      "text/plain": [
       "<matplotlib.axes._subplots.AxesSubplot at 0x268ed90d390>"
      ]
     },
     "execution_count": 70,
     "metadata": {},
     "output_type": "execute_result"
    },
    {
     "data": {
      "image/png": "[encoded data removed]",
      "text/plain": [
       "<Figure size 842.4x595.44 with 1 Axes>"
      ]
     },
     "metadata": {},
     "output_type": "display_data"
    }
   ],
   "source": [
    "a4_dims = (11.7, 8.27)\n",
    "fig, ax = plt.subplots(figsize=a4_dims)\n",
    "sns.boxplot(ax=ax,data=teacher_columns,x='year', y='values', hue='region')"
   ]
  },
  {
   "cell_type": "markdown",
   "metadata": {},
   "source": [
    "# Makeup of teachers in classrooms\n",
    "In the graph above we are looking at the percentage of teachers that makeup a classroom based on their years of tenure."
   ]
  },
  {
   "cell_type": "code",
   "execution_count": 90,
   "metadata": {},
   "outputs": [],
   "source": [
    "sex_temp_col = school_data.filter(regex=('[Mm]alePct')).columns\n",
    "sex_teacher_columns = school_data[sex_temp_col].melt(var_name='col',value_name='Values')\n",
    "\n",
    "sex_teacher_columns['Race'] = sex_teacher_columns['col'].apply(lambda name: prefixsearch(name, \"\", '^','Male|Female'))\n",
    "sex_teacher_columns['Sex'] = sex_teacher_columns['col'].apply(lambda name: 'Female' if re.search('Female',name) else 'Male')\n",
    "\n"
   ]
  },
  {
   "cell_type": "code",
   "execution_count": 91,
   "metadata": {},
   "outputs": [
    {
     "data": {
      "text/plain": [
       "<matplotlib.axes._subplots.AxesSubplot at 0x268edb4b898>"
      ]
     },
     "execution_count": 91,
     "metadata": {},
     "output_type": "execute_result"
    },
    {
     "data": {
      "image/png": "[encoded data removed]",
      "text/plain": [
       "<Figure size 1080x720 with 1 Axes>"
      ]
     },
     "metadata": {},
     "output_type": "display_data"
    }
   ],
   "source": [
    "a4_dims = (15, 10)\n",
    "fig, ax = plt.subplots(figsize=a4_dims)\n",
    "sns.violinplot(ax=ax,x='Race',y='Values',hue='Sex',data=sex_teacher_columns,split=True,palette={\"Male\": \"b\", \"Female\": \"y\"})\n"
   ]
  },
  {
   "cell_type": "markdown",
   "metadata": {},
   "source": [
    "# Makeup of minorities in classrooms\n",
    "\n",
    "In the graph above we are looking at the percentage of minorities that makeup a classroom as represented with a violin plot. Each half of the violin represents the different sexual make-up of each race.\n"
   ]
  },
  {
   "cell_type": "code",
   "execution_count": 128,
   "metadata": {},
   "outputs": [
    {
     "name": "stdout",
     "output_type": "stream",
     "text": [
      "                              col    Values region                   media\n",
      "15765                 lea_wap_num  7.017506    lea                 wap_num\n",
      "6218            books_per_student  3.527242    Sch       books_per_student\n",
      "2524   lea_stud_internet_comp_num  0.067659    lea  stud_internet_comp_num\n",
      "11071                     wap_num  3.784190    Sch                 wap_num\n",
      "8948        lea_books_per_student  3.342862    lea       books_per_student\n",
      "14512           wap_per_classroom -0.105361    Sch       wap_per_classroom\n",
      "1642       stud_internet_comp_num  0.431782    Sch  stud_internet_comp_num\n",
      "5957            books_per_student  2.402430    Sch       books_per_student\n",
      "9549        lea_books_per_student  2.704042    lea       books_per_student\n",
      "2612   lea_stud_internet_comp_num  0.086178    lea  stud_internet_comp_num\n",
      "802        stud_internet_comp_num  0.488580    Sch  stud_internet_comp_num\n",
      "6385            books_per_student  2.081938    Sch       books_per_student\n",
      "11770                     wap_num  3.583519    Sch                 wap_num\n",
      "11364                     wap_num  4.060443    Sch                 wap_num\n",
      "17511       lea_wap_per_classroom  0.173953    lea       wap_per_classroom\n",
      "18383       lea_wap_per_classroom -0.527633    lea       wap_per_classroom\n",
      "246        stud_internet_comp_num -0.051293    Sch  stud_internet_comp_num\n",
      "18250       lea_wap_per_classroom  0.292670    lea       wap_per_classroom\n",
      "18149       lea_wap_per_classroom  0.113329    lea       wap_per_classroom\n",
      "6291            books_per_student  2.348514    Sch       books_per_student\n"
     ]
    }
   ],
   "source": [
    "support_col = school_data.filter(regex=('wap|books|stud_internet')).columns\n",
    "support_columns = school_data[support_col].melt(var_name='col',value_name='Values')\n",
    "\n",
    "support_columns = support_columns[support_columns['Values']!=0]\n",
    "\n",
    "support_columns['Values'] = support_columns['Values'].apply(lambda value: math.log(value))\n",
    "\n",
    "\n",
    "#support_columns['media'] = sex_teacher_columns['col'].apply(lambda name: 'Female' if re.search('Female',name) else 'Male')\n",
    "\n",
    "support_columns['region'] = support_columns['col'].apply(lambda name: prefixsearch(name, \"Sch\", '^\\S*','_wap|_books|_stud_int'))\n",
    "support_columns['media'] = support_columns['col'].apply(lambda name: re.sub('lea_','',name) if re.search('lea',name) else name )\n",
    "\n",
    "print(support_columns.sample(20))"
   ]
  },
  {
   "cell_type": "code",
   "execution_count": 130,
   "metadata": {},
   "outputs": [
    {
     "data": {
      "text/plain": [
       "<matplotlib.axes._subplots.AxesSubplot at 0x268f3e9d1d0>"
      ]
     },
     "execution_count": 130,
     "metadata": {},
     "output_type": "execute_result"
    },
    {
     "data": {
      "image/png": "[encoded data removed]",
      "text/plain": [
       "<Figure size 1080x720 with 1 Axes>"
      ]
     },
     "metadata": {},
     "output_type": "display_data"
    }
   ],
   "source": [
    "a4_dims = (15, 10)\n",
    "fig, ax = plt.subplots(figsize=a4_dims)\n",
    "sns.boxplot(ax=ax,x='media',y='Values',hue='region',data=support_columns,palette={\"lea\": \"b\", \"Sch\": \"y\"})\n"
   ]
  },
  {
   "cell_type": "markdown",
   "metadata": {},
   "source": [
    "# Media and Computer resources available\n",
    "These box plots map the difference in the amount of resources that the average LEA has and the variance per school."
   ]
  },
  {
   "cell_type": "markdown",
   "metadata": {},
   "source": [
    "# Explore Joint Attributes\n",
    "\n",
    "Visualize relationships between attributes: Look at the attributes via scatter plots, correlation, cross-tabulation, group-wise averages, etc. as appropriate. Explain any interesting relationships."
   ]
  },
  {
   "cell_type": "code",
   "execution_count": null,
   "metadata": {},
   "outputs": [],
   "source": []
  },
  {
   "cell_type": "markdown",
   "metadata": {},
   "source": [
    "# Explore Attributes and Class\n",
    "\n",
    "Identify and explain interesting relationships between features and the class you are trying to predict (i.e., relationships with variables and the target classification)."
   ]
  },
  {
   "cell_type": "code",
   "execution_count": null,
   "metadata": {
    "collapsed": true
   },
   "outputs": [],
   "source": []
  },
  {
   "cell_type": "markdown",
   "metadata": {},
   "source": [
    "# New Features\n",
    "\n",
    "Are there other features that could be added to the data or created from existing features? Which ones?"
   ]
  },
  {
   "cell_type": "code",
   "execution_count": null,
   "metadata": {
    "collapsed": true
   },
   "outputs": [],
   "source": []
  },
  {
   "cell_type": "markdown",
   "metadata": {},
   "source": [
    "# Exceptional Work\n",
    "\n",
    "You have free reign to provide additional analyses. One idea: implement dimensionality reduction, then visualize and interpret the results."
   ]
  },
  {
   "cell_type": "code",
   "execution_count": null,
   "metadata": {
    "collapsed": true
   },
   "outputs": [],
   "source": []
  }
 ],
 "metadata": {
  "kernelspec": {
   "display_name": "Python 3",
   "language": "python",
   "name": "python3"
  },
  "language_info": {
   "codemirror_mode": {
    "name": "ipython",
    "version": 3
   },
   "file_extension": ".py",
   "mimetype": "text/x-python",
   "name": "python",
   "nbconvert_exporter": "python",
   "pygments_lexer": "ipython3",
   "version": "3.6.5"
  }
 },
 "nbformat": 4,
 "nbformat_minor": 2
}
