{
 "cells": [
  {
   "cell_type": "markdown",
   "metadata": {},
   "source": [
    "# Lab 2\n",
    "\n",
    "<b>Class:</b> MSDS 7331 Data Mining\n",
    "<br> <b>Dataset:</b> Belk Endowment Educational Attainment Data \n",
    "\n",
    "<h1 style=\"font-size:150%;\"> Teammates </h1>\n",
    "Maryam Shahini\n",
    "<br> Murtada Shubbar\n",
    "<br> Michael Toolin\n",
    "<br> Steven Millett"
   ]
  },
  {
   "cell_type": "code",
   "execution_count": 25,
   "metadata": {},
   "outputs": [],
   "source": [
    "#Set global variables\n",
    "#Variables for file and school informaiton\n",
    "\n",
    "YEARS = ['2014', '2015', '2016', '2017']\n",
    "\n",
    "#Number of features we will be selecting for feature selection\n",
    "\n",
    "N_FEATURES_OPTIONS = [25,50,100,\"all\"]\n",
    "\n",
    "#Alpha and C we will be using for our classifiers\n",
    "\n",
    "C_ESTIMATORS = [50, 100, 200, 500]\n",
    "C_DEPTH = [2, 3, 5]\n",
    "LEARNING_RATE = [1e-2, 1e-1, 1e0]\n",
    "\n",
    "#Used for KNN gridsearch\n",
    "C_NEIGHBORS = [4, 5]\n",
    "\n",
    "#Used for SVC grid search\n",
    "C_OPTIONS = [1e-4, 1e-3, 1e-2, 1e-1, 1e0, 1e1, 1e2, 1e3, 1e4]\n",
    "\n",
    "#Import data all necessary libraries we will be using in our estimation\n",
    "\n",
    "import pandas as pd\n",
    "import numpy as np\n",
    "import matplotlib.pyplot as plt\n",
    "import seaborn as sns\n",
    "import math\n",
    "import re\n",
    "import sklearn\n",
    "import statistics\n",
    "import random\n",
    "\n",
    "\n",
    "from sklearn.decomposition import PCA, NMF\n",
    "from sklearn.feature_selection import SelectFromModel\n",
    "from sklearn.feature_selection import SelectKBest, chi2, SelectPercentile, RFE\n",
    "\n",
    "from sklearn.preprocessing import StandardScaler, Binarizer\n",
    "\n",
    "from sklearn.linear_model import LogisticRegression, SGDClassifier\n",
    "from sklearn.svm import SVC, LinearSVC\n",
    "\n",
    "from sklearn.metrics import accuracy_score, confusion_matrix, roc_auc_score, auc, roc_curve\n",
    "from IPython.display import display, HTML\n",
    "\n",
    "from sklearn.pipeline import make_pipeline, Pipeline\n",
    "from sklearn.model_selection import train_test_split, GridSearchCV, KFold, TimeSeriesSplit, StratifiedShuffleSplit\n",
    "\n",
    "from sklearn.naive_bayes import MultinomialNB\n",
    "\n",
    "from sklearn.ensemble import GradientBoostingClassifier,GradientBoostingRegressor,AdaBoostClassifier,RandomForestClassifier, BaggingClassifier\n",
    "from sklearn.tree import DecisionTreeClassifier\n",
    "from sklearn.linear_model import LogisticRegression\n",
    "from sklearn.neighbors import KNeighborsClassifier\n",
    "\n",
    "%matplotlib inline"
   ]
  },
  {
   "cell_type": "markdown",
   "metadata": {},
   "source": [
    "%%html\n",
    "<style>\n",
    "table {float:left}\n",
    "</style>"
   ]
  },
  {
   "cell_type": "markdown",
   "metadata": {},
   "source": [
    "# 1.a Data Preparation\n",
    "10 points - Deﬁne and prepare your class variables. Use proper variable \n",
    "representations (int, ﬂoat, one-hot, etc.). Use pre-processing methods (as needed) for\n",
    "dimensionality reduction, scaling, etc. Remove variables that are not needed/useful for \n",
    "the analysis.\n",
    "\n",
    "# The Belk Endowment Educational Attainment Data Repository for North Carolina Public Schools\n",
    "Our data set originates from the North Carolina Public Schools Reports and Statistics. This public site contains large amounts of information covering many aspects of the performance of students and schools across the state of North Carolina. It includes public and charter schools ranging from the elementary level to high schools. http://www.ncpublicschools.org/\n",
    "\n",
    "The data used in our lab consists of portions of this data which includes the school years 2014-2017. The data used is the result of combining and cleaning the raw data sets available on the North Carolina website. The machine learning data sets are broken down by school year and then sub-setted by elementary school, middle school and high school information. \n",
    "\n",
    "In this lab our data set consists of all the data available for school years 2015-2017 from the Machine Learning data available.  First step is to combine all the data from previous years and add the variable ‘Year’ to each row, keeping track of which year this data was collected.\n",
    "\n",
    "Next the each feature is inspected for NA values.  If more than 75% of the feature contains NA, we replace that field with 0.  If less than 75% is NA, then the median value of the column is used to replace the NA.\n",
    "\n",
    "Two binary classifications are performed.  The first is classifiying if a schools average SAT score will be above 1000.  This information is useful to teachers and guidance counselors as they are helping students navigate college searches.  The second classifier examines crime rate as compared to the LEA each school is in.\n",
    "\n",
    "\n",
    "\n",
    "|<p align=\"\">Variable|<p align=\"\">Type|<p align=\"\">Note|\n",
    "|--------|----|----|\n",
    "|<p align=\"\">Year|<p align=\"\">Object|<p align=\"\">Tracks year data is from|\n",
    "|<p align=\"\">local_crime_greater|<p align=\"\">int64|<p align=\"\">1 if crime in school is above LEA average crime, 0 otherwise\n",
    "|<p align=\"\">X_crime_reduced|<p align=\"\">Data Frame|<p align=\"\">Used in crime reduced scope model, removes racial information from data|\n",
    "|<p align=\"\">SAT_Score_Above1000|<p align=\"\">int64|<p align=\"\">1 if SAT score is above 1000 ,0 otherwise."
   ]
  },
  {
   "cell_type": "markdown",
   "metadata": {},
   "source": [
    "# 1.b Data Preparation\n",
    "5 points - Describe the final dataset that is used for classification/regression (include a description of any newly formed variables you created)."
   ]
  },
  {
   "cell_type": "code",
   "execution_count": 2,
   "metadata": {},
   "outputs": [],
   "source": [
    "# All years of the High School Public Schools Machine Learning \n",
    "# Date Set is being used throughout this \n",
    "# analysis. \n",
    "# Load Full Public School Data Frames for each year\n",
    "\n",
    "school_data = pd.DataFrame()\n",
    "\n",
    "for year in YEARS:\n",
    "    #Load public school master file\n",
    "    temp_year = pd.read_csv('../Data/'+str(year)+'/Machine Learning Datasets/PublicHighSchools'+str(year)+'_ML.csv', low_memory=False)\n",
    "        \n",
    "    #Add year column and concatonating all data together\n",
    "    temp_year['Year']=year\n",
    "    \n",
    "    if(school_data.empty):\n",
    "        school_data = pd.concat([school_data,temp_year],ignore_index=True)\n",
    "    else:\n",
    "        school_data = pd.concat([school_data,temp_year], join = \"inner\",ignore_index=True)\n"
   ]
  },
  {
   "cell_type": "markdown",
   "metadata": {},
   "source": [
    "### Impute any missing values\n",
    "\n",
    "Here we are setting the master dataset that we will be taking a subset of the data for the rest of the paper. This dataset is made up of the 4 years of high school data available from 2014 until 2017, which were combined to a single DataFrame. An inner join was performed to that only columns of data that were present in all imported spreadsheets were kept in the final DataFrame.\n",
    "\n",
    "A column was added to the data to note which year the data came from. Many of the same schools will be represented multiple times through the years. "
   ]
  },
  {
   "cell_type": "code",
   "execution_count": 3,
   "metadata": {},
   "outputs": [
    {
     "name": "stdout",
     "output_type": "stream",
     "text": [
      "(1904, 288)\n"
     ]
    },
    {
     "data": {
      "text/html": [
       "<div>\n",
       "<style scoped>\n",
       "    .dataframe tbody tr th:only-of-type {\n",
       "        vertical-align: middle;\n",
       "    }\n",
       "\n",
       "    .dataframe tbody tr th {\n",
       "        vertical-align: top;\n",
       "    }\n",
       "\n",
       "    .dataframe thead th {\n",
       "        text-align: right;\n",
       "    }\n",
       "</style>\n",
       "<table border=\"1\" class=\"dataframe\">\n",
       "  <thead>\n",
       "    <tr style=\"text-align: right;\">\n",
       "      <th></th>\n",
       "      <th>student_num</th>\n",
       "      <th>lea_avg_student_num</th>\n",
       "      <th>st_avg_student_num</th>\n",
       "      <th>Biology_Size</th>\n",
       "      <th>English II_Size</th>\n",
       "      <th>Math I_Size</th>\n",
       "      <th>lea_total_expense_num</th>\n",
       "      <th>lea_salary_expense_pct</th>\n",
       "      <th>lea_services_expense_pct</th>\n",
       "      <th>lea_supplies_expense_pct</th>\n",
       "      <th>...</th>\n",
       "      <th>grade_range_cd_PK-12</th>\n",
       "      <th>calendar_type_txt_Regular School, Year-Round Calendar</th>\n",
       "      <th>esea_status_P</th>\n",
       "      <th>Grad_project_status_Y</th>\n",
       "      <th>SPG Grade_B</th>\n",
       "      <th>SPG Grade_C</th>\n",
       "      <th>SPG Grade_D</th>\n",
       "      <th>EVAAS Growth Status_Met</th>\n",
       "      <th>EVAAS Growth Status_NotMet</th>\n",
       "      <th>unit_code</th>\n",
       "    </tr>\n",
       "  </thead>\n",
       "  <tbody>\n",
       "    <tr>\n",
       "      <th>count</th>\n",
       "      <td>1904.000000</td>\n",
       "      <td>1904.000000</td>\n",
       "      <td>1904.000000</td>\n",
       "      <td>1904.000000</td>\n",
       "      <td>1904.000000</td>\n",
       "      <td>1904.000000</td>\n",
       "      <td>1904.000000</td>\n",
       "      <td>1904.000000</td>\n",
       "      <td>1904.000000</td>\n",
       "      <td>1904.000000</td>\n",
       "      <td>...</td>\n",
       "      <td>1904.000000</td>\n",
       "      <td>1904.000000</td>\n",
       "      <td>1904.000000</td>\n",
       "      <td>1904.000000</td>\n",
       "      <td>1904.000000</td>\n",
       "      <td>1904.000000</td>\n",
       "      <td>1904.000000</td>\n",
       "      <td>1904.000000</td>\n",
       "      <td>1904.000000</td>\n",
       "      <td>1904.000000</td>\n",
       "    </tr>\n",
       "    <tr>\n",
       "      <th>mean</th>\n",
       "      <td>849.853466</td>\n",
       "      <td>830.111870</td>\n",
       "      <td>828.354517</td>\n",
       "      <td>18.629727</td>\n",
       "      <td>19.313550</td>\n",
       "      <td>18.243172</td>\n",
       "      <td>9093.345021</td>\n",
       "      <td>0.670409</td>\n",
       "      <td>0.081126</td>\n",
       "      <td>0.081555</td>\n",
       "      <td>...</td>\n",
       "      <td>0.006828</td>\n",
       "      <td>0.019433</td>\n",
       "      <td>0.034664</td>\n",
       "      <td>0.398109</td>\n",
       "      <td>0.340336</td>\n",
       "      <td>0.398109</td>\n",
       "      <td>0.087185</td>\n",
       "      <td>0.333508</td>\n",
       "      <td>0.309349</td>\n",
       "      <td>510742.404937</td>\n",
       "    </tr>\n",
       "    <tr>\n",
       "      <th>std</th>\n",
       "      <td>588.307262</td>\n",
       "      <td>357.643945</td>\n",
       "      <td>105.106371</td>\n",
       "      <td>5.607309</td>\n",
       "      <td>5.510312</td>\n",
       "      <td>5.544849</td>\n",
       "      <td>1204.493613</td>\n",
       "      <td>0.095046</td>\n",
       "      <td>0.016536</td>\n",
       "      <td>0.015932</td>\n",
       "      <td>...</td>\n",
       "      <td>0.082369</td>\n",
       "      <td>0.138077</td>\n",
       "      <td>0.182975</td>\n",
       "      <td>0.489637</td>\n",
       "      <td>0.473947</td>\n",
       "      <td>0.489637</td>\n",
       "      <td>0.282180</td>\n",
       "      <td>0.471590</td>\n",
       "      <td>0.462347</td>\n",
       "      <td>279912.990415</td>\n",
       "    </tr>\n",
       "    <tr>\n",
       "      <th>min</th>\n",
       "      <td>8.000000</td>\n",
       "      <td>105.000000</td>\n",
       "      <td>252.000000</td>\n",
       "      <td>0.000000</td>\n",
       "      <td>0.000000</td>\n",
       "      <td>0.000000</td>\n",
       "      <td>7282.190000</td>\n",
       "      <td>0.547000</td>\n",
       "      <td>0.047000</td>\n",
       "      <td>0.028000</td>\n",
       "      <td>...</td>\n",
       "      <td>0.000000</td>\n",
       "      <td>0.000000</td>\n",
       "      <td>0.000000</td>\n",
       "      <td>0.000000</td>\n",
       "      <td>0.000000</td>\n",
       "      <td>0.000000</td>\n",
       "      <td>0.000000</td>\n",
       "      <td>0.000000</td>\n",
       "      <td>0.000000</td>\n",
       "      <td>10303.000000</td>\n",
       "    </tr>\n",
       "    <tr>\n",
       "      <th>25%</th>\n",
       "      <td>326.500000</td>\n",
       "      <td>584.500000</td>\n",
       "      <td>837.000000</td>\n",
       "      <td>16.000000</td>\n",
       "      <td>17.000000</td>\n",
       "      <td>16.000000</td>\n",
       "      <td>8362.900000</td>\n",
       "      <td>0.611000</td>\n",
       "      <td>0.069000</td>\n",
       "      <td>0.071000</td>\n",
       "      <td>...</td>\n",
       "      <td>0.000000</td>\n",
       "      <td>0.000000</td>\n",
       "      <td>0.000000</td>\n",
       "      <td>0.000000</td>\n",
       "      <td>0.000000</td>\n",
       "      <td>0.000000</td>\n",
       "      <td>0.000000</td>\n",
       "      <td>0.000000</td>\n",
       "      <td>0.000000</td>\n",
       "      <td>280330.000000</td>\n",
       "    </tr>\n",
       "    <tr>\n",
       "      <th>50%</th>\n",
       "      <td>783.500000</td>\n",
       "      <td>810.000000</td>\n",
       "      <td>848.000000</td>\n",
       "      <td>19.000000</td>\n",
       "      <td>20.000000</td>\n",
       "      <td>19.000000</td>\n",
       "      <td>8820.080000</td>\n",
       "      <td>0.626000</td>\n",
       "      <td>0.080500</td>\n",
       "      <td>0.081000</td>\n",
       "      <td>...</td>\n",
       "      <td>0.000000</td>\n",
       "      <td>0.000000</td>\n",
       "      <td>0.000000</td>\n",
       "      <td>0.000000</td>\n",
       "      <td>0.000000</td>\n",
       "      <td>0.000000</td>\n",
       "      <td>0.000000</td>\n",
       "      <td>0.000000</td>\n",
       "      <td>0.000000</td>\n",
       "      <td>490380.000000</td>\n",
       "    </tr>\n",
       "    <tr>\n",
       "      <th>75%</th>\n",
       "      <td>1221.250000</td>\n",
       "      <td>974.000000</td>\n",
       "      <td>853.000000</td>\n",
       "      <td>23.000000</td>\n",
       "      <td>23.000000</td>\n",
       "      <td>22.000000</td>\n",
       "      <td>9405.800000</td>\n",
       "      <td>0.655000</td>\n",
       "      <td>0.089000</td>\n",
       "      <td>0.091000</td>\n",
       "      <td>...</td>\n",
       "      <td>0.000000</td>\n",
       "      <td>0.000000</td>\n",
       "      <td>0.000000</td>\n",
       "      <td>1.000000</td>\n",
       "      <td>1.000000</td>\n",
       "      <td>1.000000</td>\n",
       "      <td>0.000000</td>\n",
       "      <td>1.000000</td>\n",
       "      <td>1.000000</td>\n",
       "      <td>761304.000000</td>\n",
       "    </tr>\n",
       "    <tr>\n",
       "      <th>max</th>\n",
       "      <td>2966.000000</td>\n",
       "      <td>1852.000000</td>\n",
       "      <td>860.000000</td>\n",
       "      <td>32.000000</td>\n",
       "      <td>35.000000</td>\n",
       "      <td>37.000000</td>\n",
       "      <td>17801.850000</td>\n",
       "      <td>0.878000</td>\n",
       "      <td>0.153000</td>\n",
       "      <td>0.143000</td>\n",
       "      <td>...</td>\n",
       "      <td>1.000000</td>\n",
       "      <td>1.000000</td>\n",
       "      <td>1.000000</td>\n",
       "      <td>1.000000</td>\n",
       "      <td>1.000000</td>\n",
       "      <td>1.000000</td>\n",
       "      <td>1.000000</td>\n",
       "      <td>1.000000</td>\n",
       "      <td>1.000000</td>\n",
       "      <td>995330.000000</td>\n",
       "    </tr>\n",
       "  </tbody>\n",
       "</table>\n",
       "<p>8 rows × 287 columns</p>\n",
       "</div>"
      ],
      "text/plain": [
       "       student_num  lea_avg_student_num  st_avg_student_num  Biology_Size  \\\n",
       "count  1904.000000          1904.000000         1904.000000   1904.000000   \n",
       "mean    849.853466           830.111870          828.354517     18.629727   \n",
       "std     588.307262           357.643945          105.106371      5.607309   \n",
       "min       8.000000           105.000000          252.000000      0.000000   \n",
       "25%     326.500000           584.500000          837.000000     16.000000   \n",
       "50%     783.500000           810.000000          848.000000     19.000000   \n",
       "75%    1221.250000           974.000000          853.000000     23.000000   \n",
       "max    2966.000000          1852.000000          860.000000     32.000000   \n",
       "\n",
       "       English II_Size  Math I_Size  lea_total_expense_num  \\\n",
       "count      1904.000000  1904.000000            1904.000000   \n",
       "mean         19.313550    18.243172            9093.345021   \n",
       "std           5.510312     5.544849            1204.493613   \n",
       "min           0.000000     0.000000            7282.190000   \n",
       "25%          17.000000    16.000000            8362.900000   \n",
       "50%          20.000000    19.000000            8820.080000   \n",
       "75%          23.000000    22.000000            9405.800000   \n",
       "max          35.000000    37.000000           17801.850000   \n",
       "\n",
       "       lea_salary_expense_pct  lea_services_expense_pct  \\\n",
       "count             1904.000000               1904.000000   \n",
       "mean                 0.670409                  0.081126   \n",
       "std                  0.095046                  0.016536   \n",
       "min                  0.547000                  0.047000   \n",
       "25%                  0.611000                  0.069000   \n",
       "50%                  0.626000                  0.080500   \n",
       "75%                  0.655000                  0.089000   \n",
       "max                  0.878000                  0.153000   \n",
       "\n",
       "       lea_supplies_expense_pct      ...        grade_range_cd_PK-12  \\\n",
       "count               1904.000000      ...                 1904.000000   \n",
       "mean                   0.081555      ...                    0.006828   \n",
       "std                    0.015932      ...                    0.082369   \n",
       "min                    0.028000      ...                    0.000000   \n",
       "25%                    0.071000      ...                    0.000000   \n",
       "50%                    0.081000      ...                    0.000000   \n",
       "75%                    0.091000      ...                    0.000000   \n",
       "max                    0.143000      ...                    1.000000   \n",
       "\n",
       "       calendar_type_txt_Regular School, Year-Round Calendar  esea_status_P  \\\n",
       "count                                        1904.000000        1904.000000   \n",
       "mean                                            0.019433           0.034664   \n",
       "std                                             0.138077           0.182975   \n",
       "min                                             0.000000           0.000000   \n",
       "25%                                             0.000000           0.000000   \n",
       "50%                                             0.000000           0.000000   \n",
       "75%                                             0.000000           0.000000   \n",
       "max                                             1.000000           1.000000   \n",
       "\n",
       "       Grad_project_status_Y  SPG Grade_B  SPG Grade_C  SPG Grade_D  \\\n",
       "count            1904.000000  1904.000000  1904.000000  1904.000000   \n",
       "mean                0.398109     0.340336     0.398109     0.087185   \n",
       "std                 0.489637     0.473947     0.489637     0.282180   \n",
       "min                 0.000000     0.000000     0.000000     0.000000   \n",
       "25%                 0.000000     0.000000     0.000000     0.000000   \n",
       "50%                 0.000000     0.000000     0.000000     0.000000   \n",
       "75%                 1.000000     1.000000     1.000000     0.000000   \n",
       "max                 1.000000     1.000000     1.000000     1.000000   \n",
       "\n",
       "       EVAAS Growth Status_Met  EVAAS Growth Status_NotMet      unit_code  \n",
       "count              1904.000000                 1904.000000    1904.000000  \n",
       "mean                  0.333508                    0.309349  510742.404937  \n",
       "std                   0.471590                    0.462347  279912.990415  \n",
       "min                   0.000000                    0.000000   10303.000000  \n",
       "25%                   0.000000                    0.000000  280330.000000  \n",
       "50%                   0.000000                    0.000000  490380.000000  \n",
       "75%                   1.000000                    1.000000  761304.000000  \n",
       "max                   1.000000                    1.000000  995330.000000  \n",
       "\n",
       "[8 rows x 287 columns]"
      ]
     },
     "execution_count": 3,
     "metadata": {},
     "output_type": "execute_result"
    }
   ],
   "source": [
    "#This is the critical threshold\n",
    "CRITICAL_NA = .75\n",
    "\n",
    "#With this we check if the column is less than 75% non-NA, if it is greater than 75% non-NA\n",
    "#We replace the NA with the median of the column, otherwise we replace the value with 0\n",
    "\n",
    "imputed_school_data = school_data.apply(lambda col: col.fillna(0) if col.count()/col.shape[0]<CRITICAL_NA else col.fillna(col.median()),axis=0)\n",
    "\n",
    "\n",
    "#Print the shape and basic statistics for school_data\n",
    "print(school_data.shape)\n",
    "school_data.describe()\n",
    "\n",
    "\n",
    "#This is the master data set! "
   ]
  },
  {
   "cell_type": "code",
   "execution_count": 167,
   "metadata": {},
   "outputs": [
    {
     "data": {
      "text/html": [
       "<div>\n",
       "<style scoped>\n",
       "    .dataframe tbody tr th:only-of-type {\n",
       "        vertical-align: middle;\n",
       "    }\n",
       "\n",
       "    .dataframe tbody tr th {\n",
       "        vertical-align: top;\n",
       "    }\n",
       "\n",
       "    .dataframe thead th {\n",
       "        text-align: right;\n",
       "    }\n",
       "</style>\n",
       "<table border=\"1\" class=\"dataframe\">\n",
       "  <thead>\n",
       "    <tr style=\"text-align: right;\">\n",
       "      <th></th>\n",
       "      <th>student_num</th>\n",
       "      <th>lea_avg_student_num</th>\n",
       "      <th>st_avg_student_num</th>\n",
       "      <th>Biology_Size</th>\n",
       "      <th>English II_Size</th>\n",
       "      <th>Math I_Size</th>\n",
       "      <th>lea_total_expense_num</th>\n",
       "      <th>lea_salary_expense_pct</th>\n",
       "      <th>lea_services_expense_pct</th>\n",
       "      <th>lea_supplies_expense_pct</th>\n",
       "      <th>...</th>\n",
       "      <th>calendar_type_txt_Regular School, Year-Round Calendar</th>\n",
       "      <th>esea_status_P</th>\n",
       "      <th>Grad_project_status_Y</th>\n",
       "      <th>SPG Grade_B</th>\n",
       "      <th>SPG Grade_C</th>\n",
       "      <th>SPG Grade_D</th>\n",
       "      <th>EVAAS Growth Status_Met</th>\n",
       "      <th>EVAAS Growth Status_NotMet</th>\n",
       "      <th>unit_code</th>\n",
       "      <th>Year</th>\n",
       "    </tr>\n",
       "  </thead>\n",
       "  <tbody>\n",
       "    <tr>\n",
       "      <th>576</th>\n",
       "      <td>1911.0</td>\n",
       "      <td>957.0</td>\n",
       "      <td>848.0</td>\n",
       "      <td>20.0</td>\n",
       "      <td>21.0</td>\n",
       "      <td>15.0</td>\n",
       "      <td>8405.83</td>\n",
       "      <td>0.648</td>\n",
       "      <td>0.061</td>\n",
       "      <td>0.063</td>\n",
       "      <td>...</td>\n",
       "      <td>0</td>\n",
       "      <td>0</td>\n",
       "      <td>0</td>\n",
       "      <td>0</td>\n",
       "      <td>0</td>\n",
       "      <td>0</td>\n",
       "      <td>0</td>\n",
       "      <td>0</td>\n",
       "      <td>260318</td>\n",
       "      <td>2015</td>\n",
       "    </tr>\n",
       "    <tr>\n",
       "      <th>408</th>\n",
       "      <td>708.0</td>\n",
       "      <td>526.0</td>\n",
       "      <td>837.0</td>\n",
       "      <td>20.0</td>\n",
       "      <td>17.0</td>\n",
       "      <td>19.0</td>\n",
       "      <td>9950.13</td>\n",
       "      <td>0.614</td>\n",
       "      <td>0.095</td>\n",
       "      <td>0.077</td>\n",
       "      <td>...</td>\n",
       "      <td>0</td>\n",
       "      <td>0</td>\n",
       "      <td>1</td>\n",
       "      <td>1</td>\n",
       "      <td>0</td>\n",
       "      <td>0</td>\n",
       "      <td>0</td>\n",
       "      <td>1</td>\n",
       "      <td>880308</td>\n",
       "      <td>2014</td>\n",
       "    </tr>\n",
       "    <tr>\n",
       "      <th>913</th>\n",
       "      <td>2177.0</td>\n",
       "      <td>1603.0</td>\n",
       "      <td>848.0</td>\n",
       "      <td>25.0</td>\n",
       "      <td>29.0</td>\n",
       "      <td>24.0</td>\n",
       "      <td>8362.90</td>\n",
       "      <td>0.648</td>\n",
       "      <td>0.080</td>\n",
       "      <td>0.054</td>\n",
       "      <td>...</td>\n",
       "      <td>0</td>\n",
       "      <td>0</td>\n",
       "      <td>0</td>\n",
       "      <td>1</td>\n",
       "      <td>0</td>\n",
       "      <td>0</td>\n",
       "      <td>0</td>\n",
       "      <td>0</td>\n",
       "      <td>920495</td>\n",
       "      <td>2015</td>\n",
       "    </tr>\n",
       "    <tr>\n",
       "      <th>1845</th>\n",
       "      <td>828.0</td>\n",
       "      <td>1229.0</td>\n",
       "      <td>853.0</td>\n",
       "      <td>26.0</td>\n",
       "      <td>29.0</td>\n",
       "      <td>24.0</td>\n",
       "      <td>8402.80</td>\n",
       "      <td>0.852</td>\n",
       "      <td>0.067</td>\n",
       "      <td>0.075</td>\n",
       "      <td>...</td>\n",
       "      <td>0</td>\n",
       "      <td>0</td>\n",
       "      <td>0</td>\n",
       "      <td>0</td>\n",
       "      <td>0</td>\n",
       "      <td>0</td>\n",
       "      <td>0</td>\n",
       "      <td>0</td>\n",
       "      <td>900366</td>\n",
       "      <td>2017</td>\n",
       "    </tr>\n",
       "    <tr>\n",
       "      <th>1234</th>\n",
       "      <td>2548.0</td>\n",
       "      <td>1493.0</td>\n",
       "      <td>860.0</td>\n",
       "      <td>26.0</td>\n",
       "      <td>26.0</td>\n",
       "      <td>31.0</td>\n",
       "      <td>8521.71</td>\n",
       "      <td>0.633</td>\n",
       "      <td>0.084</td>\n",
       "      <td>0.073</td>\n",
       "      <td>...</td>\n",
       "      <td>0</td>\n",
       "      <td>0</td>\n",
       "      <td>1</td>\n",
       "      <td>0</td>\n",
       "      <td>0</td>\n",
       "      <td>0</td>\n",
       "      <td>0</td>\n",
       "      <td>0</td>\n",
       "      <td>600312</td>\n",
       "      <td>2016</td>\n",
       "    </tr>\n",
       "  </tbody>\n",
       "</table>\n",
       "<p>5 rows × 288 columns</p>\n",
       "</div>"
      ],
      "text/plain": [
       "      student_num  lea_avg_student_num  st_avg_student_num  Biology_Size  \\\n",
       "576        1911.0                957.0               848.0          20.0   \n",
       "408         708.0                526.0               837.0          20.0   \n",
       "913        2177.0               1603.0               848.0          25.0   \n",
       "1845        828.0               1229.0               853.0          26.0   \n",
       "1234       2548.0               1493.0               860.0          26.0   \n",
       "\n",
       "      English II_Size  Math I_Size  lea_total_expense_num  \\\n",
       "576              21.0         15.0                8405.83   \n",
       "408              17.0         19.0                9950.13   \n",
       "913              29.0         24.0                8362.90   \n",
       "1845             29.0         24.0                8402.80   \n",
       "1234             26.0         31.0                8521.71   \n",
       "\n",
       "      lea_salary_expense_pct  lea_services_expense_pct  \\\n",
       "576                    0.648                     0.061   \n",
       "408                    0.614                     0.095   \n",
       "913                    0.648                     0.080   \n",
       "1845                   0.852                     0.067   \n",
       "1234                   0.633                     0.084   \n",
       "\n",
       "      lea_supplies_expense_pct  ...   \\\n",
       "576                      0.063  ...    \n",
       "408                      0.077  ...    \n",
       "913                      0.054  ...    \n",
       "1845                     0.075  ...    \n",
       "1234                     0.073  ...    \n",
       "\n",
       "      calendar_type_txt_Regular School, Year-Round Calendar  esea_status_P  \\\n",
       "576                                                   0                  0   \n",
       "408                                                   0                  0   \n",
       "913                                                   0                  0   \n",
       "1845                                                  0                  0   \n",
       "1234                                                  0                  0   \n",
       "\n",
       "      Grad_project_status_Y  SPG Grade_B  SPG Grade_C  SPG Grade_D  \\\n",
       "576                       0            0            0            0   \n",
       "408                       1            1            0            0   \n",
       "913                       0            1            0            0   \n",
       "1845                      0            0            0            0   \n",
       "1234                      1            0            0            0   \n",
       "\n",
       "      EVAAS Growth Status_Met  EVAAS Growth Status_NotMet  unit_code  Year  \n",
       "576                         0                           0     260318  2015  \n",
       "408                         0                           1     880308  2014  \n",
       "913                         0                           0     920495  2015  \n",
       "1845                        0                           0     900366  2017  \n",
       "1234                        0                           0     600312  2016  \n",
       "\n",
       "[5 rows x 288 columns]"
      ]
     },
     "execution_count": 167,
     "metadata": {},
     "output_type": "execute_result"
    }
   ],
   "source": [
    "school_data.sample(5)"
   ]
  },
  {
   "cell_type": "markdown",
   "metadata": {},
   "source": [
    "### Get the types of the features in the data frame\n",
    "We want to see the data type of each column of the original school dataset. Depending on whether we feel the "
   ]
  },
  {
   "cell_type": "code",
   "execution_count": 168,
   "metadata": {},
   "outputs": [
    {
     "name": "stdout",
     "output_type": "stream",
     "text": [
      "<class 'pandas.core.frame.DataFrame'>\n",
      "RangeIndex: 1904 entries, 0 to 1903\n",
      "Columns: 288 entries, student_num to Year\n",
      "dtypes: float64(266), int64(21), object(1)\n",
      "memory usage: 4.2+ MB\n",
      "\n",
      "\n",
      "student_num                                              float64\n",
      "lea_avg_student_num                                      float64\n",
      "st_avg_student_num                                       float64\n",
      "Biology_Size                                             float64\n",
      "English II_Size                                          float64\n",
      "Math I_Size                                              float64\n",
      "lea_total_expense_num                                    float64\n",
      "lea_salary_expense_pct                                   float64\n",
      "lea_services_expense_pct                                 float64\n",
      "lea_supplies_expense_pct                                 float64\n",
      "lea_instruct_equip_exp_pct                               float64\n",
      "lea_federal_perpupil_num                                 float64\n",
      "lea_local_perpupil_num                                   float64\n",
      "lea_state_perpupil_num                                   float64\n",
      "SPG Score                                                float64\n",
      "EVAAS Growth Score                                       float64\n",
      "English II Score                                         float64\n",
      "Biology Score                                            float64\n",
      "ACT WorkKeys Score                                       float64\n",
      "ACTMath_ACTBenchmark_All                                 float64\n",
      "ACTScience_ACTBenchmark_All                              float64\n",
      "ACTWriting_ACTBenchmark_All                              float64\n",
      "EOCSubjects_CACR_All                                     float64\n",
      "GraduationRate_5yr_All                                   float64\n",
      "ACTCompositeScore_UNCMin_Female                          float64\n",
      "ACTEnglish_ACTBenchmark_Female                           float64\n",
      "ACTWorkKeys_SilverPlus_Female                            float64\n",
      "EOCEnglish2_CACR_Female                                  float64\n",
      "GraduationRate_4yr_Female                                float64\n",
      "GraduationRate_5yr_Female                                float64\n",
      "                                                          ...   \n",
      "MinorityMalePct                                          float64\n",
      "MinorityPct                                              float64\n",
      "PacificIslandFemalePct                                   float64\n",
      "PacificIslandMalePct                                     float64\n",
      "PacificIslandPct                                         float64\n",
      "TwoOrMoreFemalePct                                       float64\n",
      "TwoOrMoreMalePct                                         float64\n",
      "TwoOrMorePct                                             float64\n",
      "grade_range_cd_11-12                                       int64\n",
      "grade_range_cd_6-12                                        int64\n",
      "grade_range_cd_6-13                                        int64\n",
      "grade_range_cd_7-12                                        int64\n",
      "grade_range_cd_7-13                                        int64\n",
      "grade_range_cd_8-12                                        int64\n",
      "grade_range_cd_9-11                                        int64\n",
      "grade_range_cd_9-12                                        int64\n",
      "grade_range_cd_9-13                                        int64\n",
      "grade_range_cd_9-9                                         int64\n",
      "grade_range_cd_K-12                                        int64\n",
      "grade_range_cd_PK-12                                       int64\n",
      "calendar_type_txt_Regular School, Year-Round Calendar      int64\n",
      "esea_status_P                                              int64\n",
      "Grad_project_status_Y                                      int64\n",
      "SPG Grade_B                                                int64\n",
      "SPG Grade_C                                                int64\n",
      "SPG Grade_D                                                int64\n",
      "EVAAS Growth Status_Met                                    int64\n",
      "EVAAS Growth Status_NotMet                                 int64\n",
      "unit_code                                                  int64\n",
      "Year                                                      object\n",
      "Length: 288, dtype: object\n"
     ]
    }
   ],
   "source": [
    "school_data.info()\n",
    "print('\\n')\n",
    "print(school_data.dtypes)"
   ]
  },
  {
   "cell_type": "code",
   "execution_count": 169,
   "metadata": {},
   "outputs": [],
   "source": [
    "# Set unit_code to string. We don't want this to be manipulated as a number\n",
    "# Rather we want to ensure this is taken as a categorical variable\n",
    "school_data['unit_code']=school_data['unit_code'].astype(str)"
   ]
  },
  {
   "cell_type": "code",
   "execution_count": 170,
   "metadata": {},
   "outputs": [],
   "source": [
    "# Setting all columns that should be an integer to \n",
    "for column in imputed_school_data:\n",
    "    if imputed_school_data[column].dtype == 'float':\n",
    "        if np.array_equal(imputed_school_data[column], imputed_school_data[column].astype(int)):\n",
    "            imputed_school_data[column] = imputed_school_data[column].astype(int)"
   ]
  },
  {
   "cell_type": "code",
   "execution_count": 171,
   "metadata": {},
   "outputs": [
    {
     "name": "stdout",
     "output_type": "stream",
     "text": [
      "<class 'pandas.core.frame.DataFrame'>\n",
      "RangeIndex: 1904 entries, 0 to 1903\n",
      "Columns: 288 entries, student_num to Year\n",
      "dtypes: float64(252), int64(35), object(1)\n",
      "memory usage: 4.2+ MB\n",
      "\n",
      "\n",
      "student_num                                                int64\n",
      "lea_avg_student_num                                        int64\n",
      "st_avg_student_num                                         int64\n",
      "Biology_Size                                               int64\n",
      "English II_Size                                            int64\n",
      "Math I_Size                                                int64\n",
      "lea_total_expense_num                                    float64\n",
      "lea_salary_expense_pct                                   float64\n",
      "lea_services_expense_pct                                 float64\n",
      "lea_supplies_expense_pct                                 float64\n",
      "lea_instruct_equip_exp_pct                               float64\n",
      "lea_federal_perpupil_num                                 float64\n",
      "lea_local_perpupil_num                                   float64\n",
      "lea_state_perpupil_num                                   float64\n",
      "SPG Score                                                  int64\n",
      "EVAAS Growth Score                                       float64\n",
      "English II Score                                           int64\n",
      "Biology Score                                              int64\n",
      "ACT WorkKeys Score                                         int64\n",
      "ACTMath_ACTBenchmark_All                                 float64\n",
      "ACTScience_ACTBenchmark_All                              float64\n",
      "ACTWriting_ACTBenchmark_All                              float64\n",
      "EOCSubjects_CACR_All                                     float64\n",
      "GraduationRate_5yr_All                                   float64\n",
      "ACTCompositeScore_UNCMin_Female                          float64\n",
      "ACTEnglish_ACTBenchmark_Female                           float64\n",
      "ACTWorkKeys_SilverPlus_Female                            float64\n",
      "EOCEnglish2_CACR_Female                                  float64\n",
      "GraduationRate_4yr_Female                                float64\n",
      "GraduationRate_5yr_Female                                float64\n",
      "                                                          ...   \n",
      "MinorityMalePct                                          float64\n",
      "MinorityPct                                              float64\n",
      "PacificIslandFemalePct                                   float64\n",
      "PacificIslandMalePct                                     float64\n",
      "PacificIslandPct                                         float64\n",
      "TwoOrMoreFemalePct                                       float64\n",
      "TwoOrMoreMalePct                                         float64\n",
      "TwoOrMorePct                                             float64\n",
      "grade_range_cd_11-12                                       int64\n",
      "grade_range_cd_6-12                                        int64\n",
      "grade_range_cd_6-13                                        int64\n",
      "grade_range_cd_7-12                                        int64\n",
      "grade_range_cd_7-13                                        int64\n",
      "grade_range_cd_8-12                                        int64\n",
      "grade_range_cd_9-11                                        int64\n",
      "grade_range_cd_9-12                                        int64\n",
      "grade_range_cd_9-13                                        int64\n",
      "grade_range_cd_9-9                                         int64\n",
      "grade_range_cd_K-12                                        int64\n",
      "grade_range_cd_PK-12                                       int64\n",
      "calendar_type_txt_Regular School, Year-Round Calendar      int64\n",
      "esea_status_P                                              int64\n",
      "Grad_project_status_Y                                      int64\n",
      "SPG Grade_B                                                int64\n",
      "SPG Grade_C                                                int64\n",
      "SPG Grade_D                                                int64\n",
      "EVAAS Growth Status_Met                                    int64\n",
      "EVAAS Growth Status_NotMet                                 int64\n",
      "unit_code                                                  int64\n",
      "Year                                                      object\n",
      "Length: 288, dtype: object\n"
     ]
    }
   ],
   "source": [
    "imputed_school_data.info()\n",
    "print('\\n')\n",
    "print(imputed_school_data.dtypes)"
   ]
  },
  {
   "cell_type": "code",
   "execution_count": 4,
   "metadata": {},
   "outputs": [
    {
     "data": {
      "text/html": [
       "<div>\n",
       "<style scoped>\n",
       "    .dataframe tbody tr th:only-of-type {\n",
       "        vertical-align: middle;\n",
       "    }\n",
       "\n",
       "    .dataframe tbody tr th {\n",
       "        vertical-align: top;\n",
       "    }\n",
       "\n",
       "    .dataframe thead th {\n",
       "        text-align: right;\n",
       "    }\n",
       "</style>\n",
       "<table border=\"1\" class=\"dataframe\">\n",
       "  <thead>\n",
       "    <tr style=\"text-align: right;\">\n",
       "      <th></th>\n",
       "      <th>student_num</th>\n",
       "      <th>lea_avg_student_num</th>\n",
       "      <th>st_avg_student_num</th>\n",
       "      <th>Biology_Size</th>\n",
       "      <th>English II_Size</th>\n",
       "      <th>Math I_Size</th>\n",
       "      <th>lea_total_expense_num</th>\n",
       "      <th>lea_salary_expense_pct</th>\n",
       "      <th>lea_services_expense_pct</th>\n",
       "      <th>lea_supplies_expense_pct</th>\n",
       "      <th>...</th>\n",
       "      <th>esea_status_P</th>\n",
       "      <th>Grad_project_status_Y</th>\n",
       "      <th>SPG Grade_B</th>\n",
       "      <th>SPG Grade_C</th>\n",
       "      <th>SPG Grade_D</th>\n",
       "      <th>EVAAS Growth Status_Met</th>\n",
       "      <th>EVAAS Growth Status_NotMet</th>\n",
       "      <th>unit_code</th>\n",
       "      <th>SAT_Score_Above1000</th>\n",
       "      <th>SAT_participation_number</th>\n",
       "    </tr>\n",
       "  </thead>\n",
       "  <tbody>\n",
       "    <tr>\n",
       "      <th>count</th>\n",
       "      <td>1904.000000</td>\n",
       "      <td>1904.000000</td>\n",
       "      <td>1904.000000</td>\n",
       "      <td>1904.000000</td>\n",
       "      <td>1904.000000</td>\n",
       "      <td>1904.000000</td>\n",
       "      <td>1904.000000</td>\n",
       "      <td>1904.000000</td>\n",
       "      <td>1904.000000</td>\n",
       "      <td>1904.000000</td>\n",
       "      <td>...</td>\n",
       "      <td>1904.000000</td>\n",
       "      <td>1904.000000</td>\n",
       "      <td>1904.000000</td>\n",
       "      <td>1904.000000</td>\n",
       "      <td>1904.000000</td>\n",
       "      <td>1904.000000</td>\n",
       "      <td>1904.000000</td>\n",
       "      <td>1904.000000</td>\n",
       "      <td>1904.000000</td>\n",
       "      <td>1904.000000</td>\n",
       "    </tr>\n",
       "    <tr>\n",
       "      <th>mean</th>\n",
       "      <td>849.853466</td>\n",
       "      <td>830.111870</td>\n",
       "      <td>828.354517</td>\n",
       "      <td>18.629727</td>\n",
       "      <td>19.313550</td>\n",
       "      <td>18.243172</td>\n",
       "      <td>9093.345021</td>\n",
       "      <td>0.670409</td>\n",
       "      <td>0.081126</td>\n",
       "      <td>0.081555</td>\n",
       "      <td>...</td>\n",
       "      <td>0.034664</td>\n",
       "      <td>0.398109</td>\n",
       "      <td>0.340336</td>\n",
       "      <td>0.398109</td>\n",
       "      <td>0.087185</td>\n",
       "      <td>0.333508</td>\n",
       "      <td>0.309349</td>\n",
       "      <td>510742.404937</td>\n",
       "      <td>0.435399</td>\n",
       "      <td>411.521127</td>\n",
       "    </tr>\n",
       "    <tr>\n",
       "      <th>std</th>\n",
       "      <td>588.307262</td>\n",
       "      <td>357.643945</td>\n",
       "      <td>105.106371</td>\n",
       "      <td>5.607309</td>\n",
       "      <td>5.510312</td>\n",
       "      <td>5.544849</td>\n",
       "      <td>1204.493613</td>\n",
       "      <td>0.095046</td>\n",
       "      <td>0.016536</td>\n",
       "      <td>0.015932</td>\n",
       "      <td>...</td>\n",
       "      <td>0.182975</td>\n",
       "      <td>0.489637</td>\n",
       "      <td>0.473947</td>\n",
       "      <td>0.489637</td>\n",
       "      <td>0.282180</td>\n",
       "      <td>0.471590</td>\n",
       "      <td>0.462347</td>\n",
       "      <td>279912.990415</td>\n",
       "      <td>0.495939</td>\n",
       "      <td>379.676251</td>\n",
       "    </tr>\n",
       "    <tr>\n",
       "      <th>min</th>\n",
       "      <td>8.000000</td>\n",
       "      <td>105.000000</td>\n",
       "      <td>252.000000</td>\n",
       "      <td>0.000000</td>\n",
       "      <td>0.000000</td>\n",
       "      <td>0.000000</td>\n",
       "      <td>7282.190000</td>\n",
       "      <td>0.547000</td>\n",
       "      <td>0.047000</td>\n",
       "      <td>0.028000</td>\n",
       "      <td>...</td>\n",
       "      <td>0.000000</td>\n",
       "      <td>0.000000</td>\n",
       "      <td>0.000000</td>\n",
       "      <td>0.000000</td>\n",
       "      <td>0.000000</td>\n",
       "      <td>0.000000</td>\n",
       "      <td>0.000000</td>\n",
       "      <td>10303.000000</td>\n",
       "      <td>0.000000</td>\n",
       "      <td>0.000000</td>\n",
       "    </tr>\n",
       "    <tr>\n",
       "      <th>25%</th>\n",
       "      <td>326.500000</td>\n",
       "      <td>584.500000</td>\n",
       "      <td>837.000000</td>\n",
       "      <td>16.000000</td>\n",
       "      <td>17.000000</td>\n",
       "      <td>16.000000</td>\n",
       "      <td>8362.900000</td>\n",
       "      <td>0.611000</td>\n",
       "      <td>0.069000</td>\n",
       "      <td>0.071000</td>\n",
       "      <td>...</td>\n",
       "      <td>0.000000</td>\n",
       "      <td>0.000000</td>\n",
       "      <td>0.000000</td>\n",
       "      <td>0.000000</td>\n",
       "      <td>0.000000</td>\n",
       "      <td>0.000000</td>\n",
       "      <td>0.000000</td>\n",
       "      <td>280330.000000</td>\n",
       "      <td>0.000000</td>\n",
       "      <td>133.605000</td>\n",
       "    </tr>\n",
       "    <tr>\n",
       "      <th>50%</th>\n",
       "      <td>783.500000</td>\n",
       "      <td>810.000000</td>\n",
       "      <td>848.000000</td>\n",
       "      <td>19.000000</td>\n",
       "      <td>20.000000</td>\n",
       "      <td>19.000000</td>\n",
       "      <td>8820.080000</td>\n",
       "      <td>0.626000</td>\n",
       "      <td>0.080500</td>\n",
       "      <td>0.081000</td>\n",
       "      <td>...</td>\n",
       "      <td>0.000000</td>\n",
       "      <td>0.000000</td>\n",
       "      <td>0.000000</td>\n",
       "      <td>0.000000</td>\n",
       "      <td>0.000000</td>\n",
       "      <td>0.000000</td>\n",
       "      <td>0.000000</td>\n",
       "      <td>490380.000000</td>\n",
       "      <td>0.000000</td>\n",
       "      <td>314.703500</td>\n",
       "    </tr>\n",
       "    <tr>\n",
       "      <th>75%</th>\n",
       "      <td>1221.250000</td>\n",
       "      <td>974.000000</td>\n",
       "      <td>853.000000</td>\n",
       "      <td>23.000000</td>\n",
       "      <td>23.000000</td>\n",
       "      <td>22.000000</td>\n",
       "      <td>9405.800000</td>\n",
       "      <td>0.655000</td>\n",
       "      <td>0.089000</td>\n",
       "      <td>0.091000</td>\n",
       "      <td>...</td>\n",
       "      <td>0.000000</td>\n",
       "      <td>1.000000</td>\n",
       "      <td>1.000000</td>\n",
       "      <td>1.000000</td>\n",
       "      <td>0.000000</td>\n",
       "      <td>1.000000</td>\n",
       "      <td>1.000000</td>\n",
       "      <td>761304.000000</td>\n",
       "      <td>1.000000</td>\n",
       "      <td>565.942500</td>\n",
       "    </tr>\n",
       "    <tr>\n",
       "      <th>max</th>\n",
       "      <td>2966.000000</td>\n",
       "      <td>1852.000000</td>\n",
       "      <td>860.000000</td>\n",
       "      <td>32.000000</td>\n",
       "      <td>35.000000</td>\n",
       "      <td>37.000000</td>\n",
       "      <td>17801.850000</td>\n",
       "      <td>0.878000</td>\n",
       "      <td>0.153000</td>\n",
       "      <td>0.143000</td>\n",
       "      <td>...</td>\n",
       "      <td>1.000000</td>\n",
       "      <td>1.000000</td>\n",
       "      <td>1.000000</td>\n",
       "      <td>1.000000</td>\n",
       "      <td>1.000000</td>\n",
       "      <td>1.000000</td>\n",
       "      <td>1.000000</td>\n",
       "      <td>995330.000000</td>\n",
       "      <td>1.000000</td>\n",
       "      <td>2358.030000</td>\n",
       "    </tr>\n",
       "  </tbody>\n",
       "</table>\n",
       "<p>8 rows × 289 columns</p>\n",
       "</div>"
      ],
      "text/plain": [
       "       student_num  lea_avg_student_num  st_avg_student_num  Biology_Size  \\\n",
       "count  1904.000000          1904.000000         1904.000000   1904.000000   \n",
       "mean    849.853466           830.111870          828.354517     18.629727   \n",
       "std     588.307262           357.643945          105.106371      5.607309   \n",
       "min       8.000000           105.000000          252.000000      0.000000   \n",
       "25%     326.500000           584.500000          837.000000     16.000000   \n",
       "50%     783.500000           810.000000          848.000000     19.000000   \n",
       "75%    1221.250000           974.000000          853.000000     23.000000   \n",
       "max    2966.000000          1852.000000          860.000000     32.000000   \n",
       "\n",
       "       English II_Size  Math I_Size  lea_total_expense_num  \\\n",
       "count      1904.000000  1904.000000            1904.000000   \n",
       "mean         19.313550    18.243172            9093.345021   \n",
       "std           5.510312     5.544849            1204.493613   \n",
       "min           0.000000     0.000000            7282.190000   \n",
       "25%          17.000000    16.000000            8362.900000   \n",
       "50%          20.000000    19.000000            8820.080000   \n",
       "75%          23.000000    22.000000            9405.800000   \n",
       "max          35.000000    37.000000           17801.850000   \n",
       "\n",
       "       lea_salary_expense_pct  lea_services_expense_pct  \\\n",
       "count             1904.000000               1904.000000   \n",
       "mean                 0.670409                  0.081126   \n",
       "std                  0.095046                  0.016536   \n",
       "min                  0.547000                  0.047000   \n",
       "25%                  0.611000                  0.069000   \n",
       "50%                  0.626000                  0.080500   \n",
       "75%                  0.655000                  0.089000   \n",
       "max                  0.878000                  0.153000   \n",
       "\n",
       "       lea_supplies_expense_pct            ...             esea_status_P  \\\n",
       "count               1904.000000            ...               1904.000000   \n",
       "mean                   0.081555            ...                  0.034664   \n",
       "std                    0.015932            ...                  0.182975   \n",
       "min                    0.028000            ...                  0.000000   \n",
       "25%                    0.071000            ...                  0.000000   \n",
       "50%                    0.081000            ...                  0.000000   \n",
       "75%                    0.091000            ...                  0.000000   \n",
       "max                    0.143000            ...                  1.000000   \n",
       "\n",
       "       Grad_project_status_Y  SPG Grade_B  SPG Grade_C  SPG Grade_D  \\\n",
       "count            1904.000000  1904.000000  1904.000000  1904.000000   \n",
       "mean                0.398109     0.340336     0.398109     0.087185   \n",
       "std                 0.489637     0.473947     0.489637     0.282180   \n",
       "min                 0.000000     0.000000     0.000000     0.000000   \n",
       "25%                 0.000000     0.000000     0.000000     0.000000   \n",
       "50%                 0.000000     0.000000     0.000000     0.000000   \n",
       "75%                 1.000000     1.000000     1.000000     0.000000   \n",
       "max                 1.000000     1.000000     1.000000     1.000000   \n",
       "\n",
       "       EVAAS Growth Status_Met  EVAAS Growth Status_NotMet      unit_code  \\\n",
       "count              1904.000000                 1904.000000    1904.000000   \n",
       "mean                  0.333508                    0.309349  510742.404937   \n",
       "std                   0.471590                    0.462347  279912.990415   \n",
       "min                   0.000000                    0.000000   10303.000000   \n",
       "25%                   0.000000                    0.000000  280330.000000   \n",
       "50%                   0.000000                    0.000000  490380.000000   \n",
       "75%                   1.000000                    1.000000  761304.000000   \n",
       "max                   1.000000                    1.000000  995330.000000   \n",
       "\n",
       "       SAT_Score_Above1000  SAT_participation_number  \n",
       "count          1904.000000               1904.000000  \n",
       "mean              0.435399                411.521127  \n",
       "std               0.495939                379.676251  \n",
       "min               0.000000                  0.000000  \n",
       "25%               0.000000                133.605000  \n",
       "50%               0.000000                314.703500  \n",
       "75%               1.000000                565.942500  \n",
       "max               1.000000               2358.030000  \n",
       "\n",
       "[8 rows x 289 columns]"
      ]
     },
     "execution_count": 4,
     "metadata": {},
     "output_type": "execute_result"
    }
   ],
   "source": [
    "# SAT: adding variables: \n",
    "\n",
    "SAT_school_data = imputed_school_data.copy()\n",
    "\n",
    "SAT_school_data['SAT_Score_Above1000'] = SAT_school_data.apply(lambda each_row: 1 if (each_row['sat_avg_score_num']) > 999 else 0,axis=1)\n",
    "SAT_school_data['SAT_participation_number'] = SAT_school_data.apply(lambda each_row: (each_row['sat_participation_pct'])*(each_row['student_num']) ,axis=1)\n",
    "\n",
    "SAT_school_data.describe()\n",
    "\n",
    "\n"
   ]
  },
  {
   "cell_type": "code",
   "execution_count": 5,
   "metadata": {},
   "outputs": [],
   "source": [
    "\n",
    "#replace this section with the above data set. SAT_school_data\n",
    "#------------------------------------------------------------------------------------------\n",
    "\n",
    "\n",
    "#reading in new dataset wrangled using Alteryx. \n",
    "#SAT_Filtered = pd.DataFrame()\n",
    "#SAT_Filtered = pd.read_csv('../Data/School Datasets/HighSchoolCleanFinal.csv', low_memory=False)\n",
    "\n",
    "#SAT_Filtered.describe()\n",
    "\n",
    "\n",
    "#SAT_Score_above1000\t Boolean: SAT score above 1000 or not to get into a decent college in NC. \n",
    "#SAT_participation_number\t Estimate of number of students that took the SAT\n",
    "#Student_Num_College_Ready_SAT\t Estimate of the number of students that can apply to college without SAT score hinderance from that school. \n"
   ]
  },
  {
   "cell_type": "markdown",
   "metadata": {},
   "source": [
    "# Get highly correlated features"
   ]
  },
  {
   "cell_type": "markdown",
   "metadata": {},
   "source": [
    "We are creating a matrix listing all of the variables with greater than 90% correlation."
   ]
  },
  {
   "cell_type": "code",
   "execution_count": 194,
   "metadata": {},
   "outputs": [
    {
     "data": {
      "image/png": "[encoded data removed]",
      "text/plain": [
       "<Figure size 1008x720 with 1 Axes>"
      ]
     },
     "metadata": {},
     "output_type": "display_data"
    }
   ],
   "source": [
    "corr_matrix = imputed_school_data.corr().abs()\n",
    "\n",
    "# Select upper triangle of correlation matrix\n",
    "upper = corr_matrix.where(np.triu(np.ones(corr_matrix.shape), k=1).astype(np.bool))\n",
    "\n",
    "# Find index of feature columns with correlation greater than 0.95\n",
    "highly_correlated = [column for column in upper.columns if any(upper[column] > 0.90)]\n",
    "\n",
    "\n",
    "fig, ax = plt.subplots(figsize=(14,10))\n",
    "ax.set_title('Correlation Matrix of all features with greater than 90% correlation',\n",
    "            fontdict={'fontsize': 15})\n",
    "\n",
    "ax.matshow(imputed_school_data[highly_correlated].corr());\n",
    "ax.set_yticklabels(highly_correlated);\n",
    "ax.set_yticks(np.arange(0, len(highly_correlated), 1.0))\n",
    "plt.show()"
   ]
  },
  {
   "cell_type": "markdown",
   "metadata": {},
   "source": [
    "# 2.a Modeling and Evaluation\n",
    "Using the right evaluation metric for classification system is crucial. Otherwise, it may results in thinking that the model is performing well but in reality, it doesn’t.\n",
    "\n",
    "There are two tasks in this section of “NC Educational Data” project:\n",
    "\n",
    "The first task is to predict a binary classification target, either if the average SAT score of each school is good enough to gets the student to the North Carolina Universities or not. The SAT is a standardized test widely used for college admissions in the United States. For this purpose we have a cut off 1200 out of 1600. The second task is to predict if the crime per 100 students at each school level is higher than the LEA level or not. After considering all evaluation metrics for classification systems, we ended up using ROC Curve. Area under ROC Curve (or AUC for short) is a performance metric for binary classification problems.\n",
    "\n",
    "In fact, a ROC curve can be used to select a threshold for a classifier which maximizes the true positives, while minimizing the false positives.\n",
    "\n",
    "We usually use ROC when both classes detection are important. Here, our models should be able to decrease both false positive rate (which is identifying the schools with enough good average SAT score for getting admission in different universities) and also decreasing the false negative rate (which is detecting schools with not good average SAT scores).\n",
    "\n",
    "The same for the second task, it is important to decrease both false positive and false negative rates.\n",
    "\n",
    "The AUC represents a model’s ability to discriminate between positive and negative classes. An area of 1.0 represents a model that made all predictions perfectly. An area of 0.5 represents a model as good as random. Most classifiers have AUCs that fall somewhere between these two values. Therefore, the overall model performances can be compared by considering the AUC."
   ]
  },
  {
   "cell_type": "markdown",
   "metadata": {},
   "source": [
    "# 2.b Modeling and Evaluation\n",
    "10 points - Choose the method you will use for dividing your data into training and why testing splits (i.e., are you using Stratiﬁed 10-fold cross validation? Why?). Explain why your chosen method is appropriate or use more than one method as appropriate.\n",
    "\n",
    "Two different data frames based on the same data are used for SAT classification and crime classification. Each data frame is initially split into a training and a test data set. We set aside 20% of the complete data set to test against.  During the training of the model, a standard 10 fold cross validation technique, which. We chose to shuffle the data during the cross validation to provide a higher confidence there was no grouping of schools that we did not notice.\n",
    "\n",
    "Other options available are the Stratifeid k-fold technique which works to balance the ratio of labels used in each fold.  Our dependent variable (local_crime_greater) has approximately a 45-55% split (see pie chart below), and with a large enough data set we can have a high level of confidence of a random split in the data without using Stratfied techniques.  The same held true for the SAT score where the split was approximately 56%-44% (see pie chart below) \n",
    "\n",
    "We chose a K fold (10 folds) validation algorithm, however a  Shuffle Split may have performed just as well with this size data set. Where Shuffle Split is capable of creating n folds and fitting the data using n-1 to train and 1 to test against, there is a chance the same data will appear in the test set each time the data is sampled. We chos K fold to insure each value is used in the training set.\n",
    "\n",
    "\n",
    "We chose not use the Leave One Out (LOO) cross validation due to the computational cost on data set as complex as this.  Empirical evidence has shown a 10-fold cross validation is preferred to the LOO algorithm\n",
    "\n",
    "Grouping algorithms were not relevant to our data set as we do not have groups of dependent variables.\n",
    "\n",
    "(soure:http://scikit-learn.org/stable/modules/cross_validation.html)\n"
   ]
  },
  {
   "cell_type": "markdown",
   "metadata": {},
   "source": [
    "# Task 1: Crime - Classification Model"
   ]
  },
  {
   "cell_type": "code",
   "execution_count": 175,
   "metadata": {},
   "outputs": [
    {
     "data": {
      "text/plain": [
       "dtype('int64')"
      ]
     },
     "execution_count": 175,
     "metadata": {},
     "output_type": "execute_result"
    }
   ],
   "source": [
    "# split X and y into test and train sets. We still want\n",
    "# to do this for external Cross Validation\n",
    "\n",
    "crime_imputed_school_data = imputed_school_data\n",
    "\n",
    "crime_imputed_school_data['local_crime_greater'] = crime_imputed_school_data.apply(lambda each_row: 1 if (each_row['crime_per_c_num']-each_row['lea_crime_per_c_num'])<0 else 0,axis=1)\n",
    "\n",
    "#split data into X and y dataframes\n",
    "\n",
    "y_crime = crime_imputed_school_data['local_crime_greater']\n",
    "\n",
    "#Removed SPG Grade and unit code(which is primary key for school data table)\n",
    " \n",
    "X_crime = imputed_school_data[school_data.columns.drop(list(school_data.filter(regex='crime|lea|LEA|^st\\_')))]\n",
    "\n",
    "X_crime_train, X_crime_test, y_crime_train, y_crime_test = train_test_split(X_crime, y_crime, test_size=.2)\n",
    "y_crime.dtype"
   ]
  },
  {
   "cell_type": "code",
   "execution_count": 176,
   "metadata": {},
   "outputs": [
    {
     "name": "stdout",
     "output_type": "stream",
     "text": [
      "54.41% of the schools have local crime higher then their local LEA average in the training set\n"
     ]
    },
    {
     "data": {
      "image/png": "[encoded data removed]",
      "text/plain": [
       "<Figure size 432x288 with 1 Axes>"
      ]
     },
     "metadata": {},
     "output_type": "display_data"
    }
   ],
   "source": [
    "print ('{0:.2%} of the schools have local crime higher then their local LEA average in the training set'.format(y_crime.sum()/len(y_crime)))\n",
    "labels = 'Crime Greater than LEA', 'Crime Less than LEA',\n",
    "scores = [(y_crime.sum()/len(y_crime)), 1-(y_crime.sum()/len(y_crime))]\n",
    "colors = ['red','green']\n",
    " \n",
    "# Plot\n",
    "plt.pie(scores, labels=labels, colors=colors,\n",
    "        autopct='%1.2f%%', shadow=True, startangle=90)\n",
    " \n",
    "plt.axis('equal')\n",
    "plt.title('School crime rate compared to local LEA in training set')\n",
    "plt.show()"
   ]
  },
  {
   "cell_type": "markdown",
   "metadata": {},
   "source": [
    "# Task 2: SAT Score - Classification Model"
   ]
  },
  {
   "cell_type": "code",
   "execution_count": 6,
   "metadata": {},
   "outputs": [],
   "source": [
    "# To split X and y into test and train sets.\n",
    "\n",
    "y_SAT = SAT_school_data['SAT_Score_Above1000']\n",
    "\n",
    "#Removed SAT_SCore_above1000 and unit code(which is primary key for school data table)\n",
    " \n",
    "X_SAT = SAT_school_data[SAT_school_data.columns.drop(list(SAT_school_data.filter(regex='SAT_Score|SAT_score|SAT_SCORE|sat_avg|unit_code|lea|LEA|^st\\_')))]\n",
    "\n"
   ]
  },
  {
   "cell_type": "code",
   "execution_count": 7,
   "metadata": {},
   "outputs": [
    {
     "name": "stdout",
     "output_type": "stream",
     "text": [
      "43.54% of the schools have SAT scores above 1000 in the training set\n"
     ]
    },
    {
     "data": {
      "image/png": "[encoded data removed]",
      "text/plain": [
       "<Figure size 432x288 with 1 Axes>"
      ]
     },
     "metadata": {},
     "output_type": "display_data"
    }
   ],
   "source": [
    "X_SAT_train, X_SAT_test, y_SAT_train, y_SAT_test = train_test_split(X_SAT, y_SAT, test_size=.2)\n",
    "print ('{0:.2%} of the schools have SAT scores above 1000 in the training set'.format(y_SAT.sum()/len(y_SAT)))\n",
    "y_SAT.dtype\n",
    "labels = 'SAT Score greater than 1000', 'SAT Score less than 1000',\n",
    "scores = [(y_SAT.sum()/len(y_SAT)), 1-(y_SAT.sum()/len(y_SAT))]\n",
    "colors = ['gold','green']\n",
    " \n",
    "# Plot\n",
    "plt.pie(scores, labels=labels, colors=colors,\n",
    "        autopct='%1.2f%%', shadow=True, startangle=90)\n",
    "plt.title('Training set SAT Score breakout')\n",
    " \n",
    "plt.axis('equal')\n",
    "plt.show()"
   ]
  },
  {
   "cell_type": "code",
   "execution_count": 179,
   "metadata": {
    "scrolled": true
   },
   "outputs": [],
   "source": [
    "#y_SAT.head()\n",
    "#X_SAT.shape\n",
    "#SAT_Filtered.shape\n",
    "#X_SAT.SAT_Score_above1000"
   ]
  },
  {
   "cell_type": "markdown",
   "metadata": {},
   "source": [
    "# 2.c Modeling and Evaluation\n",
    "20 points - Create three different classification/regression models (e.g., random forest, KNN, and SVM). Two modeling techniques must be new (but the third could be SVM or logistic regression). Adjust parameters as appropriate to increase generalization performance using your chosen metric."
   ]
  },
  {
   "cell_type": "markdown",
   "metadata": {},
   "source": [
    "We are establishing a basic pipeline that will"
   ]
  },
  {
   "cell_type": "code",
   "execution_count": 8,
   "metadata": {},
   "outputs": [],
   "source": [
    "k_fold = KFold(n_splits=10,shuffle=True)\n",
    "\n",
    "#This creates the template for the pipeline\n",
    "# This creates a basic pipeline where we will \n",
    "# test for dementionality reduction, scaling,\n",
    "# and classification.\n",
    "\n",
    "\n",
    "pipe = Pipeline([ ('reduce_dim',SelectKBest(chi2)),\n",
    "                  ('scale', StandardScaler()), \n",
    "                  ('clf', GradientBoostingClassifier())])"
   ]
  },
  {
   "cell_type": "markdown",
   "metadata": {},
   "source": [
    "# SAT Model #1 : Random Forest Classifier"
   ]
  },
  {
   "cell_type": "code",
   "execution_count": 11,
   "metadata": {},
   "outputs": [
    {
     "name": "stdout",
     "output_type": "stream",
     "text": [
      "Fitting 10 folds for each of 48 candidates, totalling 480 fits\n"
     ]
    },
    {
     "name": "stderr",
     "output_type": "stream",
     "text": [
      "[Parallel(n_jobs=-1)]: Done  34 tasks      | elapsed:    7.6s\n",
      "[Parallel(n_jobs=-1)]: Done 184 tasks      | elapsed:   28.0s\n",
      "[Parallel(n_jobs=-1)]: Done 434 tasks      | elapsed:  1.1min\n",
      "[Parallel(n_jobs=-1)]: Done 480 out of 480 | elapsed:  1.4min finished\n"
     ]
    },
    {
     "name": "stdout",
     "output_type": "stream",
     "text": [
      "0.9054415954415954\n"
     ]
    }
   ],
   "source": [
    "param_grid = [\n",
    "    {\n",
    "         'reduce_dim__k': N_FEATURES_OPTIONS,\n",
    "         'clf': [RandomForestClassifier()],\n",
    "         'clf__n_estimators': C_ESTIMATORS, \n",
    "         'clf__max_depth': C_DEPTH,\n",
    "     }\n",
    "]\n",
    "\n",
    "grid_search = GridSearchCV(pipe, param_grid=param_grid, cv=k_fold,n_jobs=-1, verbose=1 )\n",
    "\n",
    "SAT_RandomForest_model = grid_search.fit(X_SAT_train, y_SAT_train)\n",
    "\n",
    "y_SAT_score1 = grid_search.predict(X_SAT_test)\n",
    "y_SAT_prob1=grid_search.predict_proba(X_SAT_test)\n",
    "\n",
    "print(roc_auc_score(y_SAT_test, y_SAT_prob1[:,1]))"
   ]
  },
  {
   "cell_type": "code",
   "execution_count": 12,
   "metadata": {},
   "outputs": [
    {
     "data": {
      "image/png": "[encoded data removed]",
      "text/plain": [
       "<Figure size 432x288 with 1 Axes>"
      ]
     },
     "metadata": {},
     "output_type": "display_data"
    }
   ],
   "source": [
    "# create ROC cuve for Random Forest model:\n",
    "fpr1, tpr1, _ = roc_curve(y_SAT_test, y_SAT_prob1[:,1] )\n",
    "roc_auc1 = auc(fpr1, tpr1)\n",
    "lw=2\n",
    "plt.figure()\n",
    "plt.plot(fpr1, tpr1, color='darkorange', lw=2, label='Random Forest (area = %0.2f)' % roc_auc1)\n",
    "plt.plot([0, 1], [0, 1], color='navy', lw=lw, linestyle='--')\n",
    "plt.xlim([0.0, 1.0])\n",
    "plt.ylim([0.0, 1.05])\n",
    "plt.xlabel('False Positive Rate')\n",
    "plt.ylabel('True Positive Rate')\n",
    "plt.title('ROC Curve Using Random Forest Classifier')\n",
    "plt.legend(loc=\"lower right\")\n",
    "plt.show()"
   ]
  },
  {
   "cell_type": "markdown",
   "metadata": {},
   "source": [
    "# SAT Model #2 : KNN Classifier"
   ]
  },
  {
   "cell_type": "code",
   "execution_count": 13,
   "metadata": {
    "scrolled": true
   },
   "outputs": [
    {
     "name": "stdout",
     "output_type": "stream",
     "text": [
      "Fitting 10 folds for each of 8 candidates, totalling 80 fits\n"
     ]
    },
    {
     "name": "stderr",
     "output_type": "stream",
     "text": [
      "[Parallel(n_jobs=-1)]: Done  34 tasks      | elapsed:    9.3s\n",
      "[Parallel(n_jobs=-1)]: Done  80 out of  80 | elapsed:   15.0s finished\n"
     ]
    },
    {
     "name": "stdout",
     "output_type": "stream",
     "text": [
      "0.7981481481481482\n"
     ]
    }
   ],
   "source": [
    "############################\n",
    "param_grid = [\n",
    "    {\n",
    "         'reduce_dim__k': N_FEATURES_OPTIONS,\n",
    "         'clf': [KNeighborsClassifier()],\n",
    "         'clf__n_neighbors': C_NEIGHBORS, \n",
    "     }\n",
    "]\n",
    "\n",
    "grid_search = GridSearchCV(pipe, param_grid=param_grid,cv=k_fold,n_jobs=-1, verbose=1 )\n",
    "\n",
    "SAT_KNearest_model = grid_search.fit(X_SAT_train, y_SAT_train)\n",
    "\n",
    "y_SAT_score2 = grid_search.predict(X_SAT_test)\n",
    "\n",
    "y_SAT_prob2=grid_search.predict_proba(X_SAT_test)\n",
    "\n",
    "print(roc_auc_score(y_SAT_test, y_SAT_prob2[:,1]))"
   ]
  },
  {
   "cell_type": "code",
   "execution_count": 14,
   "metadata": {},
   "outputs": [
    {
     "data": {
      "image/png": "[encoded data removed]",
      "text/plain": [
       "<Figure size 432x288 with 1 Axes>"
      ]
     },
     "metadata": {},
     "output_type": "display_data"
    }
   ],
   "source": [
    "# Plot ROC Curve\n",
    "fpr2, tpr2, _ = roc_curve(y_SAT_test, y_SAT_prob2[:,1] )\n",
    "roc_auc2 = auc(fpr2, tpr2)\n",
    "lw=1\n",
    "\n",
    "plt.figure()\n",
    "plt.plot(fpr2, tpr2, color='darkorange', lw=1, label='ROC curve (area = %0.2f)' % roc_auc2)\n",
    "plt.plot([0, 1], [0, 1], color='navy', lw=lw, linestyle='--')\n",
    "plt.xlim([0.0, 1.0])\n",
    "plt.ylim([0.0, 1.05])\n",
    "plt.xlabel('False Positive Rate')\n",
    "plt.ylabel('True Positive Rate')\n",
    "plt.title('ROC Curve using KNN Classifier ')\n",
    "plt.legend(loc=\"lower right\")\n",
    "plt.show()\n"
   ]
  },
  {
   "cell_type": "markdown",
   "metadata": {},
   "source": [
    "# SAT Model #3 :  SVC Classifier"
   ]
  },
  {
   "cell_type": "code",
   "execution_count": 15,
   "metadata": {},
   "outputs": [
    {
     "name": "stdout",
     "output_type": "stream",
     "text": [
      "Fitting 10 folds for each of 36 candidates, totalling 360 fits\n"
     ]
    },
    {
     "name": "stderr",
     "output_type": "stream",
     "text": [
      "[Parallel(n_jobs=-1)]: Done  34 tasks      | elapsed:   17.6s\n",
      "[Parallel(n_jobs=-1)]: Done 184 tasks      | elapsed:  1.0min\n",
      "[Parallel(n_jobs=-1)]: Done 360 out of 360 | elapsed:  2.1min finished\n"
     ]
    },
    {
     "name": "stdout",
     "output_type": "stream",
     "text": [
      "0.8728205128205129\n"
     ]
    }
   ],
   "source": [
    "##########################\n",
    "param_grid = [\n",
    "    {\n",
    "         'reduce_dim__k': N_FEATURES_OPTIONS,\n",
    "         'clf': [SVC(probability=True)],\n",
    "         'clf__C': C_OPTIONS, \n",
    "     }\n",
    "]\n",
    "\n",
    "grid_search = GridSearchCV(pipe, param_grid=param_grid, cv=k_fold,n_jobs=-1, verbose=1 )\n",
    "\n",
    "SAT_SVC_model = grid_search.fit(X_SAT_train, y_SAT_train)\n",
    "\n",
    "y_SAT_score3 = grid_search.predict(X_SAT_test)\n",
    "y_SAT_prob3=grid_search.predict_proba(X_SAT_test)\n",
    "\n",
    "print(roc_auc_score(y_SAT_test, y_SAT_prob3[:,1]))"
   ]
  },
  {
   "cell_type": "code",
   "execution_count": 16,
   "metadata": {},
   "outputs": [
    {
     "data": {
      "image/png": "[encoded data removed]",
      "text/plain": [
       "<Figure size 432x288 with 1 Axes>"
      ]
     },
     "metadata": {},
     "output_type": "display_data"
    }
   ],
   "source": [
    "# Plot ROC Curve\n",
    "from sklearn.metrics import roc_curve, auc\n",
    "fpr3, tpr3, _ = roc_curve(y_SAT_test, y_SAT_prob3[:,1] )\n",
    "roc_auc3 = auc(fpr3, tpr3)\n",
    "lw=2\n",
    "\n",
    "plt.figure()\n",
    "plt.plot(fpr3, tpr3, color='darkorange', lw=2, label='ROC curve (area = %0.2f)' % roc_auc3)\n",
    "plt.plot([0, 1], [0, 1], color='navy', lw=lw, linestyle='--')\n",
    "plt.xlim([0.0, 1.0])\n",
    "plt.ylim([0.0, 1.0])\n",
    "plt.xlabel('False Positive Rate')\n",
    "plt.ylabel('True Positive Rate')\n",
    "plt.title('ROC Curve Using SVC')\n",
    "plt.legend(loc=\"lower right\")\n",
    "plt.show()"
   ]
  },
  {
   "cell_type": "markdown",
   "metadata": {},
   "source": [
    "# Crime Models"
   ]
  },
  {
   "cell_type": "markdown",
   "metadata": {},
   "source": [
    "# Crime Model #1: Gradient Boosting"
   ]
  },
  {
   "cell_type": "code",
   "execution_count": 188,
   "metadata": {
    "scrolled": true
   },
   "outputs": [
    {
     "name": "stdout",
     "output_type": "stream",
     "text": [
      "Fitting 10 folds for each of 144 candidates, totalling 1440 fits\n"
     ]
    },
    {
     "name": "stderr",
     "output_type": "stream",
     "text": [
      "[Parallel(n_jobs=-1)]: Done  88 tasks      | elapsed:    2.4s\n",
      "[Parallel(n_jobs=-1)]: Done 338 tasks      | elapsed:   13.5s\n",
      "[Parallel(n_jobs=-1)]: Done 688 tasks      | elapsed:   34.0s\n",
      "[Parallel(n_jobs=-1)]: Done 1138 tasks      | elapsed:  1.0min\n",
      "[Parallel(n_jobs=-1)]: Done 1440 out of 1440 | elapsed:  1.3min finished\n"
     ]
    },
    {
     "name": "stdout",
     "output_type": "stream",
     "text": [
      "0.7289634146341464\n"
     ]
    }
   ],
   "source": [
    " param_grid = [\n",
    "    {\n",
    "         'reduce_dim__k': N_FEATURES_OPTIONS,\n",
    "         'clf':[GradientBoostingClassifier()],\n",
    "         'clf__n_estimators': C_ESTIMATORS, \n",
    "         'clf__max_depth': C_DEPTH,\n",
    "         'clf__learning_rate':LEARNING_RATE\n",
    "     }\n",
    "]\n",
    "\n",
    "\n",
    "# # This will test the parameter dict against our \n",
    "# # pipeline\n",
    "\n",
    "grid_search = GridSearchCV(pipe, param_grid=param_grid, cv=k_fold,n_jobs=-1, verbose=1, scoring='roc_auc' )\n",
    "\n",
    "\n",
    "# # Here we are training the model, this is \n",
    "# # what takes the most amount of time to run\n",
    "crime_GradientBoost_model = grid_search.fit(X_crime_train, y_crime_train)\n",
    "\n",
    "\n",
    "y_crime_GradientBoost_score = grid_search.predict(X_crime_test)\n",
    "y_crime_GradientBoost_prob = grid_search.predict_proba(X_crime_test)\n",
    "print(roc_auc_score(y_crime_test, y_crime_GradientBoost_prob[:,1]))\n"
   ]
  },
  {
   "cell_type": "code",
   "execution_count": 189,
   "metadata": {},
   "outputs": [
    {
     "data": {
      "image/png": "[encoded data removed]",
      "text/plain": [
       "<Figure size 432x288 with 1 Axes>"
      ]
     },
     "metadata": {},
     "output_type": "display_data"
    }
   ],
   "source": [
    "# Plot ROC Curve\n",
    "from sklearn.metrics import roc_curve, auc\n",
    "fpr, tpr, _ = roc_curve(y_crime_test, y_crime_GradientBoost_prob[:,1])\n",
    "roc_auc = auc(fpr, tpr)\n",
    "lw=1\n",
    "\n",
    "plt.figure()\n",
    "plt.plot(fpr, tpr, color='darkorange', lw=1, label='ROC curve (area = %0.2f)' % roc_auc)\n",
    "plt.plot([0, 1], [0, 1], color='navy', lw=lw, linestyle='--')\n",
    "plt.xlim([0.0, 1.0])\n",
    "plt.ylim([0.0, 1.0])\n",
    "plt.xlabel('False Positive Rate')\n",
    "plt.ylabel('True Positive Rate')\n",
    "plt.title('Crime data ROC curve using Gradient boosting')\n",
    "plt.legend(loc=\"lower right\")\n",
    "plt.show()"
   ]
  },
  {
   "cell_type": "markdown",
   "metadata": {},
   "source": [
    "# Crime Model #2: Ada Boost"
   ]
  },
  {
   "cell_type": "code",
   "execution_count": 195,
   "metadata": {
    "scrolled": true
   },
   "outputs": [
    {
     "name": "stdout",
     "output_type": "stream",
     "text": [
      "Fitting 10 folds for each of 48 candidates, totalling 480 fits\n"
     ]
    },
    {
     "name": "stderr",
     "output_type": "stream",
     "text": [
      "[Parallel(n_jobs=-1)]: Done  88 tasks      | elapsed:    3.6s\n",
      "[Parallel(n_jobs=-1)]: Done 338 tasks      | elapsed:   17.2s\n",
      "[Parallel(n_jobs=-1)]: Done 480 out of 480 | elapsed:   31.5s finished\n"
     ]
    },
    {
     "name": "stdout",
     "output_type": "stream",
     "text": [
      "0.7228519955654102\n"
     ]
    }
   ],
   "source": [
    " param_grid = [\n",
    "    {\n",
    "         'reduce_dim__k': N_FEATURES_OPTIONS,\n",
    "         'clf': [AdaBoostClassifier()],\n",
    "         'clf__n_estimators': C_ESTIMATORS,\n",
    "         'clf__learning_rate':LEARNING_RATE\n",
    "     }\n",
    "]\n",
    "\n",
    "\n",
    "# # This will test the parameter dict against our \n",
    "# # pipeline\n",
    "\n",
    "grid_search = GridSearchCV(pipe, param_grid=param_grid, cv=k_fold,n_jobs=-1, verbose=1, scoring='roc_auc' )\n",
    "\n",
    "\n",
    "# # Here we are training the model, this is \n",
    "# # what takes the most amount of time to run\n",
    "crime_ADABoost_model = grid_search.fit(X_crime_train, y_crime_train)\n",
    "\n",
    "y_crime_ADABoost_score = grid_search.predict(X_crime_test)\n",
    "y_crime_ADABoost_prob = grid_search.predict_proba(X_crime_test)\n",
    "\n",
    "print(roc_auc_score(y_crime_test, y_crime_ADABoost_prob[:,1]))\n"
   ]
  },
  {
   "cell_type": "code",
   "execution_count": 196,
   "metadata": {},
   "outputs": [
    {
     "data": {
      "image/png": "[encoded data removed]",
      "text/plain": [
       "<Figure size 432x288 with 1 Axes>"
      ]
     },
     "metadata": {},
     "output_type": "display_data"
    }
   ],
   "source": [
    "# Plot ROC Curve\n",
    "fpr, tpr, _ = roc_curve(y_crime_test, y_crime_ADABoost_prob[:,1] )\n",
    "roc_auc = auc(fpr, tpr)\n",
    "lw=1\n",
    "\n",
    "plt.figure()\n",
    "plt.plot(fpr, tpr, color='darkorange', lw=1, label='ROC curve (area = %0.2f)' % roc_auc)\n",
    "plt.plot([0, 1], [0, 1], color='navy', lw=lw, linestyle='--')\n",
    "plt.xlim([0.0, 1.0])\n",
    "plt.ylim([0.0, 1.0])\n",
    "plt.xlabel('False Positive Rate')\n",
    "plt.ylabel('True Positive Rate')\n",
    "plt.title('Crime data ROC curve using ADABoost')\n",
    "plt.legend(loc=\"lower right\")\n",
    "plt.show()"
   ]
  },
  {
   "cell_type": "code",
   "execution_count": 197,
   "metadata": {
    "scrolled": true
   },
   "outputs": [],
   "source": [
    "#print(crime_ADABoost_model.best_params_)"
   ]
  },
  {
   "cell_type": "markdown",
   "metadata": {},
   "source": [
    "# Crime Model #3: Random Forest Classifier"
   ]
  },
  {
   "cell_type": "code",
   "execution_count": 198,
   "metadata": {},
   "outputs": [
    {
     "name": "stdout",
     "output_type": "stream",
     "text": [
      "Fitting 10 folds for each of 48 candidates, totalling 480 fits\n"
     ]
    },
    {
     "name": "stderr",
     "output_type": "stream",
     "text": [
      "[Parallel(n_jobs=-1)]: Done  88 tasks      | elapsed:    1.8s\n",
      "[Parallel(n_jobs=-1)]: Done 338 tasks      | elapsed:    7.1s\n",
      "[Parallel(n_jobs=-1)]: Done 480 out of 480 | elapsed:   11.8s finished\n"
     ]
    },
    {
     "name": "stdout",
     "output_type": "stream",
     "text": [
      "0.7215077605321507\n"
     ]
    }
   ],
   "source": [
    " param_grid = [\n",
    "    {\n",
    "         'reduce_dim__k': N_FEATURES_OPTIONS,\n",
    "         'clf': [RandomForestClassifier()],\n",
    "         'clf__n_estimators': C_ESTIMATORS, \n",
    "         'clf__max_depth': C_DEPTH,\n",
    "     }\n",
    "]\n",
    "\n",
    "\n",
    "# # This will test the parameter dict against our \n",
    "# # pipeline\n",
    "\n",
    "grid_search = GridSearchCV(pipe, param_grid=param_grid, cv=k_fold,n_jobs=-1, verbose=1, scoring='roc_auc' )\n",
    "\n",
    "\n",
    "# # Here we are training the model, this is \n",
    "# # what takes the most amount of time to run\n",
    "crime_RandomForest_model = grid_search.fit(X_crime_train, y_crime_train)\n",
    "\n",
    "y_crime_RandomForest_score = grid_search.predict(X_crime_test)\n",
    "y_crime_RandomForest_prob = grid_search.predict_proba(X_crime_test)\n",
    "\n",
    "print(roc_auc_score(y_crime_test, y_crime_RandomForest_prob[:,1]))"
   ]
  },
  {
   "cell_type": "code",
   "execution_count": 199,
   "metadata": {},
   "outputs": [
    {
     "data": {
      "image/png": "[encoded data removed]",
      "text/plain": [
       "<Figure size 432x288 with 1 Axes>"
      ]
     },
     "metadata": {},
     "output_type": "display_data"
    }
   ],
   "source": [
    "# Plot ROC Curve\n",
    "fpr, tpr, _ = roc_curve(y_crime_test, y_crime_RandomForest_prob[:,1] )\n",
    "roc_auc = auc(fpr, tpr)\n",
    "lw=1\n",
    "\n",
    "plt.figure()\n",
    "plt.plot(fpr, tpr, color='darkorange', lw=1, label='ROC curve (area = %0.2f)' % roc_auc)\n",
    "plt.plot([0, 1], [0, 1], color='navy', lw=lw, linestyle='--')\n",
    "plt.xlim([0.0, 1.0])\n",
    "plt.ylim([0.0, 1.0])\n",
    "plt.xlabel('False Positive Rate')\n",
    "plt.ylabel('True Positive Rate')\n",
    "plt.title('Crime data ROC curve using Random Forest')\n",
    "plt.legend(loc=\"lower right\")\n",
    "plt.show()"
   ]
  },
  {
   "cell_type": "code",
   "execution_count": 200,
   "metadata": {
    "scrolled": true
   },
   "outputs": [],
   "source": [
    "#print(crime_RandomForest_model.best_params_)\n",
    "#print(crime_RandomForest_model.multimetric_)"
   ]
  },
  {
   "cell_type": "markdown",
   "metadata": {},
   "source": [
    "# Crime Model #4: Logistic Regression"
   ]
  },
  {
   "cell_type": "code",
   "execution_count": 201,
   "metadata": {},
   "outputs": [
    {
     "name": "stdout",
     "output_type": "stream",
     "text": [
      "Fitting 10 folds for each of 24 candidates, totalling 240 fits\n"
     ]
    },
    {
     "name": "stderr",
     "output_type": "stream",
     "text": [
      "[Parallel(n_jobs=-1)]: Done  88 tasks      | elapsed:    4.4s\n",
      "[Parallel(n_jobs=-1)]: Done 240 out of 240 | elapsed:   13.6s finished\n"
     ]
    },
    {
     "name": "stdout",
     "output_type": "stream",
     "text": [
      "0.7023281596452329\n"
     ]
    }
   ],
   "source": [
    "\n",
    "param_grid = [\n",
    "    {\n",
    "         'reduce_dim__k': N_FEATURES_OPTIONS,\n",
    "         'clf': [LogisticRegression()],\n",
    "         'clf__C': [1e-3,1e-2,1e-1,1e0,1e1,1e2], \n",
    "     }\n",
    "]\n",
    "\n",
    "\n",
    "# # This will test the parameter dict against our \n",
    "# # pipeline\n",
    "\n",
    "grid_search = GridSearchCV(pipe, param_grid=param_grid, cv=k_fold,n_jobs=-1, verbose=1, scoring='roc_auc' )\n",
    "\n",
    "\n",
    "# # Here we are training the model, this is \n",
    "# # what takes the most amount of time to run\n",
    "crime_LogicReg_model = grid_search.fit(X_crime_train, y_crime_train)\n",
    "\n",
    "y_crime_LogicReg_score = grid_search.predict(X_crime_test)\n",
    "y_crime_LogicReg_prob = grid_search.predict_proba(X_crime_test)\n",
    "\n",
    "print(roc_auc_score(y_crime_test, y_crime_LogicReg_prob[:,1]))"
   ]
  },
  {
   "cell_type": "code",
   "execution_count": 202,
   "metadata": {},
   "outputs": [
    {
     "data": {
      "image/png": "[encoded data removed]",
      "text/plain": [
       "<Figure size 432x288 with 1 Axes>"
      ]
     },
     "metadata": {},
     "output_type": "display_data"
    }
   ],
   "source": [
    "# Plot ROC Curve\n",
    "fpr, tpr, _ = roc_curve(y_crime_test, y_crime_LogicReg_prob[:,1] )\n",
    "roc_auc = auc(fpr, tpr)\n",
    "lw=1\n",
    "\n",
    "plt.figure()\n",
    "plt.plot(fpr, tpr, color='darkorange', lw=1, label='ROC curve (area = %0.2f)' % roc_auc)\n",
    "plt.plot([0, 1], [0, 1], color='navy', lw=lw, linestyle='--')\n",
    "plt.xlim([0.0, 1.0])\n",
    "plt.ylim([0.0, 1.0])\n",
    "plt.xlabel('False Positive Rate')\n",
    "plt.ylabel('True Positive Rate')\n",
    "plt.title('Crime data ROC curve using Logistic Regression classification')\n",
    "plt.legend(loc=\"lower right\")\n",
    "plt.show()"
   ]
  },
  {
   "cell_type": "markdown",
   "metadata": {},
   "source": [
    "# Crime Model #5: Bagging Method"
   ]
  },
  {
   "cell_type": "code",
   "execution_count": 204,
   "metadata": {},
   "outputs": [
    {
     "name": "stdout",
     "output_type": "stream",
     "text": [
      "Fitting 10 folds for each of 16 candidates, totalling 160 fits\n"
     ]
    },
    {
     "name": "stderr",
     "output_type": "stream",
     "text": [
      "[Parallel(n_jobs=-1)]: Done 160 out of 160 | elapsed:  1.2min finished\n"
     ]
    },
    {
     "name": "stdout",
     "output_type": "stream",
     "text": [
      "0.7346868070953436\n"
     ]
    }
   ],
   "source": [
    "param_grid = [\n",
    "    {\n",
    "         'reduce_dim__k': N_FEATURES_OPTIONS,\n",
    "         'clf': [BaggingClassifier(DecisionTreeClassifier())],\n",
    "         'clf__n_estimators': C_ESTIMATORS \n",
    "     }\n",
    "]\n",
    "\n",
    "\n",
    "# # This will test the parameter dict against our \n",
    "# # pipeline\n",
    "\n",
    "grid_search = GridSearchCV(pipe, param_grid=param_grid, cv=k_fold,n_jobs=-1, verbose=1, scoring='roc_auc' )\n",
    "\n",
    "\n",
    "# # Here we are training the model, this is \n",
    "# # what takes the most amount of time to run\n",
    "crime_Bagging_model = grid_search.fit(X_crime_train, y_crime_train)\n",
    "\n",
    "y_crime_Bagging_score = grid_search.predict(X_crime_test)\n",
    "y_crime_Bagging_prob = grid_search.predict_proba(X_crime_test)\n",
    "\n",
    "print(roc_auc_score(y_crime_test, y_crime_Bagging_prob[:,1]))"
   ]
  },
  {
   "cell_type": "code",
   "execution_count": 205,
   "metadata": {},
   "outputs": [
    {
     "data": {
      "image/png": "[encoded data removed]",
      "text/plain": [
       "<Figure size 432x288 with 1 Axes>"
      ]
     },
     "metadata": {},
     "output_type": "display_data"
    }
   ],
   "source": [
    "# Plot ROC Curve\n",
    "fpr, tpr, _ = roc_curve(y_crime_test, y_crime_Bagging_prob[:,1] )\n",
    "roc_auc = auc(fpr, tpr)\n",
    "lw=1\n",
    "\n",
    "plt.figure()\n",
    "plt.plot(fpr, tpr, color='darkorange', lw=1, label='ROC curve (area = %0.2f)' % roc_auc)\n",
    "plt.plot([0, 1], [0, 1], color='navy', lw=lw, linestyle='--')\n",
    "plt.xlim([0.0, 1.0])\n",
    "plt.ylim([0.0, 1.0])\n",
    "plt.xlabel('False Positive Rate')\n",
    "plt.ylabel('True Positive Rate')\n",
    "plt.title('Crime data ROC curve using KNN classification')\n",
    "plt.legend(loc=\"lower right\")\n",
    "plt.show()"
   ]
  },
  {
   "cell_type": "code",
   "execution_count": 206,
   "metadata": {},
   "outputs": [],
   "source": [
    "# pipe.set_params(**crime_Bagging_model.best_params_)\n",
    "# pipe.fit(X_crime_train, y_crime_train)\n"
   ]
  },
  {
   "cell_type": "code",
   "execution_count": 207,
   "metadata": {},
   "outputs": [],
   "source": [
    "# clf = pipe.steps[2][1]\n",
    "\n",
    "# coef = np.mean([\n",
    "#     tree.feature_importances_ for tree in clf.estimators_\n",
    "# ], axis=0)\n",
    "\n",
    "# mask = pipe.steps[0][1].get_support()\n",
    "# new_features=[]\n",
    "# feature_names=list(X_crime_train.columns.values)\n",
    "# for bool, feature in zip(mask, feature_names):\n",
    "#     if bool:\n",
    "#         new_features.append(feature)\n",
    "\n",
    "# #Creates a new dataframe with the coefficients and the \n",
    "# predicted_data = pd.DataFrame(data=coef,index=new_features,columns=['Influence'])\n",
    "# print(\"The top 10 features that influence improved crime rates for a school are the following\")\n",
    "\n",
    "\n",
    "\n",
    "# display(predicted_data.sort_values(by='Influence', ascending=False)[0:10])"
   ]
  },
  {
   "cell_type": "code",
   "execution_count": 208,
   "metadata": {},
   "outputs": [],
   "source": [
    "# predicted_data.sort_values(by='Influence', ascending=False)[0:10].plot(kind='barh');"
   ]
  },
  {
   "cell_type": "markdown",
   "metadata": {},
   "source": [
    "## Crime ROC Model comparison\n",
    "When we plot all ROC curves on the same chart we can see some evidence that all models are providing the same type of results.  The ADA Boost Classifier appears to have a slightly better rate of True Positive vs False Positive classification"
   ]
  },
  {
   "cell_type": "code",
   "execution_count": 211,
   "metadata": {
    "scrolled": true
   },
   "outputs": [
    {
     "data": {
      "text/plain": [
       "<Figure size 432x288 with 0 Axes>"
      ]
     },
     "metadata": {},
     "output_type": "display_data"
    },
    {
     "data": {
      "image/png": "[encoded data removed]",
      "text/plain": [
       "<Figure size 1152x648 with 1 Axes>"
      ]
     },
     "metadata": {},
     "output_type": "display_data"
    }
   ],
   "source": [
    "# Plot ROC Curve\n",
    "fpr1, tpr1, _ = roc_curve(y_crime_test, y_crime_LogicReg_prob[:,1] )\n",
    "fpr2, tpr2, _ = roc_curve(y_crime_test, y_crime_Bagging_prob[:,1] )\n",
    "fpr3, tpr3, _ = roc_curve(y_crime_test, y_crime_GradientBoost_prob[:,1])\n",
    "fpr4, tpr4, _ = roc_curve(y_crime_test, y_crime_ADABoost_prob[:,1])\n",
    "fpr5, tpr5, _ = roc_curve(y_crime_test, y_crime_RandomForest_prob[:,1])\n",
    "lw=1\n",
    "\n",
    "plt.figure()\n",
    "plt.figure(figsize=(16,9))\n",
    "plt.plot(fpr1, tpr1, color='red', lw=1, label='Logistic Regression (area = %0.2f)' % auc(fpr1, tpr1))\n",
    "plt.plot(fpr2, tpr2, color='salmon', lw=1, label='Bagging (area = %0.2f)' % auc(fpr2, tpr2))\n",
    "plt.plot(fpr3, tpr3, color='limegreen', lw=1, label='Grad Boost (area = %0.2f)' % auc(fpr3, tpr3))\n",
    "plt.plot(fpr4, tpr4, color='purple', lw=1, label='ADA Boost (area = %0.2f)' % auc(fpr4, tpr4))\n",
    "plt.plot(fpr5, tpr5, color='pink', lw=1, label='Random Forest(area = %0.2f)' % auc(fpr5, tpr5))\n",
    "plt.plot([0, 1], [0, 1], color='navy', lw=lw, linestyle='--')\n",
    "plt.xlim([0.0, 1.0])\n",
    "plt.ylim([0.0, 1.0])\n",
    "plt.xlabel('False Positive Rate')\n",
    "plt.ylabel('True Positive Rate')\n",
    "plt.title('Crime data ROC curve comparison')\n",
    "plt.legend(loc=\"lower right\")\n",
    "\n",
    "plt.show()"
   ]
  },
  {
   "cell_type": "markdown",
   "metadata": {},
   "source": [
    "# SAT ROC Model Comparison"
   ]
  },
  {
   "cell_type": "code",
   "execution_count": 17,
   "metadata": {},
   "outputs": [
    {
     "data": {
      "text/plain": [
       "<Figure size 432x288 with 0 Axes>"
      ]
     },
     "metadata": {},
     "output_type": "display_data"
    },
    {
     "data": {
      "image/png": "[encoded data removed]",
      "text/plain": [
       "<Figure size 1152x648 with 1 Axes>"
      ]
     },
     "metadata": {},
     "output_type": "display_data"
    }
   ],
   "source": [
    "#SAT Models Comparison with ROC curves for all 3 models:\n",
    "fpr1, tpr1, _ = roc_curve(y_SAT_test, y_SAT_prob1[:,1] )\n",
    "roc_auc1 = auc(fpr1, tpr1)\n",
    "fpr2, tpr2, _ = roc_curve(y_SAT_test, y_SAT_prob2[:,1] )\n",
    "roc_auc2 = auc(fpr2, tpr2)\n",
    "fpr3, tpr3, _ = roc_curve(y_SAT_test, y_SAT_prob3[:,1] )\n",
    "roc_auc3 = auc(fpr3, tpr3)\n",
    "lw=2\n",
    "plt.figure()\n",
    "plt.figure(figsize=(16,9))\n",
    "plt.plot(fpr1, tpr1, color='darkorange', lw=2, label='Random Forest (area = %0.2f)' % roc_auc1)\n",
    "plt.plot(fpr2, tpr2, color='red', lw=2, label='KNN Classifier (area = %0.2f)' % roc_auc2)\n",
    "plt.plot(fpr3, tpr3, color='black', lw=2, label='SVC Calasifier (area = %0.2f)' % roc_auc3)\n",
    "plt.plot([0, 1], [0, 1], color='navy', lw=lw, linestyle='--')\n",
    "plt.xlim([0.0, 1.0])\n",
    "plt.ylim([0.0, 1.05])\n",
    "plt.xlabel('False Positive Rate')\n",
    "plt.ylabel('True Positive Rate')\n",
    "plt.title('Receiver operating characteristic')\n",
    "plt.legend(loc=\"lower right\")\n",
    "plt.show()"
   ]
  },
  {
   "cell_type": "markdown",
   "metadata": {},
   "source": [
    "# To be removed: Reduced method using Bagging method "
   ]
  },
  {
   "cell_type": "code",
   "execution_count": 213,
   "metadata": {},
   "outputs": [],
   "source": [
    "# pipe.set_params(**crime_Bagging_model.best_params_)\n",
    "# pipe.fit(X_crime_reduced_train, y_crime_reduced_train)\n",
    "\n",
    "# y_crime_bagging_reduced_score = pipe.predict(X_crime_reduced_test)\n",
    "\n",
    "# print(roc_auc_score(y_crime_reduced_test, y_crime_bagging_reduced_score))"
   ]
  },
  {
   "cell_type": "code",
   "execution_count": 214,
   "metadata": {},
   "outputs": [],
   "source": [
    "# clf = pipe.steps[2][1]\n",
    "\n",
    "# coef = np.mean([\n",
    "#     tree.feature_importances_ for tree in clf.estimators_\n",
    "# ], axis=0)\n",
    "\n",
    "# mask = pipe.steps[0][1].get_support()\n",
    "# new_features=[]\n",
    "# feature_names=list(X_crime_reduced_train.columns.values)\n",
    "# for bool, feature in zip(mask, feature_names):\n",
    "#     if bool:\n",
    "#         new_features.append(feature)\n",
    "\n",
    "# #Creates a new dataframe with the coefficients and the \n",
    "# predicted_data = pd.DataFrame(data=coef,index=new_features,columns=['Influence'])\n",
    "# print(\"The top 10 features that influence SPG Grade are the following\")\n",
    "\n",
    "\n",
    "\n",
    "# display(predicted_data.sort_values(by='Influence', ascending=False)[0:10])"
   ]
  },
  {
   "cell_type": "markdown",
   "metadata": {},
   "source": [
    "# 2.d Modeling and Evaluation\n",
    "10 points - Analyze the results using your chosen method of evaluation. Use visualizations of the results to bolster the analysis. Explain any visuals and analyze why they are interesting to someone that might use this model."
   ]
  },
  {
   "cell_type": "markdown",
   "metadata": {},
   "source": [
    "# 2.e Modeling and Evaluation\n",
    "10 points - Discuss the advantages of each model for each classification task, if any. If there are not advantages, explain why. Is any model better than another? Is the difference signiﬁcant with 95% conﬁdence? Use proper statistical comparison methods."
   ]
  },
  {
   "cell_type": "code",
   "execution_count": null,
   "metadata": {},
   "outputs": [],
   "source": []
  },
  {
   "cell_type": "markdown",
   "metadata": {},
   "source": [
    "# 2.f Feature Importance for the Top Performing Model\n",
    "10 points - Which attributes from your analysis are most important? Use proper methods discussed in class to evaluate the importance of different attributes. Discuss the results and hypothesize about why certain attributes are more important than others for a given classiﬁcation task.\n",
    "\n",
    "we identified Random Forest and Bagging classifiers are the best performing classifiers to differentiate the two classes of SAT scores and Crime in our dataset. In this part, we proceed to find the below informations:\n",
    "\n",
    "- Level of importance of each feature in this model. \n",
    "- Select relevant feature (variable) to guarantee best model performances using recursive feature elimination.\n",
    "\n",
    "Feature selection is a process where you automatically select those features that contribute most to the outcome we are trying to predict. \n",
    "\n",
    "Having irrelevant features in the data can decrease the accuracy of the models. Some of the benefits of feature selection include reduce overfitting, improving accuracy and minimising computing time.\n",
    "\n",
    "\n",
    "The features that have the biggest impact on the model performance for each of these two models are evaluated. \n",
    "\n",
    "* All features are scaled in the model.\n",
    "* The coeficient values indicate the level of feature influence on model performance, higher value means stronger influence and importance.\n",
    "* The influence values are sorted and top 20 features with strongest influences are plotted."
   ]
  },
  {
   "cell_type": "markdown",
   "metadata": {},
   "source": [
    "# Feature Evaluation for the top performing SAT Model: Random Forest Classifier\n"
   ]
  },
  {
   "cell_type": "code",
   "execution_count": 18,
   "metadata": {},
   "outputs": [
    {
     "name": "stdout",
     "output_type": "stream",
     "text": [
      "The top 20 features that influence SAT Score are the following\n"
     ]
    },
    {
     "data": {
      "text/html": [
       "<div>\n",
       "<style scoped>\n",
       "    .dataframe tbody tr th:only-of-type {\n",
       "        vertical-align: middle;\n",
       "    }\n",
       "\n",
       "    .dataframe tbody tr th {\n",
       "        vertical-align: top;\n",
       "    }\n",
       "\n",
       "    .dataframe thead th {\n",
       "        text-align: right;\n",
       "    }\n",
       "</style>\n",
       "<table border=\"1\" class=\"dataframe\">\n",
       "  <thead>\n",
       "    <tr style=\"text-align: right;\">\n",
       "      <th></th>\n",
       "      <th>Influence</th>\n",
       "    </tr>\n",
       "  </thead>\n",
       "  <tbody>\n",
       "    <tr>\n",
       "      <th>ACTScience_ACTBenchmark_Male</th>\n",
       "      <td>0.046156</td>\n",
       "    </tr>\n",
       "    <tr>\n",
       "      <th>ACTScience_ACTBenchmark_All</th>\n",
       "      <td>0.045578</td>\n",
       "    </tr>\n",
       "    <tr>\n",
       "      <th>EOCSubjects_CACR_All</th>\n",
       "      <td>0.040726</td>\n",
       "    </tr>\n",
       "    <tr>\n",
       "      <th>ACTMath_ACTBenchmark_All</th>\n",
       "      <td>0.038412</td>\n",
       "    </tr>\n",
       "    <tr>\n",
       "      <th>ACTEnglish_ACTBenchmark_Female</th>\n",
       "      <td>0.037048</td>\n",
       "    </tr>\n",
       "    <tr>\n",
       "      <th>ACTSubtests_BenchmarksMet_AIG</th>\n",
       "      <td>0.035234</td>\n",
       "    </tr>\n",
       "    <tr>\n",
       "      <th>ACTCompositeScore_UNCMin_Female</th>\n",
       "      <td>0.029991</td>\n",
       "    </tr>\n",
       "    <tr>\n",
       "      <th>ACTMath_ACTBenchmark_White</th>\n",
       "      <td>0.026344</td>\n",
       "    </tr>\n",
       "    <tr>\n",
       "      <th>EOCMathI_CACR_White</th>\n",
       "      <td>0.026151</td>\n",
       "    </tr>\n",
       "    <tr>\n",
       "      <th>ACTMath_ACTBenchmark_Male</th>\n",
       "      <td>0.025669</td>\n",
       "    </tr>\n",
       "    <tr>\n",
       "      <th>Year</th>\n",
       "      <td>0.024701</td>\n",
       "    </tr>\n",
       "    <tr>\n",
       "      <th>ACTSubtests_BenchmarksMet_White</th>\n",
       "      <td>0.024019</td>\n",
       "    </tr>\n",
       "    <tr>\n",
       "      <th>BlackPct</th>\n",
       "      <td>0.019560</td>\n",
       "    </tr>\n",
       "    <tr>\n",
       "      <th>SPG Score</th>\n",
       "      <td>0.019206</td>\n",
       "    </tr>\n",
       "    <tr>\n",
       "      <th>ACTMath_ACTBenchmark_AIG</th>\n",
       "      <td>0.018218</td>\n",
       "    </tr>\n",
       "    <tr>\n",
       "      <th>EOCEnglish2_CACR_Female</th>\n",
       "      <td>0.017673</td>\n",
       "    </tr>\n",
       "    <tr>\n",
       "      <th>ACTWriting_ACTBenchmark_All</th>\n",
       "      <td>0.017408</td>\n",
       "    </tr>\n",
       "    <tr>\n",
       "      <th>EOCSubjects_CACR_White</th>\n",
       "      <td>0.015946</td>\n",
       "    </tr>\n",
       "    <tr>\n",
       "      <th>BlackMalePct</th>\n",
       "      <td>0.015776</td>\n",
       "    </tr>\n",
       "    <tr>\n",
       "      <th>Biology Score</th>\n",
       "      <td>0.015682</td>\n",
       "    </tr>\n",
       "  </tbody>\n",
       "</table>\n",
       "</div>"
      ],
      "text/plain": [
       "                                 Influence\n",
       "ACTScience_ACTBenchmark_Male      0.046156\n",
       "ACTScience_ACTBenchmark_All       0.045578\n",
       "EOCSubjects_CACR_All              0.040726\n",
       "ACTMath_ACTBenchmark_All          0.038412\n",
       "ACTEnglish_ACTBenchmark_Female    0.037048\n",
       "ACTSubtests_BenchmarksMet_AIG     0.035234\n",
       "ACTCompositeScore_UNCMin_Female   0.029991\n",
       "ACTMath_ACTBenchmark_White        0.026344\n",
       "EOCMathI_CACR_White               0.026151\n",
       "ACTMath_ACTBenchmark_Male         0.025669\n",
       "Year                              0.024701\n",
       "ACTSubtests_BenchmarksMet_White   0.024019\n",
       "BlackPct                          0.019560\n",
       "SPG Score                         0.019206\n",
       "ACTMath_ACTBenchmark_AIG          0.018218\n",
       "EOCEnglish2_CACR_Female           0.017673\n",
       "ACTWriting_ACTBenchmark_All       0.017408\n",
       "EOCSubjects_CACR_White            0.015946\n",
       "BlackMalePct                      0.015776\n",
       "Biology Score                     0.015682"
      ]
     },
     "metadata": {},
     "output_type": "display_data"
    }
   ],
   "source": [
    "# Fitting the model\n",
    "pipe.set_params(**SAT_RandomForest_model.best_params_)\n",
    "pipe.fit(X_SAT_train, y_SAT_train)\n",
    "\n",
    "# list the top 20 features with highest impact on the model\n",
    "coef = pipe.steps[2][1].feature_importances_\n",
    "\n",
    "mask = pipe.steps[0][1].get_support()\n",
    "new_features=[]\n",
    "feature_names=list(X_SAT_train.columns.values)\n",
    "for bool, feature in zip(mask, feature_names):\n",
    "    if bool:\n",
    "        new_features.append(feature)\n",
    "\n",
    "#Creates a new dataframe with the coefficients and the \n",
    "predicted_data = pd.DataFrame(data=coef,index=new_features,columns=['Influence'])\n",
    "print(\"The top 20 features that influence SAT Score are the following\")\n",
    "display(predicted_data.sort_values(by='Influence', ascending=False)[0:20])"
   ]
  },
  {
   "cell_type": "code",
   "execution_count": 21,
   "metadata": {
    "scrolled": true
   },
   "outputs": [
    {
     "data": {
      "image/png": "[encoded data removed]",
      "text/plain": [
       "<Figure size 1440x576 with 1 Axes>"
      ]
     },
     "metadata": {},
     "output_type": "display_data"
    }
   ],
   "source": [
    "plt.style.use('ggplot')\n",
    "Importances=predicted_data.sort_values(by='Influence', ascending=False)[0:30]\n",
    "wt_plt_df = predicted_data.head(75)\n",
    "\n",
    "weights = pd.Series(wt_plt_df['Influence'].values,index=wt_plt_df.index)\n",
    "ax = Importances.plot(kind='bar', figsize=(20,8))\n",
    "\n",
    "\n",
    "\n",
    "\n",
    "ax.set_title(\"Top Feature\")\n",
    "ax.set_ylabel(\"Influence level\")\n",
    "ax.set_xlabel(\"Feature Names\")\n",
    "plt.show()"
   ]
  },
  {
   "cell_type": "code",
   "execution_count": 22,
   "metadata": {
    "scrolled": true
   },
   "outputs": [
    {
     "data": {
      "text/plain": [
       "<matplotlib.axes._subplots.AxesSubplot at 0x5432b38>"
      ]
     },
     "execution_count": 22,
     "metadata": {},
     "output_type": "execute_result"
    },
    {
     "data": {
      "image/png": "[encoded data removed]",
      "text/plain": [
       "<Figure size 1440x864 with 1 Axes>"
      ]
     },
     "metadata": {},
     "output_type": "display_data"
    }
   ],
   "source": [
    "predicted_data.sort_values(by='Influence', ascending=False)[0:10].plot(kind='barh', figsize=(20,12), color='rgbkymc')"
   ]
  },
  {
   "cell_type": "markdown",
   "metadata": {},
   "source": [
    "# Recursive Feature Elimination - SAT RFC"
   ]
  },
  {
   "cell_type": "code",
   "execution_count": 28,
   "metadata": {},
   "outputs": [
    {
     "name": "stdout",
     "output_type": "stream",
     "text": [
      "RFC Accuracy: 82.76%\n",
      "Thresh=0.098, n=1, Accuracy: 72.32%\n",
      "Thresh=0.063, n=2, Accuracy: 75.16%\n",
      "Thresh=0.049, n=3, Accuracy: 75.78%\n",
      "Thresh=0.042, n=4, Accuracy: 72.10%\n",
      "Thresh=0.032, n=5, Accuracy: 75.01%\n",
      "Thresh=0.025, n=6, Accuracy: 82.14%\n",
      "Thresh=0.022, n=7, Accuracy: 81.53%\n",
      "Thresh=0.021, n=8, Accuracy: 80.44%\n",
      "Thresh=0.021, n=9, Accuracy: 80.44%\n",
      "Thresh=0.020, n=10, Accuracy: 82.78%\n",
      "Thresh=0.017, n=11, Accuracy: 83.60%\n",
      "Thresh=0.013, n=12, Accuracy: 82.17%\n",
      "Thresh=0.013, n=13, Accuracy: 81.28%\n",
      "Thresh=0.013, n=14, Accuracy: 81.53%\n",
      "Thresh=0.013, n=15, Accuracy: 81.50%\n",
      "Thresh=0.012, n=16, Accuracy: 83.32%\n",
      "Thresh=0.012, n=17, Accuracy: 82.19%\n",
      "Thresh=0.012, n=18, Accuracy: 84.21%\n",
      "Thresh=0.011, n=19, Accuracy: 82.46%\n",
      "Thresh=0.010, n=20, Accuracy: 83.67%\n"
     ]
    }
   ],
   "source": [
    "model = RandomForestClassifier()\n",
    "model.fit(X_SAT_train, y_SAT_train)\n",
    " \n",
    "# make predictions for test data and evaluate\n",
    "pred_y = model.predict(X_SAT_test)\n",
    "predictions = [round(value) for value in pred_y]\n",
    "accuracy = roc_auc_score(y_SAT_test, predictions)\n",
    "print(\"RFC Accuracy: %.2f%%\" % (accuracy * 100.0))\n",
    " \n",
    "# Assigns the top 20 most important features in descending order\n",
    "thresholds = np.sort(model.feature_importances_)[::-1][0:20]\n",
    "\n",
    "# fit model using each importance as a threshold\n",
    "for thresh in thresholds:\n",
    "    # selecting features using threshold\n",
    "    selection = SelectFromModel(model, threshold=thresh, prefit=True)\n",
    "    select_train_x = selection.transform(X_SAT_train)\n",
    "    \n",
    "    # training model\n",
    "    selection_model = RandomForestClassifier()\n",
    "    selection_model.fit(select_train_x, y_SAT_train)\n",
    "    \n",
    "    # evaluating model\n",
    "    select_test_x = selection.transform(X_SAT_test)\n",
    "    pred_y = selection_model.predict(select_test_x)\n",
    "    predictions = [round(value) for value in pred_y]\n",
    "    accuracy = roc_auc_score(y_SAT_test, predictions)\n",
    "    print(\"Thresh=%.3f, n=%d, Accuracy: %.2f%%\" % (thresh, select_train_x.shape[1], accuracy*100.0))"
   ]
  },
  {
   "cell_type": "markdown",
   "metadata": {},
   "source": [
    "#  Feature Evaluation for the top performing Crime Model: Gradient Boost Classifier"
   ]
  },
  {
   "cell_type": "code",
   "execution_count": 217,
   "metadata": {},
   "outputs": [
    {
     "name": "stdout",
     "output_type": "stream",
     "text": [
      "The top 10 features that influence improved crime rates for a school are the following\n"
     ]
    },
    {
     "data": {
      "text/html": [
       "<div>\n",
       "<style scoped>\n",
       "    .dataframe tbody tr th:only-of-type {\n",
       "        vertical-align: middle;\n",
       "    }\n",
       "\n",
       "    .dataframe tbody tr th {\n",
       "        vertical-align: top;\n",
       "    }\n",
       "\n",
       "    .dataframe thead th {\n",
       "        text-align: right;\n",
       "    }\n",
       "</style>\n",
       "<table border=\"1\" class=\"dataframe\">\n",
       "  <thead>\n",
       "    <tr style=\"text-align: right;\">\n",
       "      <th></th>\n",
       "      <th>Influence</th>\n",
       "    </tr>\n",
       "  </thead>\n",
       "  <tbody>\n",
       "    <tr>\n",
       "      <th>avg_daily_attend_pct</th>\n",
       "      <td>0.023172</td>\n",
       "    </tr>\n",
       "    <tr>\n",
       "      <th>short_susp_per_c_num</th>\n",
       "      <td>0.020935</td>\n",
       "    </tr>\n",
       "    <tr>\n",
       "      <th>cte_courses</th>\n",
       "      <td>0.018099</td>\n",
       "    </tr>\n",
       "    <tr>\n",
       "      <th>advance_dgr_pct</th>\n",
       "      <td>0.013822</td>\n",
       "    </tr>\n",
       "    <tr>\n",
       "      <th>TwoOrMoreFemalePct</th>\n",
       "      <td>0.011969</td>\n",
       "    </tr>\n",
       "    <tr>\n",
       "      <th>stud_internet_comp_num</th>\n",
       "      <td>0.011313</td>\n",
       "    </tr>\n",
       "    <tr>\n",
       "      <th>unit_code</th>\n",
       "      <td>0.011107</td>\n",
       "    </tr>\n",
       "    <tr>\n",
       "      <th>tchyrs_4thru10_pct</th>\n",
       "      <td>0.010734</td>\n",
       "    </tr>\n",
       "    <tr>\n",
       "      <th>student_num</th>\n",
       "      <td>0.010410</td>\n",
       "    </tr>\n",
       "    <tr>\n",
       "      <th>EOCMathI_GLP_SWD</th>\n",
       "      <td>0.010190</td>\n",
       "    </tr>\n",
       "  </tbody>\n",
       "</table>\n",
       "</div>"
      ],
      "text/plain": [
       "                        Influence\n",
       "avg_daily_attend_pct     0.023172\n",
       "short_susp_per_c_num     0.020935\n",
       "cte_courses              0.018099\n",
       "advance_dgr_pct          0.013822\n",
       "TwoOrMoreFemalePct       0.011969\n",
       "stud_internet_comp_num   0.011313\n",
       "unit_code                0.011107\n",
       "tchyrs_4thru10_pct       0.010734\n",
       "student_num              0.010410\n",
       "EOCMathI_GLP_SWD         0.010190"
      ]
     },
     "metadata": {},
     "output_type": "display_data"
    }
   ],
   "source": [
    "pipe.set_params(**crime_GradientBoost_model.best_params_);\n",
    "pipe.fit(X_crime_train, y_crime_train)\n",
    "\n",
    "coef = pipe.steps[2][1].feature_importances_\n",
    "\n",
    "\n",
    "mask = pipe.steps[0][1].get_support()\n",
    "new_features=[]\n",
    "feature_names=list(X_crime_train.columns.values)\n",
    "for bool, feature in zip(mask, feature_names):\n",
    "    if bool:\n",
    "        new_features.append(feature)\n",
    "\n",
    "#Creates a new dataframe with the coefficients and the \n",
    "predicted_data = pd.DataFrame(data=coef,index=new_features,columns=['Influence'])\n",
    "print(\"The top 10 features that influence improved crime rates for a school are the following\")\n",
    "\n",
    "\n",
    "\n",
    "display(predicted_data.sort_values(by='Influence', ascending=False)[0:10])"
   ]
  },
  {
   "cell_type": "code",
   "execution_count": 218,
   "metadata": {},
   "outputs": [
    {
     "data": {
      "image/png": "[encoded data removed]",
      "text/plain": [
       "<Figure size 432x288 with 1 Axes>"
      ]
     },
     "metadata": {},
     "output_type": "display_data"
    }
   ],
   "source": [
    "feat_importances = pd.Series(pipe.steps[2][1].feature_importances_, index=X_crime_train.columns)\n",
    "feat_importances = feat_importances.nlargest(10)\n",
    "feat_importances.plot(kind='barh');"
   ]
  },
  {
   "cell_type": "markdown",
   "metadata": {},
   "source": [
    "#  Coefficient influence using Logistic Regression"
   ]
  },
  {
   "cell_type": "code",
   "execution_count": 219,
   "metadata": {},
   "outputs": [
    {
     "name": "stdout",
     "output_type": "stream",
     "text": [
      "The top 10 features that influence improved crime rates for a school are the following\n"
     ]
    },
    {
     "data": {
      "text/html": [
       "<div>\n",
       "<style scoped>\n",
       "    .dataframe tbody tr th:only-of-type {\n",
       "        vertical-align: middle;\n",
       "    }\n",
       "\n",
       "    .dataframe tbody tr th {\n",
       "        vertical-align: top;\n",
       "    }\n",
       "\n",
       "    .dataframe thead th {\n",
       "        text-align: right;\n",
       "    }\n",
       "</style>\n",
       "<table border=\"1\" class=\"dataframe\">\n",
       "  <thead>\n",
       "    <tr style=\"text-align: right;\">\n",
       "      <th></th>\n",
       "      <th>Coefficient</th>\n",
       "    </tr>\n",
       "  </thead>\n",
       "  <tbody>\n",
       "    <tr>\n",
       "      <th>long_susp_per_c_num</th>\n",
       "      <td>-0.055645</td>\n",
       "    </tr>\n",
       "    <tr>\n",
       "      <th>avg_daily_attend_pct</th>\n",
       "      <td>0.055531</td>\n",
       "    </tr>\n",
       "    <tr>\n",
       "      <th>SPG Score</th>\n",
       "      <td>0.052230</td>\n",
       "    </tr>\n",
       "    <tr>\n",
       "      <th>TotalTargets_pTarget_PctMet</th>\n",
       "      <td>0.040447</td>\n",
       "    </tr>\n",
       "    <tr>\n",
       "      <th>cte_courses</th>\n",
       "      <td>-0.039263</td>\n",
       "    </tr>\n",
       "    <tr>\n",
       "      <th>univ_college_courses</th>\n",
       "      <td>0.038527</td>\n",
       "    </tr>\n",
       "    <tr>\n",
       "      <th>ap_pct_3_or_above</th>\n",
       "      <td>-0.038461</td>\n",
       "    </tr>\n",
       "    <tr>\n",
       "      <th>EOCMathI_CACR_EDS</th>\n",
       "      <td>0.035319</td>\n",
       "    </tr>\n",
       "    <tr>\n",
       "      <th>grade_range_cd_9-13</th>\n",
       "      <td>0.032958</td>\n",
       "    </tr>\n",
       "    <tr>\n",
       "      <th>grade_range_cd_K-12</th>\n",
       "      <td>-0.032523</td>\n",
       "    </tr>\n",
       "  </tbody>\n",
       "</table>\n",
       "</div>"
      ],
      "text/plain": [
       "                             Coefficient\n",
       "long_susp_per_c_num            -0.055645\n",
       "avg_daily_attend_pct            0.055531\n",
       "SPG Score                       0.052230\n",
       "TotalTargets_pTarget_PctMet     0.040447\n",
       "cte_courses                    -0.039263\n",
       "univ_college_courses            0.038527\n",
       "ap_pct_3_or_above              -0.038461\n",
       "EOCMathI_CACR_EDS               0.035319\n",
       "grade_range_cd_9-13             0.032958\n",
       "grade_range_cd_K-12            -0.032523"
      ]
     },
     "metadata": {},
     "output_type": "display_data"
    }
   ],
   "source": [
    "pipe.set_params(**crime_LogicReg_model.best_params_)\n",
    "pipe.fit(X_crime_train, y_crime_train)\n",
    "\n",
    "clf = pipe.steps[2][1]\n",
    "\n",
    "abs_coef = np.asarray([abs(x) for x in clf.coef_ ])\n",
    "mask = pipe.steps[0][1].get_support()\n",
    "new_features=[]\n",
    "feature_names=list(X_crime_train.columns.values)\n",
    "for bool, feature in zip(mask, feature_names):\n",
    "    if bool:\n",
    "        new_features.append(feature)\n",
    "\n",
    "#Creates a new dataframe with the coefficients and the \n",
    "\n",
    "predicted_data = pd.DataFrame({'Coefficient':clf.coef_[0],'abs_Influence':abs_coef[0]},index=new_features )\n",
    "print(\"The top 10 features that influence improved crime rates for a school are the following\")\n",
    "display(predicted_data.sort_values(by='abs_Influence', ascending=False).drop('abs_Influence',axis=1)[0:10])"
   ]
  },
  {
   "cell_type": "markdown",
   "metadata": {},
   "source": [
    "# Reduced scope model"
   ]
  },
  {
   "cell_type": "code",
   "execution_count": 220,
   "metadata": {},
   "outputs": [],
   "source": [
    "X_crime_reduced = X_crime[X_crime.columns.drop(list(X_crime.filter(regex='[Ww]hite|[Mm]ale|[Pp]acific[Ii]sland|[Aa]sian|[Hh]ispanic|[Rr]ace|[Bb]lack|[Mm]inority|[Tw]wo[Oo]r[Mm]ore|[Ii]ndian|[Ww]hite')))]\n",
    "X_crime_reduced_train, X_crime_reduced_test, y_crime_reduced_train, y_crime_reduced_test = train_test_split(X_crime_reduced, y_crime, test_size=.2)"
   ]
  },
  {
   "cell_type": "markdown",
   "metadata": {},
   "source": [
    "Based on the contributing features to the model we wanted to remove any items that could influence policy items that could be biased against a protected class, including sex and race, for the high schools in the schools specified in these North Carolina models. We wanted to remove any indicators that could possibly indicate the race of and makeup of the student body so as to not disadvantage any group of students with any recommendations for policy changes."
   ]
  },
  {
   "cell_type": "markdown",
   "metadata": {},
   "source": [
    "# Reduced method using Gradient Boost method"
   ]
  },
  {
   "cell_type": "code",
   "execution_count": 221,
   "metadata": {},
   "outputs": [
    {
     "name": "stdout",
     "output_type": "stream",
     "text": [
      "0.63845\n"
     ]
    }
   ],
   "source": [
    "pipe.set_params(**crime_GradientBoost_model.best_params_)\n",
    "pipe.fit(X_crime_reduced_train, y_crime_reduced_train)\n",
    "\n",
    "y_crime_reduced_score = pipe.predict(X_crime_reduced_test)\n",
    "\n",
    "print(round(roc_auc_score(y_crime_reduced_test, y_crime_reduced_score),5))"
   ]
  },
  {
   "cell_type": "code",
   "execution_count": 222,
   "metadata": {
    "scrolled": false
   },
   "outputs": [
    {
     "name": "stdout",
     "output_type": "stream",
     "text": [
      "The top 10 features that influence SPG Grade are the following\n"
     ]
    },
    {
     "data": {
      "text/html": [
       "<div>\n",
       "<style scoped>\n",
       "    .dataframe tbody tr th:only-of-type {\n",
       "        vertical-align: middle;\n",
       "    }\n",
       "\n",
       "    .dataframe tbody tr th {\n",
       "        vertical-align: top;\n",
       "    }\n",
       "\n",
       "    .dataframe thead th {\n",
       "        text-align: right;\n",
       "    }\n",
       "</style>\n",
       "<table border=\"1\" class=\"dataframe\">\n",
       "  <thead>\n",
       "    <tr style=\"text-align: right;\">\n",
       "      <th></th>\n",
       "      <th>Influence</th>\n",
       "    </tr>\n",
       "  </thead>\n",
       "  <tbody>\n",
       "    <tr>\n",
       "      <th>avg_daily_attend_pct</th>\n",
       "      <td>0.033587</td>\n",
       "    </tr>\n",
       "    <tr>\n",
       "      <th>short_susp_per_c_num</th>\n",
       "      <td>0.028244</td>\n",
       "    </tr>\n",
       "    <tr>\n",
       "      <th>advance_dgr_pct</th>\n",
       "      <td>0.024136</td>\n",
       "    </tr>\n",
       "    <tr>\n",
       "      <th>cte_courses</th>\n",
       "      <td>0.019565</td>\n",
       "    </tr>\n",
       "    <tr>\n",
       "      <th>tchyrs_11plus_pct</th>\n",
       "      <td>0.019037</td>\n",
       "    </tr>\n",
       "    <tr>\n",
       "      <th>stud_internet_comp_num</th>\n",
       "      <td>0.017615</td>\n",
       "    </tr>\n",
       "    <tr>\n",
       "      <th>student_num</th>\n",
       "      <td>0.017467</td>\n",
       "    </tr>\n",
       "    <tr>\n",
       "      <th>SPG Score</th>\n",
       "      <td>0.017398</td>\n",
       "    </tr>\n",
       "    <tr>\n",
       "      <th>_1yr_tchr_trnovr_pct</th>\n",
       "      <td>0.017327</td>\n",
       "    </tr>\n",
       "    <tr>\n",
       "      <th>unit_code</th>\n",
       "      <td>0.016132</td>\n",
       "    </tr>\n",
       "  </tbody>\n",
       "</table>\n",
       "</div>"
      ],
      "text/plain": [
       "                        Influence\n",
       "avg_daily_attend_pct     0.033587\n",
       "short_susp_per_c_num     0.028244\n",
       "advance_dgr_pct          0.024136\n",
       "cte_courses              0.019565\n",
       "tchyrs_11plus_pct        0.019037\n",
       "stud_internet_comp_num   0.017615\n",
       "student_num              0.017467\n",
       "SPG Score                0.017398\n",
       "_1yr_tchr_trnovr_pct     0.017327\n",
       "unit_code                0.016132"
      ]
     },
     "metadata": {},
     "output_type": "display_data"
    }
   ],
   "source": [
    "coef = pipe.steps[2][1].feature_importances_\n",
    "\n",
    "mask = pipe.steps[0][1].get_support()\n",
    "new_features=[]\n",
    "feature_names=list(X_crime_reduced_train.columns.values)\n",
    "for bool, feature in zip(mask, feature_names):\n",
    "    if bool:\n",
    "        new_features.append(feature)\n",
    "\n",
    "#Creates a new dataframe with the coefficients and the \n",
    "predicted_data = pd.DataFrame(data=coef,index=new_features,columns=['Influence'])\n",
    "print(\"The top 10 features that influence SPG Grade are the following\")\n",
    "\n",
    "\n",
    "\n",
    "display(predicted_data.sort_values(by='Influence', ascending=False)[0:10])"
   ]
  },
  {
   "cell_type": "markdown",
   "metadata": {},
   "source": [
    "# Deployment\n",
    "5 points - How useful is yolur model for interested parties (i.e., the companies or organizations that might want to use it for prediction)? How would you measure the model's value if it was used by these parties? How would your deploy your model for interested parties? What other data should be collected? How often would the model need to be updated, etc.?"
   ]
  },
  {
   "cell_type": "code",
   "execution_count": null,
   "metadata": {},
   "outputs": [],
   "source": []
  },
  {
   "cell_type": "markdown",
   "metadata": {},
   "source": [
    "# Exceptional Work\n",
    "10 points - You have free reign to provide additional modeling. \n",
    "One idea: grid search parameters in a parallelized fashion and visualize the \n",
    "performances across attributes. Which parameters are most signiﬁcant for making a \n",
    "good model for each classiﬁcation algorithm?"
   ]
  },
  {
   "cell_type": "code",
   "execution_count": null,
   "metadata": {},
   "outputs": [],
   "source": []
  },
  {
   "cell_type": "markdown",
   "metadata": {},
   "source": [
    "# Reference"
   ]
  },
  {
   "cell_type": "markdown",
   "metadata": {},
   "source": [
    "Explanation of ROC curves and AUC - https://www.dataschool.io/roc-curves-and-auc-explained/\n",
    "\n",
    "Feature importance for Gradient Boosting - https://machinelearningmastery.com/feature-importance-and-feature-selection-with-xgboost-in-python/\n",
    "\n",
    "Getting feature importance with Bagging - https://stackoverflow.com/questions/44333573/feature-importances-bagging-scikit-learn"
   ]
  },
  {
   "cell_type": "code",
   "execution_count": null,
   "metadata": {},
   "outputs": [],
   "source": []
  }
 ],
 "metadata": {
  "kernelspec": {
   "display_name": "Python 3",
   "language": "python",
   "name": "python3"
  },
  "language_info": {
   "codemirror_mode": {
    "name": "ipython",
    "version": 3
   },
   "file_extension": ".py",
   "mimetype": "text/x-python",
   "name": "python",
   "nbconvert_exporter": "python",
   "pygments_lexer": "ipython3",
   "version": "3.6.5"
  }
 },
 "nbformat": 4,
 "nbformat_minor": 2
}
