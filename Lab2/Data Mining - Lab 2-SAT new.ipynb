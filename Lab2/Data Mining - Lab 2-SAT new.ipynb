{
 "cells": [
  {
   "cell_type": "markdown",
   "metadata": {},
   "source": [
    "# Lab 2\n",
    "\n",
    "<b>Class:</b> MSDS 7331 Data Mining\n",
    "<br> <b>Dataset:</b> Belk Endowment Educational Attainment Data \n",
    "\n",
    "<h1 style=\"font-size:150%;\"> Teammates </h1>\n",
    "Maryam Shahini\n",
    "<br> Murtada Shubbar\n",
    "<br> Michael Toolin\n",
    "<br> Steven Millett"
   ]
  },
  {
   "cell_type": "code",
   "execution_count": 3,
   "metadata": {},
   "outputs": [],
   "source": [
    "#Set global variables\n",
    "#Variables for file and school informaiton\n",
    "\n",
    "YEARS = ['2014', '2015', '2016', '2017']\n",
    "\n",
    "#Number of features we will be selecting for feature selection\n",
    "\n",
    "N_FEATURES_OPTIONS = [25,50,100,\"all\"]\n",
    "\n",
    "#Alpha and C we will be using for our classifiers\n",
    "\n",
    "C_ESTIMATORS = [50, 100, 200, 500]\n",
    "C_DEPTH = [2, 3, 5]\n",
    "LEARNING_RATE = [1e-2, 1e-1, 1e0]\n",
    "\n",
    "#Used for KNN gridsearch\n",
    "C_NEIGHBORS = [4, 5]\n",
    "\n",
    "#Used for SVC grid search\n",
    "C_OPTIONS = [1e-4, 1e-3, 1e-2, 1e-1, 1e0, 1e1, 1e2, 1e3, 1e4]\n",
    "\n",
    "#Import data all necessary libraries we will be using in our estimation\n",
    "\n",
    "import pandas as pd\n",
    "import numpy as np\n",
    "import matplotlib.pyplot as plt\n",
    "import seaborn as sns\n",
    "import math\n",
    "import re\n",
    "import sklearn\n",
    "import statistics\n",
    "import random\n",
    "\n",
    "\n",
    "from sklearn.decomposition import PCA, NMF\n",
    "from sklearn.feature_selection import SelectKBest, chi2, SelectPercentile, RFE\n",
    "\n",
    "from sklearn.preprocessing import StandardScaler, Binarizer\n",
    "\n",
    "from sklearn.linear_model import LogisticRegression, SGDClassifier\n",
    "from sklearn.svm import SVC, LinearSVC\n",
    "\n",
    "from sklearn.metrics import accuracy_score, confusion_matrix, roc_auc_score, auc, roc_curve\n",
    "from IPython.display import display, HTML\n",
    "\n",
    "from sklearn.pipeline import make_pipeline, Pipeline\n",
    "from sklearn.model_selection import train_test_split, GridSearchCV, KFold, TimeSeriesSplit, StratifiedShuffleSplit\n",
    "\n",
    "from sklearn.naive_bayes import MultinomialNB\n",
    "\n",
    "from sklearn.ensemble import GradientBoostingClassifier,GradientBoostingRegressor,AdaBoostClassifier,RandomForestClassifier, BaggingClassifier\n",
    "from sklearn.tree import DecisionTreeClassifier\n",
    "from sklearn.neighbors import KNeighborsClassifier\n",
    "\n",
    "%matplotlib inline"
   ]
  },
  {
   "cell_type": "markdown",
   "metadata": {},
   "source": [
    "%%html\n",
    "<style>\n",
    "table {float:left}\n",
    "</style>"
   ]
  },
  {
   "cell_type": "markdown",
   "metadata": {},
   "source": [
    "# 1.a Data Preparation\n",
    "10 points - Deﬁne and prepare your class variables. Use proper variable \n",
    "representations (int, ﬂoat, one-hot, etc.). Use pre-processing methods (as needed) for\n",
    "dimensionality reduction, scaling, etc. Remove variables that are not needed/useful for \n",
    "the analysis.\n",
    "\n",
    "# The Belk Endowment Educational Attainment Data Repository for North Carolina Public Schools\n",
    "Our data set originates from the North Carolina Public Schools Reports and Statistics. This public site contains large amounts of information covering many aspects of the performance of students and schools across the state of North Carolina. It includes public and charter schools ranging from the elementary level to high schools. http://www.ncpublicschools.org/\n",
    "\n",
    "The data used in our lab consists of portions of this data which includes the school years 2014-2017. The data used is the result of combining and cleaning the raw data sets available on the North Carolina website. The machine learning data sets are broken down by school year and then sub-setted by elementary school, middle school and high school information. \n",
    "\n",
    "In this lab our data set consists of all the data available for school years 2015-2017 from the Machine Learning data available.  First step is to combine all the data from previous years and add the variable ‘Year’ to each row, keeping track of which year this data was collected.\n",
    "\n",
    "Next the each feature is inspected for NA values.  If more than 75% of the feature contains NA, we replace that field with 0.  If less than 75% is NA, then the median value of the column is used to replace the NA.\n",
    "\n",
    "###Need description of what was done in Altyrex.\n",
    "\n",
    "Two binary classifications are performed.  The first is classifiying if a schools average SAT score will be above 1000.  This information is useful to teachers and guidance counselors as they are helping students navigate college searches.  The second classifier examines crime rate as compared to the LEA each school is in.\n",
    "\n",
    "\n",
    "\n",
    "|<p align=\"\">Variable|<p align=\"\">Type|<p align=\"\">Note|\n",
    "|--------|----|----|\n",
    "|<p align=\"\">Year|<p align=\"\">Object|<p align=\"\">Tracks year data is from|\n",
    "|<p align=\"\">local_crime_greater|<p align=\"\">int64|<p align=\"\">1 if crime in school is above LEA average crime, 0 otherwise\n",
    "|<p align=\"\">X_crime_reduced|<p align=\"\">Data Frame|<p align=\"\">Used in crime reduced scope model, removes racial information from data|\n",
    "|<p align=\"\">SAT_Score_Above1000|<p align=\"\">int64|<p align=\"\">1 if SAT score is above 1000 ,0 otherwise."
   ]
  },
  {
   "cell_type": "markdown",
   "metadata": {},
   "source": [
    "# 1.b Data Preparation\n",
    "5 points - Describe the final dataset that is used for classification/regression (include a description of any newly formed variables you created)."
   ]
  },
  {
   "cell_type": "code",
   "execution_count": 4,
   "metadata": {},
   "outputs": [
    {
     "name": "stdout",
     "output_type": "stream",
     "text": [
      "(1904, 288)\n"
     ]
    }
   ],
   "source": [
    "# The 2017 Public Schools Machine Learning \n",
    "# Date Set is being used throughout this \n",
    "# analysis.  The _ML suffix is removed to less \n",
    "# name space size\n",
    "# Load Full Public School Data Frames for each year\n",
    "\n",
    "school_data = pd.DataFrame()\n",
    "\n",
    "for year in YEARS:\n",
    "    #Load public school master file\n",
    "    temp_year = pd.read_csv('../Data/'+str(year)+'/Machine Learning Datasets/PublicHighSchools'+str(year)+'_ML.csv', low_memory=False)\n",
    "        \n",
    "    #Add year column and concatonating all data together\n",
    "    temp_year['Year']=year\n",
    "    \n",
    "    if(school_data.empty):\n",
    "        school_data = pd.concat([school_data,temp_year],ignore_index=True)\n",
    "    else:\n",
    "        school_data = pd.concat([school_data,temp_year], join = \"inner\",ignore_index=True)\n",
    "\n",
    "print(school_data.shape)"
   ]
  },
  {
   "cell_type": "code",
   "execution_count": 78,
   "metadata": {},
   "outputs": [
    {
     "name": "stdout",
     "output_type": "stream",
     "text": [
      "(1904, 288)\n"
     ]
    },
    {
     "data": {
      "text/html": [
       "<div>\n",
       "<style scoped>\n",
       "    .dataframe tbody tr th:only-of-type {\n",
       "        vertical-align: middle;\n",
       "    }\n",
       "\n",
       "    .dataframe tbody tr th {\n",
       "        vertical-align: top;\n",
       "    }\n",
       "\n",
       "    .dataframe thead th {\n",
       "        text-align: right;\n",
       "    }\n",
       "</style>\n",
       "<table border=\"1\" class=\"dataframe\">\n",
       "  <thead>\n",
       "    <tr style=\"text-align: right;\">\n",
       "      <th></th>\n",
       "      <th>student_num</th>\n",
       "      <th>lea_avg_student_num</th>\n",
       "      <th>st_avg_student_num</th>\n",
       "      <th>Biology_Size</th>\n",
       "      <th>English II_Size</th>\n",
       "      <th>Math I_Size</th>\n",
       "      <th>lea_total_expense_num</th>\n",
       "      <th>lea_salary_expense_pct</th>\n",
       "      <th>lea_services_expense_pct</th>\n",
       "      <th>lea_supplies_expense_pct</th>\n",
       "      <th>...</th>\n",
       "      <th>grade_range_cd_PK-12</th>\n",
       "      <th>calendar_type_txt_Regular School, Year-Round Calendar</th>\n",
       "      <th>esea_status_P</th>\n",
       "      <th>Grad_project_status_Y</th>\n",
       "      <th>SPG Grade_B</th>\n",
       "      <th>SPG Grade_C</th>\n",
       "      <th>SPG Grade_D</th>\n",
       "      <th>EVAAS Growth Status_Met</th>\n",
       "      <th>EVAAS Growth Status_NotMet</th>\n",
       "      <th>unit_code</th>\n",
       "    </tr>\n",
       "  </thead>\n",
       "  <tbody>\n",
       "    <tr>\n",
       "      <th>count</th>\n",
       "      <td>1904.000000</td>\n",
       "      <td>1904.000000</td>\n",
       "      <td>1904.000000</td>\n",
       "      <td>1904.000000</td>\n",
       "      <td>1904.000000</td>\n",
       "      <td>1904.000000</td>\n",
       "      <td>1904.000000</td>\n",
       "      <td>1904.000000</td>\n",
       "      <td>1904.000000</td>\n",
       "      <td>1904.000000</td>\n",
       "      <td>...</td>\n",
       "      <td>1904.000000</td>\n",
       "      <td>1904.000000</td>\n",
       "      <td>1904.000000</td>\n",
       "      <td>1904.000000</td>\n",
       "      <td>1904.000000</td>\n",
       "      <td>1904.000000</td>\n",
       "      <td>1904.000000</td>\n",
       "      <td>1904.000000</td>\n",
       "      <td>1904.000000</td>\n",
       "      <td>1904.000000</td>\n",
       "    </tr>\n",
       "    <tr>\n",
       "      <th>mean</th>\n",
       "      <td>849.853466</td>\n",
       "      <td>830.111870</td>\n",
       "      <td>828.354517</td>\n",
       "      <td>18.629727</td>\n",
       "      <td>19.313550</td>\n",
       "      <td>18.243172</td>\n",
       "      <td>9093.345021</td>\n",
       "      <td>0.670409</td>\n",
       "      <td>0.081126</td>\n",
       "      <td>0.081555</td>\n",
       "      <td>...</td>\n",
       "      <td>0.006828</td>\n",
       "      <td>0.019433</td>\n",
       "      <td>0.034664</td>\n",
       "      <td>0.398109</td>\n",
       "      <td>0.340336</td>\n",
       "      <td>0.398109</td>\n",
       "      <td>0.087185</td>\n",
       "      <td>0.333508</td>\n",
       "      <td>0.309349</td>\n",
       "      <td>510742.404937</td>\n",
       "    </tr>\n",
       "    <tr>\n",
       "      <th>std</th>\n",
       "      <td>588.307262</td>\n",
       "      <td>357.643945</td>\n",
       "      <td>105.106371</td>\n",
       "      <td>5.607309</td>\n",
       "      <td>5.510312</td>\n",
       "      <td>5.544849</td>\n",
       "      <td>1204.493613</td>\n",
       "      <td>0.095046</td>\n",
       "      <td>0.016536</td>\n",
       "      <td>0.015932</td>\n",
       "      <td>...</td>\n",
       "      <td>0.082369</td>\n",
       "      <td>0.138077</td>\n",
       "      <td>0.182975</td>\n",
       "      <td>0.489637</td>\n",
       "      <td>0.473947</td>\n",
       "      <td>0.489637</td>\n",
       "      <td>0.282180</td>\n",
       "      <td>0.471590</td>\n",
       "      <td>0.462347</td>\n",
       "      <td>279912.990415</td>\n",
       "    </tr>\n",
       "    <tr>\n",
       "      <th>min</th>\n",
       "      <td>8.000000</td>\n",
       "      <td>105.000000</td>\n",
       "      <td>252.000000</td>\n",
       "      <td>0.000000</td>\n",
       "      <td>0.000000</td>\n",
       "      <td>0.000000</td>\n",
       "      <td>7282.190000</td>\n",
       "      <td>0.547000</td>\n",
       "      <td>0.047000</td>\n",
       "      <td>0.028000</td>\n",
       "      <td>...</td>\n",
       "      <td>0.000000</td>\n",
       "      <td>0.000000</td>\n",
       "      <td>0.000000</td>\n",
       "      <td>0.000000</td>\n",
       "      <td>0.000000</td>\n",
       "      <td>0.000000</td>\n",
       "      <td>0.000000</td>\n",
       "      <td>0.000000</td>\n",
       "      <td>0.000000</td>\n",
       "      <td>10303.000000</td>\n",
       "    </tr>\n",
       "    <tr>\n",
       "      <th>25%</th>\n",
       "      <td>326.500000</td>\n",
       "      <td>584.500000</td>\n",
       "      <td>837.000000</td>\n",
       "      <td>16.000000</td>\n",
       "      <td>17.000000</td>\n",
       "      <td>16.000000</td>\n",
       "      <td>8362.900000</td>\n",
       "      <td>0.611000</td>\n",
       "      <td>0.069000</td>\n",
       "      <td>0.071000</td>\n",
       "      <td>...</td>\n",
       "      <td>0.000000</td>\n",
       "      <td>0.000000</td>\n",
       "      <td>0.000000</td>\n",
       "      <td>0.000000</td>\n",
       "      <td>0.000000</td>\n",
       "      <td>0.000000</td>\n",
       "      <td>0.000000</td>\n",
       "      <td>0.000000</td>\n",
       "      <td>0.000000</td>\n",
       "      <td>280330.000000</td>\n",
       "    </tr>\n",
       "    <tr>\n",
       "      <th>50%</th>\n",
       "      <td>783.500000</td>\n",
       "      <td>810.000000</td>\n",
       "      <td>848.000000</td>\n",
       "      <td>19.000000</td>\n",
       "      <td>20.000000</td>\n",
       "      <td>19.000000</td>\n",
       "      <td>8820.080000</td>\n",
       "      <td>0.626000</td>\n",
       "      <td>0.080500</td>\n",
       "      <td>0.081000</td>\n",
       "      <td>...</td>\n",
       "      <td>0.000000</td>\n",
       "      <td>0.000000</td>\n",
       "      <td>0.000000</td>\n",
       "      <td>0.000000</td>\n",
       "      <td>0.000000</td>\n",
       "      <td>0.000000</td>\n",
       "      <td>0.000000</td>\n",
       "      <td>0.000000</td>\n",
       "      <td>0.000000</td>\n",
       "      <td>490380.000000</td>\n",
       "    </tr>\n",
       "    <tr>\n",
       "      <th>75%</th>\n",
       "      <td>1221.250000</td>\n",
       "      <td>974.000000</td>\n",
       "      <td>853.000000</td>\n",
       "      <td>23.000000</td>\n",
       "      <td>23.000000</td>\n",
       "      <td>22.000000</td>\n",
       "      <td>9405.800000</td>\n",
       "      <td>0.655000</td>\n",
       "      <td>0.089000</td>\n",
       "      <td>0.091000</td>\n",
       "      <td>...</td>\n",
       "      <td>0.000000</td>\n",
       "      <td>0.000000</td>\n",
       "      <td>0.000000</td>\n",
       "      <td>1.000000</td>\n",
       "      <td>1.000000</td>\n",
       "      <td>1.000000</td>\n",
       "      <td>0.000000</td>\n",
       "      <td>1.000000</td>\n",
       "      <td>1.000000</td>\n",
       "      <td>761304.000000</td>\n",
       "    </tr>\n",
       "    <tr>\n",
       "      <th>max</th>\n",
       "      <td>2966.000000</td>\n",
       "      <td>1852.000000</td>\n",
       "      <td>860.000000</td>\n",
       "      <td>32.000000</td>\n",
       "      <td>35.000000</td>\n",
       "      <td>37.000000</td>\n",
       "      <td>17801.850000</td>\n",
       "      <td>0.878000</td>\n",
       "      <td>0.153000</td>\n",
       "      <td>0.143000</td>\n",
       "      <td>...</td>\n",
       "      <td>1.000000</td>\n",
       "      <td>1.000000</td>\n",
       "      <td>1.000000</td>\n",
       "      <td>1.000000</td>\n",
       "      <td>1.000000</td>\n",
       "      <td>1.000000</td>\n",
       "      <td>1.000000</td>\n",
       "      <td>1.000000</td>\n",
       "      <td>1.000000</td>\n",
       "      <td>995330.000000</td>\n",
       "    </tr>\n",
       "  </tbody>\n",
       "</table>\n",
       "<p>8 rows × 287 columns</p>\n",
       "</div>"
      ],
      "text/plain": [
       "       student_num  lea_avg_student_num  st_avg_student_num  Biology_Size  \\\n",
       "count  1904.000000          1904.000000         1904.000000   1904.000000   \n",
       "mean    849.853466           830.111870          828.354517     18.629727   \n",
       "std     588.307262           357.643945          105.106371      5.607309   \n",
       "min       8.000000           105.000000          252.000000      0.000000   \n",
       "25%     326.500000           584.500000          837.000000     16.000000   \n",
       "50%     783.500000           810.000000          848.000000     19.000000   \n",
       "75%    1221.250000           974.000000          853.000000     23.000000   \n",
       "max    2966.000000          1852.000000          860.000000     32.000000   \n",
       "\n",
       "       English II_Size  Math I_Size  lea_total_expense_num  \\\n",
       "count      1904.000000  1904.000000            1904.000000   \n",
       "mean         19.313550    18.243172            9093.345021   \n",
       "std           5.510312     5.544849            1204.493613   \n",
       "min           0.000000     0.000000            7282.190000   \n",
       "25%          17.000000    16.000000            8362.900000   \n",
       "50%          20.000000    19.000000            8820.080000   \n",
       "75%          23.000000    22.000000            9405.800000   \n",
       "max          35.000000    37.000000           17801.850000   \n",
       "\n",
       "       lea_salary_expense_pct  lea_services_expense_pct  \\\n",
       "count             1904.000000               1904.000000   \n",
       "mean                 0.670409                  0.081126   \n",
       "std                  0.095046                  0.016536   \n",
       "min                  0.547000                  0.047000   \n",
       "25%                  0.611000                  0.069000   \n",
       "50%                  0.626000                  0.080500   \n",
       "75%                  0.655000                  0.089000   \n",
       "max                  0.878000                  0.153000   \n",
       "\n",
       "       lea_supplies_expense_pct      ...        grade_range_cd_PK-12  \\\n",
       "count               1904.000000      ...                 1904.000000   \n",
       "mean                   0.081555      ...                    0.006828   \n",
       "std                    0.015932      ...                    0.082369   \n",
       "min                    0.028000      ...                    0.000000   \n",
       "25%                    0.071000      ...                    0.000000   \n",
       "50%                    0.081000      ...                    0.000000   \n",
       "75%                    0.091000      ...                    0.000000   \n",
       "max                    0.143000      ...                    1.000000   \n",
       "\n",
       "       calendar_type_txt_Regular School, Year-Round Calendar  esea_status_P  \\\n",
       "count                                        1904.000000        1904.000000   \n",
       "mean                                            0.019433           0.034664   \n",
       "std                                             0.138077           0.182975   \n",
       "min                                             0.000000           0.000000   \n",
       "25%                                             0.000000           0.000000   \n",
       "50%                                             0.000000           0.000000   \n",
       "75%                                             0.000000           0.000000   \n",
       "max                                             1.000000           1.000000   \n",
       "\n",
       "       Grad_project_status_Y  SPG Grade_B  SPG Grade_C  SPG Grade_D  \\\n",
       "count            1904.000000  1904.000000  1904.000000  1904.000000   \n",
       "mean                0.398109     0.340336     0.398109     0.087185   \n",
       "std                 0.489637     0.473947     0.489637     0.282180   \n",
       "min                 0.000000     0.000000     0.000000     0.000000   \n",
       "25%                 0.000000     0.000000     0.000000     0.000000   \n",
       "50%                 0.000000     0.000000     0.000000     0.000000   \n",
       "75%                 1.000000     1.000000     1.000000     0.000000   \n",
       "max                 1.000000     1.000000     1.000000     1.000000   \n",
       "\n",
       "       EVAAS Growth Status_Met  EVAAS Growth Status_NotMet      unit_code  \n",
       "count              1904.000000                 1904.000000    1904.000000  \n",
       "mean                  0.333508                    0.309349  510742.404937  \n",
       "std                   0.471590                    0.462347  279912.990415  \n",
       "min                   0.000000                    0.000000   10303.000000  \n",
       "25%                   0.000000                    0.000000  280330.000000  \n",
       "50%                   0.000000                    0.000000  490380.000000  \n",
       "75%                   1.000000                    1.000000  761304.000000  \n",
       "max                   1.000000                    1.000000  995330.000000  \n",
       "\n",
       "[8 rows x 287 columns]"
      ]
     },
     "execution_count": 78,
     "metadata": {},
     "output_type": "execute_result"
    }
   ],
   "source": [
    "#This is the critical threshold\n",
    "CRITICAL_NA = .75\n",
    "\n",
    "#With this we check if the column is less than 75% non-NA, if it is greater than 75% non-NA\n",
    "#We replace the NA with the median of the column, otherwise we replace the value with 0\n",
    "\n",
    "imputed_school_data = school_data.apply(lambda col: col.fillna(0) if col.count()/col.shape[0]<CRITICAL_NA else col.fillna(col.median()),axis=0)\n",
    "\n",
    "print(school_data.shape)\n",
    "school_data.describe()\n"
   ]
  },
  {
   "cell_type": "code",
   "execution_count": 6,
   "metadata": {},
   "outputs": [
    {
     "data": {
      "text/html": [
       "<div>\n",
       "<style scoped>\n",
       "    .dataframe tbody tr th:only-of-type {\n",
       "        vertical-align: middle;\n",
       "    }\n",
       "\n",
       "    .dataframe tbody tr th {\n",
       "        vertical-align: top;\n",
       "    }\n",
       "\n",
       "    .dataframe thead th {\n",
       "        text-align: right;\n",
       "    }\n",
       "</style>\n",
       "<table border=\"1\" class=\"dataframe\">\n",
       "  <thead>\n",
       "    <tr style=\"text-align: right;\">\n",
       "      <th></th>\n",
       "      <th>Year</th>\n",
       "      <th>lea_avg_student_num</th>\n",
       "      <th>st_avg_student_num</th>\n",
       "      <th>Biology_Size</th>\n",
       "      <th>English II_Size</th>\n",
       "      <th>Math I_Size</th>\n",
       "      <th>lea_total_expense_num</th>\n",
       "      <th>lea_salary_expense_pct</th>\n",
       "      <th>lea_services_expense_pct</th>\n",
       "      <th>lea_supplies_expense_pct</th>\n",
       "      <th>...</th>\n",
       "      <th>EVAAS Growth Status_NotMet</th>\n",
       "      <th>unit_code</th>\n",
       "      <th>sat_avg_score_num</th>\n",
       "      <th>sat_participation_pct</th>\n",
       "      <th>student_num</th>\n",
       "      <th>SAT_SCORE_ZERO</th>\n",
       "      <th>SAT_Score_above1000</th>\n",
       "      <th>SAT_participation_number</th>\n",
       "      <th>EST_Student_College_NO</th>\n",
       "      <th>Student_Num_College_Ready_SAT</th>\n",
       "    </tr>\n",
       "  </thead>\n",
       "  <tbody>\n",
       "    <tr>\n",
       "      <th>count</th>\n",
       "      <td>1904.000000</td>\n",
       "      <td>1904.000000</td>\n",
       "      <td>1904.000000</td>\n",
       "      <td>1904.000000</td>\n",
       "      <td>1904.000000</td>\n",
       "      <td>1904.000000</td>\n",
       "      <td>1904.000000</td>\n",
       "      <td>1904.000000</td>\n",
       "      <td>1904.000000</td>\n",
       "      <td>1904.000000</td>\n",
       "      <td>...</td>\n",
       "      <td>1904.000000</td>\n",
       "      <td>1904.000000</td>\n",
       "      <td>1904.000000</td>\n",
       "      <td>1904.000000</td>\n",
       "      <td>1904.000000</td>\n",
       "      <td>1904.000000</td>\n",
       "      <td>1904.000000</td>\n",
       "      <td>1904.000000</td>\n",
       "      <td>1904.000000</td>\n",
       "      <td>1904.000000</td>\n",
       "    </tr>\n",
       "    <tr>\n",
       "      <th>mean</th>\n",
       "      <td>2015.494748</td>\n",
       "      <td>830.111870</td>\n",
       "      <td>828.354517</td>\n",
       "      <td>18.629727</td>\n",
       "      <td>19.313550</td>\n",
       "      <td>18.243172</td>\n",
       "      <td>9093.345021</td>\n",
       "      <td>0.670409</td>\n",
       "      <td>0.081126</td>\n",
       "      <td>0.081555</td>\n",
       "      <td>...</td>\n",
       "      <td>0.309349</td>\n",
       "      <td>510742.404937</td>\n",
       "      <td>938.730042</td>\n",
       "      <td>0.443502</td>\n",
       "      <td>849.853466</td>\n",
       "      <td>0.047794</td>\n",
       "      <td>0.435399</td>\n",
       "      <td>411.483895</td>\n",
       "      <td>438.369571</td>\n",
       "      <td>225.275358</td>\n",
       "    </tr>\n",
       "    <tr>\n",
       "      <th>std</th>\n",
       "      <td>1.115492</td>\n",
       "      <td>357.643945</td>\n",
       "      <td>105.106371</td>\n",
       "      <td>5.607309</td>\n",
       "      <td>5.510312</td>\n",
       "      <td>5.544849</td>\n",
       "      <td>1204.493613</td>\n",
       "      <td>0.095046</td>\n",
       "      <td>0.016536</td>\n",
       "      <td>0.015932</td>\n",
       "      <td>...</td>\n",
       "      <td>0.462347</td>\n",
       "      <td>279912.990415</td>\n",
       "      <td>230.158463</td>\n",
       "      <td>0.201202</td>\n",
       "      <td>588.307262</td>\n",
       "      <td>0.213386</td>\n",
       "      <td>0.495939</td>\n",
       "      <td>379.693851</td>\n",
       "      <td>293.332556</td>\n",
       "      <td>405.625204</td>\n",
       "    </tr>\n",
       "    <tr>\n",
       "      <th>min</th>\n",
       "      <td>2014.000000</td>\n",
       "      <td>105.000000</td>\n",
       "      <td>252.000000</td>\n",
       "      <td>0.000000</td>\n",
       "      <td>0.000000</td>\n",
       "      <td>0.000000</td>\n",
       "      <td>7282.190000</td>\n",
       "      <td>0.547000</td>\n",
       "      <td>0.047000</td>\n",
       "      <td>0.028000</td>\n",
       "      <td>...</td>\n",
       "      <td>0.000000</td>\n",
       "      <td>10303.000000</td>\n",
       "      <td>0.000000</td>\n",
       "      <td>0.000000</td>\n",
       "      <td>8.000000</td>\n",
       "      <td>0.000000</td>\n",
       "      <td>0.000000</td>\n",
       "      <td>0.000000</td>\n",
       "      <td>0.000000</td>\n",
       "      <td>0.000000</td>\n",
       "    </tr>\n",
       "    <tr>\n",
       "      <th>25%</th>\n",
       "      <td>2014.750000</td>\n",
       "      <td>584.500000</td>\n",
       "      <td>837.000000</td>\n",
       "      <td>16.000000</td>\n",
       "      <td>17.000000</td>\n",
       "      <td>16.000000</td>\n",
       "      <td>8362.900000</td>\n",
       "      <td>0.611000</td>\n",
       "      <td>0.069000</td>\n",
       "      <td>0.071000</td>\n",
       "      <td>...</td>\n",
       "      <td>0.000000</td>\n",
       "      <td>280330.000000</td>\n",
       "      <td>911.000000</td>\n",
       "      <td>0.330000</td>\n",
       "      <td>326.500000</td>\n",
       "      <td>0.000000</td>\n",
       "      <td>0.000000</td>\n",
       "      <td>133.284000</td>\n",
       "      <td>182.814250</td>\n",
       "      <td>0.000000</td>\n",
       "    </tr>\n",
       "    <tr>\n",
       "      <th>50%</th>\n",
       "      <td>2015.000000</td>\n",
       "      <td>810.000000</td>\n",
       "      <td>848.000000</td>\n",
       "      <td>19.000000</td>\n",
       "      <td>20.000000</td>\n",
       "      <td>19.000000</td>\n",
       "      <td>8820.080000</td>\n",
       "      <td>0.626000</td>\n",
       "      <td>0.080500</td>\n",
       "      <td>0.081000</td>\n",
       "      <td>...</td>\n",
       "      <td>0.000000</td>\n",
       "      <td>490380.000000</td>\n",
       "      <td>983.500000</td>\n",
       "      <td>0.447500</td>\n",
       "      <td>783.500000</td>\n",
       "      <td>0.000000</td>\n",
       "      <td>0.000000</td>\n",
       "      <td>314.703500</td>\n",
       "      <td>413.755000</td>\n",
       "      <td>0.000000</td>\n",
       "    </tr>\n",
       "    <tr>\n",
       "      <th>75%</th>\n",
       "      <td>2016.000000</td>\n",
       "      <td>974.000000</td>\n",
       "      <td>853.000000</td>\n",
       "      <td>23.000000</td>\n",
       "      <td>23.000000</td>\n",
       "      <td>22.000000</td>\n",
       "      <td>9405.800000</td>\n",
       "      <td>0.655000</td>\n",
       "      <td>0.089000</td>\n",
       "      <td>0.091000</td>\n",
       "      <td>...</td>\n",
       "      <td>1.000000</td>\n",
       "      <td>761304.000000</td>\n",
       "      <td>1046.000000</td>\n",
       "      <td>0.570000</td>\n",
       "      <td>1221.250000</td>\n",
       "      <td>0.000000</td>\n",
       "      <td>1.000000</td>\n",
       "      <td>565.942500</td>\n",
       "      <td>620.300000</td>\n",
       "      <td>285.960000</td>\n",
       "    </tr>\n",
       "    <tr>\n",
       "      <th>max</th>\n",
       "      <td>2017.000000</td>\n",
       "      <td>1852.000000</td>\n",
       "      <td>860.000000</td>\n",
       "      <td>32.000000</td>\n",
       "      <td>35.000000</td>\n",
       "      <td>37.000000</td>\n",
       "      <td>17801.850000</td>\n",
       "      <td>0.878000</td>\n",
       "      <td>0.153000</td>\n",
       "      <td>0.143000</td>\n",
       "      <td>...</td>\n",
       "      <td>1.000000</td>\n",
       "      <td>995330.000000</td>\n",
       "      <td>1430.000000</td>\n",
       "      <td>1.000000</td>\n",
       "      <td>2966.000000</td>\n",
       "      <td>1.000000</td>\n",
       "      <td>1.000000</td>\n",
       "      <td>2358.030000</td>\n",
       "      <td>1696.470000</td>\n",
       "      <td>2358.030000</td>\n",
       "    </tr>\n",
       "  </tbody>\n",
       "</table>\n",
       "<p>8 rows × 249 columns</p>\n",
       "</div>"
      ],
      "text/plain": [
       "              Year  lea_avg_student_num  st_avg_student_num  Biology_Size  \\\n",
       "count  1904.000000          1904.000000         1904.000000   1904.000000   \n",
       "mean   2015.494748           830.111870          828.354517     18.629727   \n",
       "std       1.115492           357.643945          105.106371      5.607309   \n",
       "min    2014.000000           105.000000          252.000000      0.000000   \n",
       "25%    2014.750000           584.500000          837.000000     16.000000   \n",
       "50%    2015.000000           810.000000          848.000000     19.000000   \n",
       "75%    2016.000000           974.000000          853.000000     23.000000   \n",
       "max    2017.000000          1852.000000          860.000000     32.000000   \n",
       "\n",
       "       English II_Size  Math I_Size  lea_total_expense_num  \\\n",
       "count      1904.000000  1904.000000            1904.000000   \n",
       "mean         19.313550    18.243172            9093.345021   \n",
       "std           5.510312     5.544849            1204.493613   \n",
       "min           0.000000     0.000000            7282.190000   \n",
       "25%          17.000000    16.000000            8362.900000   \n",
       "50%          20.000000    19.000000            8820.080000   \n",
       "75%          23.000000    22.000000            9405.800000   \n",
       "max          35.000000    37.000000           17801.850000   \n",
       "\n",
       "       lea_salary_expense_pct  lea_services_expense_pct  \\\n",
       "count             1904.000000               1904.000000   \n",
       "mean                 0.670409                  0.081126   \n",
       "std                  0.095046                  0.016536   \n",
       "min                  0.547000                  0.047000   \n",
       "25%                  0.611000                  0.069000   \n",
       "50%                  0.626000                  0.080500   \n",
       "75%                  0.655000                  0.089000   \n",
       "max                  0.878000                  0.153000   \n",
       "\n",
       "       lea_supplies_expense_pct              ...                \\\n",
       "count               1904.000000              ...                 \n",
       "mean                   0.081555              ...                 \n",
       "std                    0.015932              ...                 \n",
       "min                    0.028000              ...                 \n",
       "25%                    0.071000              ...                 \n",
       "50%                    0.081000              ...                 \n",
       "75%                    0.091000              ...                 \n",
       "max                    0.143000              ...                 \n",
       "\n",
       "       EVAAS Growth Status_NotMet      unit_code  sat_avg_score_num  \\\n",
       "count                 1904.000000    1904.000000        1904.000000   \n",
       "mean                     0.309349  510742.404937         938.730042   \n",
       "std                      0.462347  279912.990415         230.158463   \n",
       "min                      0.000000   10303.000000           0.000000   \n",
       "25%                      0.000000  280330.000000         911.000000   \n",
       "50%                      0.000000  490380.000000         983.500000   \n",
       "75%                      1.000000  761304.000000        1046.000000   \n",
       "max                      1.000000  995330.000000        1430.000000   \n",
       "\n",
       "       sat_participation_pct  student_num  SAT_SCORE_ZERO  \\\n",
       "count            1904.000000  1904.000000     1904.000000   \n",
       "mean                0.443502   849.853466        0.047794   \n",
       "std                 0.201202   588.307262        0.213386   \n",
       "min                 0.000000     8.000000        0.000000   \n",
       "25%                 0.330000   326.500000        0.000000   \n",
       "50%                 0.447500   783.500000        0.000000   \n",
       "75%                 0.570000  1221.250000        0.000000   \n",
       "max                 1.000000  2966.000000        1.000000   \n",
       "\n",
       "       SAT_Score_above1000  SAT_participation_number  EST_Student_College_NO  \\\n",
       "count          1904.000000               1904.000000             1904.000000   \n",
       "mean              0.435399                411.483895              438.369571   \n",
       "std               0.495939                379.693851              293.332556   \n",
       "min               0.000000                  0.000000                0.000000   \n",
       "25%               0.000000                133.284000              182.814250   \n",
       "50%               0.000000                314.703500              413.755000   \n",
       "75%               1.000000                565.942500              620.300000   \n",
       "max               1.000000               2358.030000             1696.470000   \n",
       "\n",
       "       Student_Num_College_Ready_SAT  \n",
       "count                    1904.000000  \n",
       "mean                      225.275358  \n",
       "std                       405.625204  \n",
       "min                         0.000000  \n",
       "25%                         0.000000  \n",
       "50%                         0.000000  \n",
       "75%                       285.960000  \n",
       "max                      2358.030000  \n",
       "\n",
       "[8 rows x 249 columns]"
      ]
     },
     "execution_count": 6,
     "metadata": {},
     "output_type": "execute_result"
    }
   ],
   "source": [
    "\n",
    "#ed = imputed_school_data.copy()\n",
    "\n",
    "#ed.to_csv('C:\\\\Users\\\\Bahr\\\\Desktop\\\\SMU_DS_Summer_2018\\\\Data_Mining\\\\Assignments\\\\Lab TWO\\\\MSDS7331_NorthCarolinaDataset\\\\Lab2\\\\RAW.csv')\n",
    "\n",
    "#ED is processed using Alteryx \n",
    "\n",
    "\n",
    "#reading in new dataset. \n",
    "SAT_Filtered = pd.DataFrame()\n",
    "SAT_Filtered = pd.read_csv('../Data/School Datasets/HighSchoolCleanFinal.csv', low_memory=False)\n",
    "\n",
    "SAT_Filtered.describe()\n",
    "\n",
    "#SAT_SCORE_ZERO\tBoolean: If SAT equals zero. Used it to test if anyone participated but produced zero scores. \n",
    "#SAT_Score_above1000\t Boolean: SAT score above 1000 or not to get into a decent college in NC. \n",
    "#SAT_participation_number\t Estimate of number of students that took the SAT\n",
    "#EST_Student_College_NO\t Estimate of the number of students who didn't attempt the SAT\n",
    "#Student_Num_College_Ready_SAT\t Estimate of the number of students that can apply to college without SAT score hinderance from that school. \n"
   ]
  },
  {
   "cell_type": "code",
   "execution_count": 7,
   "metadata": {},
   "outputs": [],
   "source": [
    "#SAT_Filtered.head()"
   ]
  },
  {
   "cell_type": "markdown",
   "metadata": {},
   "source": [
    "# Get list of highly correlated features"
   ]
  },
  {
   "cell_type": "code",
   "execution_count": 8,
   "metadata": {},
   "outputs": [],
   "source": [
    "# corr_matrix = imputed_school_data.corr().abs()\n",
    "\n",
    "# # Select upper triangle of correlation matrix\n",
    "# upper = corr_matrix.where(np.triu(np.ones(corr_matrix.shape), k=1).astype(np.bool))\n",
    "\n",
    "# # Find index of feature columns with correlation greater than 0.95\n",
    "# to_drop = [column for column in upper.columns if any(upper[column] > 0.99)]\n",
    "\n",
    "# print(to_drop)"
   ]
  },
  {
   "cell_type": "markdown",
   "metadata": {},
   "source": [
    "# 2.a Modeling and Evaluation\n",
    "Using the right evaluation metric for classification system is crucial. Otherwise, it may results in thinking that the model is performing well but in reality, it doesn’t.\n",
    "\n",
    "There are two tasks in this section of “NC Educational Data” project:\n",
    "\n",
    "The first task is to predict a binary classification target, either if the average SAT score of each school is good enough to gets the student to the North Carolina Universities or not. The SAT is a standardized test widely used for college admissions in the United States. For this purpose we have a cut off 1200 out of 1600. The second task is to predict if the crime per 100 students at each school level is higher than the LEA level or not. After considering all evaluation metrics for classification systems, we ended up using ROC Curve. Area under ROC Curve (or AUC for short) is a performance metric for binary classification problems.\n",
    "\n",
    "In fact, a ROC curve can be used to select a threshold for a classifier which maximizes the true positives, while minimizing the false positives.\n",
    "\n",
    "We usually use ROC when both classes detection are important. Here, our models should be able to decrease both false positive rate (which is identifying the schools with enough good average SAT score for getting admission in different universities) and also decreasing the false negative rate (which is detecting schools with not good average SAT scores).\n",
    "\n",
    "The same for the second task, it is important to decrease both false positive and false negative rates.\n",
    "\n",
    "The AUC represents a model’s ability to discriminate between positive and negative classes. An area of 1.0 represents a model that made all predictions perfectly. An area of 0.5 represents a model as good as random. Most classifiers have AUCs that fall somewhere between these two values. Therefore, the overall model performances can be compared by considering the AUC."
   ]
  },
  {
   "cell_type": "markdown",
   "metadata": {},
   "source": [
    "# 2.b Modeling and Evaluation\n",
    "10 points - Choose the method you will use for dividing your data into training and why testing splits (i.e., are you using Stratiﬁed 10-fold cross validation? Why?). Explain why your chosen method is appropriate or use more than one method as appropriate.\n",
    "\n",
    "Two different data frames based on the same data are used for SAT classification and crime classification. Each data frame is initially split into a training and a test data set. We set aside 20% of the complete data set to test against.  During the training of the model, a standard 10 fold cross validation technique, which. We chose to shuffle the data during the cross validation to provide a higher confidence there was no grouping of schools that we did not notice.\n",
    "\n",
    "Other options available are the Stratifeid k-fold technique which works to balance the ratio of labels used in each fold.  Our dependent variable (local_crime_greater) has approximately a 45-55% split (see pie chart below), and with a large enough data set we can have a high level of confidence of a random split in the data without using Stratfied techniques.  The same held true for the SAT score where the split was approximately 56%-44% (see pie chart below) \n",
    "\n",
    "We chose a K fold (10 folds) validation algorithm, however a  Shuffle Split may have performed just as well with this size data set. Where Shuffle Split is capable of creating n folds and fitting the data using n-1 to train and 1 to test against, there is a chance the same data will appear in the test set each time the data is sampled. We chos K fold to insure each value is used in the training set.\n",
    "\n",
    "\n",
    "We chose not use the Leave One Out (LOO) cross validation due to the computational cost on data set as complex as this.  Empirical evidence has shown a 10-fold cross validation is preferred to the LOO algorithm\n",
    "\n",
    "Grouping algorithms were not relevant to our data set as we do not have groups of dependent variables.\n",
    "\n",
    "(soure:http://scikit-learn.org/stable/modules/cross_validation.html)\n"
   ]
  },
  {
   "cell_type": "markdown",
   "metadata": {},
   "source": [
    "# Task 1: Crime - Classification Model"
   ]
  },
  {
   "cell_type": "code",
   "execution_count": 85,
   "metadata": {},
   "outputs": [
    {
     "data": {
      "text/plain": [
       "dtype('int64')"
      ]
     },
     "execution_count": 85,
     "metadata": {},
     "output_type": "execute_result"
    }
   ],
   "source": [
    "# split X and y into test and train sets. We still want\n",
    "# to do this for external Cross Validation\n",
    "\n",
    "crime_imputed_school_data = imputed_school_data\n",
    "\n",
    "crime_imputed_school_data['local_crime_greater'] = crime_imputed_school_data.apply(lambda each_row: 1 if (each_row['crime_per_c_num']-each_row['lea_crime_per_c_num'])<0 else 0,axis=1)\n",
    "\n",
    "#split data into X and y dataframes\n",
    "\n",
    "y_crime = crime_imputed_school_data['local_crime_greater']\n",
    "\n",
    "#Removed SPG Grade and unit code(which is primary key for school data table)\n",
    " \n",
    "X_crime = imputed_school_data[school_data.columns.drop(list(school_data.filter(regex='crime|lea|LEA|^st\\_')))]\n",
    "\n",
    "X_crime_train, X_crime_test, y_crime_train, y_crime_test = train_test_split(X_crime, y_crime, test_size=.2)\n",
    "y_crime.dtype"
   ]
  },
  {
   "cell_type": "code",
   "execution_count": 101,
   "metadata": {},
   "outputs": [
    {
     "name": "stdout",
     "output_type": "stream",
     "text": [
      "54.41% of the schools have local crime higher then their local LEA average in the training set\n"
     ]
    },
    {
     "data": {
      "image/png": "[encoded data removed]",
      "text/plain": [
       "<Figure size 432x288 with 1 Axes>"
      ]
     },
     "metadata": {},
     "output_type": "display_data"
    }
   ],
   "source": [
    "print ('{0:.2%} of the schools have local crime higher then their local LEA average in the training set'.format(y_crime.sum()/len(y_crime)))\n",
    "labels = 'Crime Greater than LEA', 'Crime Less than LEA',\n",
    "scores = [(y_crime.sum()/len(y_crime)), 1-(y_crime.sum()/len(y_crime))]\n",
    "colors = ['red','green']\n",
    " \n",
    "# Plot\n",
    "plt.pie(scores, labels=labels, colors=colors,\n",
    "        autopct='%1.2f%%', shadow=True, startangle=90)\n",
    " \n",
    "plt.axis('equal')\n",
    "plt.title('School crime rate compared to local LEA in training set')\n",
    "plt.show()"
   ]
  },
  {
   "cell_type": "markdown",
   "metadata": {},
   "source": [
    "# Task 2: SAT Score - Classification Model"
   ]
  },
  {
   "cell_type": "code",
   "execution_count": 102,
   "metadata": {},
   "outputs": [],
   "source": [
    "# To split X and y into test and train sets.\n",
    "\n",
    "y_SAT = SAT_Filtered['SAT_Score_above1000']\n",
    "\n",
    "#Removed SAT_SCore_above1000 and unit code(which is primary key for school data table)\n",
    " \n",
    "X_SAT = SAT_Filtered[SAT_Filtered.columns.drop(list(SAT_Filtered.filter(regex='SAT_Score|SAT_score|SAT_SCORE|sat_avg|unit_code|lea|LEA|^st\\_')))]\n",
    "\n"
   ]
  },
  {
   "cell_type": "code",
   "execution_count": 103,
   "metadata": {},
   "outputs": [
    {
     "name": "stdout",
     "output_type": "stream",
     "text": [
      "43.54% of the schools have SAT scores above 1000 in the training set\n"
     ]
    },
    {
     "data": {
      "image/png": "[encoded data removed]",
      "text/plain": [
       "<Figure size 432x288 with 1 Axes>"
      ]
     },
     "metadata": {},
     "output_type": "display_data"
    }
   ],
   "source": [
    "X_SAT_train, X_SAT_test, y_SAT_train, y_SAT_test = train_test_split(X_SAT, y_SAT, test_size=.2)\n",
    "print ('{0:.2%} of the schools have SAT scores above 1000 in the training set'.format(y_SAT.sum()/len(y_SAT)))\n",
    "y_SAT.dtype\n",
    "labels = 'SAT Score greater than 1000', 'SAT Score less than 1000',\n",
    "scores = [(y_SAT.sum()/len(y_SAT)), 1-(y_SAT.sum()/len(y_SAT))]\n",
    "colors = ['gold','green']\n",
    " \n",
    "# Plot\n",
    "plt.pie(scores, labels=labels, colors=colors,\n",
    "        autopct='%1.2f%%', shadow=True, startangle=90)\n",
    "plt.title('Training set SAT Score breakout')\n",
    " \n",
    "plt.axis('equal')\n",
    "plt.show()"
   ]
  },
  {
   "cell_type": "code",
   "execution_count": 11,
   "metadata": {
    "scrolled": true
   },
   "outputs": [],
   "source": [
    "#y_SAT.head()\n",
    "#X_SAT.shape\n",
    "#SAT_Filtered.shape\n",
    "#X_SAT.SAT_Score_above1000"
   ]
  },
  {
   "cell_type": "markdown",
   "metadata": {},
   "source": [
    "# 2.c Modeling and Evaluation\n",
    "20 points - Create three different classification/regression models (e.g., random forest, KNN, and SVM). Two modeling techniques must be new (but the third could be SVM or logistic regression). Adjust parameters as appropriate to increase generalization performance using your chosen metric."
   ]
  },
  {
   "cell_type": "code",
   "execution_count": 12,
   "metadata": {},
   "outputs": [],
   "source": [
    "k_fold = KFold(n_splits=10,shuffle=True)\n",
    "\n",
    "#This creates the template for the pipeline\n",
    "# This creates a basic pipeline where we will \n",
    "# test for dementionality reduction, scaling,\n",
    "# and classification.\n",
    "\n",
    "\n",
    "pipe = Pipeline([ ('reduce_dim',SelectKBest(chi2)),\n",
    "                  ('scale', StandardScaler()), \n",
    "                  ('clf', GradientBoostingClassifier())])"
   ]
  },
  {
   "cell_type": "markdown",
   "metadata": {},
   "source": [
    "# SAT Model #1 : Random Forest Classifier"
   ]
  },
  {
   "cell_type": "code",
   "execution_count": 13,
   "metadata": {},
   "outputs": [
    {
     "name": "stdout",
     "output_type": "stream",
     "text": [
      "Fitting 10 folds for each of 48 candidates, totalling 480 fits\n"
     ]
    },
    {
     "name": "stderr",
     "output_type": "stream",
     "text": [
      "[Parallel(n_jobs=-1)]: Done  42 tasks      | elapsed:    4.3s\n",
      "[Parallel(n_jobs=-1)]: Done 192 tasks      | elapsed:   33.9s\n",
      "[Parallel(n_jobs=-1)]: Done 442 tasks      | elapsed:  1.5min\n",
      "[Parallel(n_jobs=-1)]: Done 480 out of 480 | elapsed:  1.9min finished\n"
     ]
    },
    {
     "name": "stdout",
     "output_type": "stream",
     "text": [
      "0.9938650306748467\n"
     ]
    }
   ],
   "source": [
    "param_grid = [\n",
    "    {\n",
    "         'reduce_dim__k': N_FEATURES_OPTIONS,\n",
    "         'clf': [RandomForestClassifier()],\n",
    "         'clf__n_estimators': C_ESTIMATORS, \n",
    "         'clf__max_depth': C_DEPTH,\n",
    "     }\n",
    "]\n",
    "\n",
    "grid_search = GridSearchCV(pipe, param_grid=param_grid, cv=k_fold,n_jobs=-1, verbose=1 )\n",
    "\n",
    "SAT_RandomForest_model = grid_search.fit(X_SAT_train, y_SAT_train)\n",
    "\n",
    "y_SAT_score1 = grid_search.predict(X_SAT_test)\n",
    "\n",
    "print(roc_auc_score(y_SAT_test, y_SAT_score1))"
   ]
  },
  {
   "cell_type": "code",
   "execution_count": 14,
   "metadata": {},
   "outputs": [],
   "source": [
    "# Plot ROC Curve\n",
    "\n"
   ]
  },
  {
   "cell_type": "code",
   "execution_count": 15,
   "metadata": {},
   "outputs": [
    {
     "data": {
      "image/png": "[encoded data removed]",
      "text/plain": [
       "<Figure size 432x288 with 1 Axes>"
      ]
     },
     "metadata": {},
     "output_type": "display_data"
    }
   ],
   "source": [
    "fpr, tpr, _ = roc_curve(y_SAT_test, y_SAT_score1 )\n",
    "roc_auc = auc(fpr, tpr)\n",
    "lw=1\n",
    "plt.figure()\n",
    "plt.plot(fpr, tpr, color='darkorange', lw=1, label='ROC curve (area = %0.2f)' % roc_auc)\n",
    "plt.plot([0, 1], [0, 1], color='navy', lw=lw, linestyle='--')\n",
    "plt.xlim([0.0, 1.0])\n",
    "plt.ylim([0.0, 1.05])\n",
    "plt.xlabel('False Positive Rate')\n",
    "plt.ylabel('True Positive Rate')\n",
    "plt.title('Receiver operating characteristic')\n",
    "plt.legend(loc=\"lower right\")\n",
    "plt.show()"
   ]
  },
  {
   "cell_type": "markdown",
   "metadata": {},
   "source": [
    "# SAT Model #2 : KNN Classifier"
   ]
  },
  {
   "cell_type": "code",
   "execution_count": 16,
   "metadata": {
    "scrolled": true
   },
   "outputs": [
    {
     "name": "stdout",
     "output_type": "stream",
     "text": [
      "Fitting 10 folds for each of 8 candidates, totalling 80 fits\n"
     ]
    },
    {
     "name": "stderr",
     "output_type": "stream",
     "text": [
      "[Parallel(n_jobs=-1)]: Done  42 tasks      | elapsed:    7.3s\n"
     ]
    },
    {
     "name": "stdout",
     "output_type": "stream",
     "text": [
      "0.8728541678392524\n"
     ]
    },
    {
     "name": "stderr",
     "output_type": "stream",
     "text": [
      "[Parallel(n_jobs=-1)]: Done  80 out of  80 | elapsed:   13.8s finished\n"
     ]
    }
   ],
   "source": [
    "############################\n",
    "param_grid = [\n",
    "    {\n",
    "         'reduce_dim__k': N_FEATURES_OPTIONS,\n",
    "         'clf': [KNeighborsClassifier()],\n",
    "         'clf__n_neighbors': C_NEIGHBORS, \n",
    "     }\n",
    "]\n",
    "\n",
    "grid_search = GridSearchCV(pipe, param_grid=param_grid,cv=k_fold,n_jobs=-1, verbose=1 )\n",
    "\n",
    "SAT_KNearest_model = grid_search.fit(X_SAT_train, y_SAT_train)\n",
    "\n",
    "y_SAT_score2 = grid_search.predict(X_SAT_test)\n",
    "\n",
    "print(roc_auc_score(y_SAT_test, y_SAT_score2))"
   ]
  },
  {
   "cell_type": "code",
   "execution_count": 17,
   "metadata": {},
   "outputs": [
    {
     "data": {
      "image/png": "[encoded data removed]",
      "text/plain": [
       "<Figure size 432x288 with 1 Axes>"
      ]
     },
     "metadata": {},
     "output_type": "display_data"
    }
   ],
   "source": [
    "# Plot ROC Curve\n",
    "from sklearn.metrics import roc_curve, auc\n",
    "fpr, tpr, _ = roc_curve(y_SAT_test, y_SAT_score2 )\n",
    "roc_auc = auc(fpr, tpr)\n",
    "lw=1\n",
    "\n",
    "plt.figure()\n",
    "plt.plot(fpr, tpr, color='darkorange', lw=1, label='ROC curve (area = %0.2f)' % roc_auc)\n",
    "plt.plot([0, 1], [0, 1], color='navy', lw=lw, linestyle='--')\n",
    "plt.xlim([0.0, 1.0])\n",
    "plt.ylim([0.0, 1.05])\n",
    "plt.xlabel('False Positive Rate')\n",
    "plt.ylabel('True Positive Rate')\n",
    "plt.title('Receiver operating characteristic')\n",
    "plt.legend(loc=\"lower right\")\n",
    "plt.show()\n"
   ]
  },
  {
   "cell_type": "markdown",
   "metadata": {},
   "source": [
    "# SAT Model #3 :  SVC Classifier"
   ]
  },
  {
   "cell_type": "code",
   "execution_count": 18,
   "metadata": {},
   "outputs": [
    {
     "name": "stdout",
     "output_type": "stream",
     "text": [
      "Fitting 10 folds for each of 36 candidates, totalling 360 fits\n"
     ]
    },
    {
     "name": "stderr",
     "output_type": "stream",
     "text": [
      "[Parallel(n_jobs=-1)]: Done  42 tasks      | elapsed:    8.2s\n",
      "[Parallel(n_jobs=-1)]: Done 192 tasks      | elapsed:   28.0s\n"
     ]
    },
    {
     "name": "stdout",
     "output_type": "stream",
     "text": [
      "0.9509765295210221\n"
     ]
    },
    {
     "name": "stderr",
     "output_type": "stream",
     "text": [
      "[Parallel(n_jobs=-1)]: Done 360 out of 360 | elapsed:   46.1s finished\n"
     ]
    }
   ],
   "source": [
    "##########################\n",
    "param_grid = [\n",
    "    {\n",
    "         'reduce_dim__k': N_FEATURES_OPTIONS,\n",
    "         'clf': [SVC()],\n",
    "         'clf__C': C_OPTIONS, \n",
    "     }\n",
    "]\n",
    "\n",
    "grid_search = GridSearchCV(pipe, param_grid=param_grid, cv=k_fold,n_jobs=-1, verbose=1 )\n",
    "\n",
    "SAT_SVC_model = grid_search.fit(X_SAT_train, y_SAT_train)\n",
    "\n",
    "y_SAT_score3 = grid_search.predict(X_SAT_test)\n",
    "\n",
    "print(roc_auc_score(y_SAT_test, y_SAT_score3))"
   ]
  },
  {
   "cell_type": "code",
   "execution_count": 19,
   "metadata": {},
   "outputs": [
    {
     "data": {
      "image/png": "[encoded data removed]",
      "text/plain": [
       "<Figure size 432x288 with 1 Axes>"
      ]
     },
     "metadata": {},
     "output_type": "display_data"
    }
   ],
   "source": [
    "# Plot ROC Curve\n",
    "from sklearn.metrics import roc_curve, auc\n",
    "fpr, tpr, _ = roc_curve(y_SAT_test, y_SAT_score3 )\n",
    "roc_auc = auc(fpr, tpr)\n",
    "lw=1\n",
    "\n",
    "plt.figure()\n",
    "plt.plot(fpr, tpr, color='darkorange', lw=1, label='ROC curve (area = %0.2f)' % roc_auc)\n",
    "plt.plot([0, 1], [0, 1], color='navy', lw=lw, linestyle='--')\n",
    "plt.xlim([0.0, 1.0])\n",
    "plt.ylim([0.0, 1.0])\n",
    "plt.xlabel('False Positive Rate')\n",
    "plt.ylabel('True Positive Rate')\n",
    "plt.title('Receiver operating characteristic')\n",
    "plt.legend(loc=\"lower right\")\n",
    "plt.show()"
   ]
  },
  {
   "cell_type": "markdown",
   "metadata": {},
   "source": [
    "# Crime Models"
   ]
  },
  {
   "cell_type": "markdown",
   "metadata": {},
   "source": [
    "# Crime Model #1: Gradient Boosting"
   ]
  },
  {
   "cell_type": "code",
   "execution_count": 21,
   "metadata": {
    "scrolled": true
   },
   "outputs": [
    {
     "name": "stdout",
     "output_type": "stream",
     "text": [
      "Fitting 10 folds for each of 144 candidates, totalling 1440 fits\n"
     ]
    },
    {
     "name": "stderr",
     "output_type": "stream",
     "text": [
      "[Parallel(n_jobs=-1)]: Done  42 tasks      | elapsed:    6.9s\n",
      "[Parallel(n_jobs=-1)]: Done 192 tasks      | elapsed:  1.1min\n",
      "[Parallel(n_jobs=-1)]: Done 442 tasks      | elapsed:  4.7min\n",
      "[Parallel(n_jobs=-1)]: Done 792 tasks      | elapsed:  9.3min\n",
      "[Parallel(n_jobs=-1)]: Done 1242 tasks      | elapsed: 15.0min\n",
      "[Parallel(n_jobs=-1)]: Done 1440 out of 1440 | elapsed: 16.8min finished\n"
     ]
    },
    {
     "data": {
      "text/plain": [
       "0.6321560927042426"
      ]
     },
     "execution_count": 21,
     "metadata": {},
     "output_type": "execute_result"
    }
   ],
   "source": [
    " param_grid = [\n",
    "    {\n",
    "         'reduce_dim__k': N_FEATURES_OPTIONS,\n",
    "         'clf':[GradientBoostingClassifier()],\n",
    "         'clf__n_estimators': C_ESTIMATORS, \n",
    "         'clf__max_depth': C_DEPTH,\n",
    "         'clf__learning_rate':LEARNING_RATE\n",
    "     }\n",
    "]\n",
    "\n",
    "\n",
    "# # This will test the parameter dict against our \n",
    "# # pipeline\n",
    "\n",
    "grid_search = GridSearchCV(pipe, param_grid=param_grid, cv=k_fold,n_jobs=-1, verbose=1 )\n",
    "\n",
    "\n",
    "# # Here we are training the model, this is \n",
    "# # what takes the most amount of time to run\n",
    "crime_GradientBoost_model = grid_search.fit(X_crime_train, y_crime_train)\n",
    "\n",
    "\n",
    "y_crime_GradientBoost_score = grid_search.predict(X_crime_test)\n",
    "\n",
    "roc_auc_score(y_crime_test, y_crime_GradientBoost_score)\n"
   ]
  },
  {
   "cell_type": "code",
   "execution_count": null,
   "metadata": {},
   "outputs": [],
   "source": [
    "# Plot ROC Curve\n",
    "from sklearn.metrics import roc_curve, auc\n",
    "fpr, tpr, _ = roc_curve(y_crime_test, y_crime_GradientBoost_score )\n",
    "roc_auc = auc(fpr, tpr)\n",
    "lw=1\n",
    "\n",
    "plt.figure()\n",
    "plt.plot(fpr, tpr, color='darkorange', lw=1, label='ROC curve (area = %0.2f)' % roc_auc)\n",
    "plt.plot([0, 1], [0, 1], color='navy', lw=lw, linestyle='--')\n",
    "plt.xlim([0.0, 1.0])\n",
    "plt.ylim([0.0, 1.0])\n",
    "plt.xlabel('False Positive Rate')\n",
    "plt.ylabel('True Positive Rate')\n",
    "plt.title('Crime dataROC curve using Gradient boosting')\n",
    "plt.legend(loc=\"lower right\")\n",
    "plt.show()"
   ]
  },
  {
   "cell_type": "code",
   "execution_count": 125,
   "metadata": {},
   "outputs": [
    {
     "data": {
      "text/plain": [
       "Pipeline(memory=None,\n",
       "     steps=[('reduce_dim', SelectKBest(k='all', score_func=<function chi2 at 0x000002D45324B1E0>)), ('scale', StandardScaler(copy=True, with_mean=True, with_std=True)), ('clf', GradientBoostingClassifier(criterion='friedman_mse', init=None,\n",
       "              learning_rate=0.01, loss='deviance', max_depth=2,\n",
       "...      presort='auto', random_state=None, subsample=1.0, verbose=0,\n",
       "              warm_start=False))])"
      ]
     },
     "execution_count": 125,
     "metadata": {},
     "output_type": "execute_result"
    }
   ],
   "source": [
    "pipe.set_params(**crime_GradientBoost_model.best_params_)\n",
    "pipe.fit(X_crime_train, y_crime_train)\n"
   ]
  },
  {
   "cell_type": "code",
   "execution_count": 126,
   "metadata": {},
   "outputs": [
    {
     "name": "stdout",
     "output_type": "stream",
     "text": [
      "The top 10 features that influence SPG Grade are the following\n"
     ]
    },
    {
     "data": {
      "text/html": [
       "<div>\n",
       "<style scoped>\n",
       "    .dataframe tbody tr th:only-of-type {\n",
       "        vertical-align: middle;\n",
       "    }\n",
       "\n",
       "    .dataframe tbody tr th {\n",
       "        vertical-align: top;\n",
       "    }\n",
       "\n",
       "    .dataframe thead th {\n",
       "        text-align: right;\n",
       "    }\n",
       "</style>\n",
       "<table border=\"1\" class=\"dataframe\">\n",
       "  <thead>\n",
       "    <tr style=\"text-align: right;\">\n",
       "      <th></th>\n",
       "      <th>Influence</th>\n",
       "    </tr>\n",
       "  </thead>\n",
       "  <tbody>\n",
       "    <tr>\n",
       "      <th>avg_daily_attend_pct</th>\n",
       "      <td>0.413839</td>\n",
       "    </tr>\n",
       "    <tr>\n",
       "      <th>GraduationRate_5yr_All</th>\n",
       "      <td>0.095217</td>\n",
       "    </tr>\n",
       "    <tr>\n",
       "      <th>EOCSubjects_CACR_EDS</th>\n",
       "      <td>0.080979</td>\n",
       "    </tr>\n",
       "    <tr>\n",
       "      <th>short_susp_per_c_num</th>\n",
       "      <td>0.075098</td>\n",
       "    </tr>\n",
       "    <tr>\n",
       "      <th>SPG Score</th>\n",
       "      <td>0.061636</td>\n",
       "    </tr>\n",
       "    <tr>\n",
       "      <th>GraduationRate_4yr_Male</th>\n",
       "      <td>0.054384</td>\n",
       "    </tr>\n",
       "    <tr>\n",
       "      <th>long_susp_per_c_num</th>\n",
       "      <td>0.044745</td>\n",
       "    </tr>\n",
       "    <tr>\n",
       "      <th>EOCMathI_CACR_Black</th>\n",
       "      <td>0.029972</td>\n",
       "    </tr>\n",
       "    <tr>\n",
       "      <th>EOCEnglish2_CACR_Female</th>\n",
       "      <td>0.025893</td>\n",
       "    </tr>\n",
       "    <tr>\n",
       "      <th>ACTCompositeScore_UNCMin_Black</th>\n",
       "      <td>0.013007</td>\n",
       "    </tr>\n",
       "  </tbody>\n",
       "</table>\n",
       "</div>"
      ],
      "text/plain": [
       "                                Influence\n",
       "avg_daily_attend_pct             0.413839\n",
       "GraduationRate_5yr_All           0.095217\n",
       "EOCSubjects_CACR_EDS             0.080979\n",
       "short_susp_per_c_num             0.075098\n",
       "SPG Score                        0.061636\n",
       "GraduationRate_4yr_Male          0.054384\n",
       "long_susp_per_c_num              0.044745\n",
       "EOCMathI_CACR_Black              0.029972\n",
       "EOCEnglish2_CACR_Female          0.025893\n",
       "ACTCompositeScore_UNCMin_Black   0.013007"
      ]
     },
     "metadata": {},
     "output_type": "display_data"
    }
   ],
   "source": [
    "coef = pipe.steps[2][1].feature_importances_\n",
    "\n",
    "mask = pipe.steps[0][1].get_support()\n",
    "new_features=[]\n",
    "feature_names=list(X_crime_train.columns.values)\n",
    "for bool, feature in zip(mask, feature_names):\n",
    "    if bool:\n",
    "        new_features.append(feature)\n",
    "\n",
    "#Creates a new dataframe with the coefficients and the \n",
    "predicted_data = pd.DataFrame(data=coef,index=new_features,columns=['Influence'])\n",
    "print(\"The top 10 features that influence SPG Grade are the following\")\n",
    "\n",
    "\n",
    "\n",
    "display(predicted_data.sort_values(by='Influence', ascending=False)[0:10])"
   ]
  },
  {
   "cell_type": "code",
   "execution_count": 127,
   "metadata": {},
   "outputs": [
    {
     "data": {
      "text/plain": [
       "<matplotlib.axes._subplots.AxesSubplot at 0x2d456655da0>"
      ]
     },
     "execution_count": 127,
     "metadata": {},
     "output_type": "execute_result"
    },
    {
     "data": {
      "image/png": "[encoded data removed]",
      "text/plain": [
       "<Figure size 432x288 with 1 Axes>"
      ]
     },
     "metadata": {},
     "output_type": "display_data"
    }
   ],
   "source": [
    "feat_importances = pd.Series(pipe.steps[2][1].feature_importances_, index=X_crime_train.columns)\n",
    "feat_importances = feat_importances.nlargest(10)\n",
    "feat_importances.plot(kind='barh')"
   ]
  },
  {
   "cell_type": "markdown",
   "metadata": {},
   "source": [
    "# Crime Model #2: Ada Boost"
   ]
  },
  {
   "cell_type": "code",
   "execution_count": 47,
   "metadata": {
    "scrolled": true
   },
   "outputs": [
    {
     "name": "stdout",
     "output_type": "stream",
     "text": [
      "Fitting 10 folds for each of 48 candidates, totalling 480 fits\n"
     ]
    },
    {
     "name": "stderr",
     "output_type": "stream",
     "text": [
      "[Parallel(n_jobs=-1)]: Done  42 tasks      | elapsed:   10.8s\n",
      "[Parallel(n_jobs=-1)]: Done 192 tasks      | elapsed:  2.0min\n",
      "[Parallel(n_jobs=-1)]: Done 442 tasks      | elapsed:  4.7min\n",
      "[Parallel(n_jobs=-1)]: Done 480 out of 480 | elapsed:  5.8min finished\n"
     ]
    },
    {
     "name": "stdout",
     "output_type": "stream",
     "text": [
      "0.6623153935505282\n"
     ]
    }
   ],
   "source": [
    " param_grid = [\n",
    "    {\n",
    "         'reduce_dim__k': N_FEATURES_OPTIONS,\n",
    "         'clf': [AdaBoostClassifier()],\n",
    "         'clf__n_estimators': C_ESTIMATORS,\n",
    "         'clf__learning_rate':LEARNING_RATE\n",
    "     }\n",
    "]\n",
    "\n",
    "\n",
    "# # This will test the parameter dict against our \n",
    "# # pipeline\n",
    "\n",
    "grid_search = GridSearchCV(pipe, param_grid=param_grid, cv=k_fold,n_jobs=-1, verbose=1 )\n",
    "\n",
    "\n",
    "# # Here we are training the model, this is \n",
    "# # what takes the most amount of time to run\n",
    "crime_ADABoost_model = grid_search.fit(X_crime_train, y_crime_train)\n",
    "\n",
    "y_crime_ADABoost_score = grid_search.predict(X_crime_test)\n",
    "\n",
    "print(roc_auc_score(y_crime_test, y_crime_ADABoost_score))\n"
   ]
  },
  {
   "cell_type": "code",
   "execution_count": 48,
   "metadata": {},
   "outputs": [
    {
     "data": {
      "image/png": "[encoded data removed]",
      "text/plain": [
       "<Figure size 432x288 with 1 Axes>"
      ]
     },
     "metadata": {},
     "output_type": "display_data"
    }
   ],
   "source": [
    "# Plot ROC Curve\n",
    "from sklearn.metrics import roc_curve, auc\n",
    "fpr, tpr, _ = roc_curve(y_crime_test, y_crime_ADABoost_score )\n",
    "roc_auc = auc(fpr, tpr)\n",
    "lw=1\n",
    "\n",
    "plt.figure()\n",
    "plt.plot(fpr, tpr, color='darkorange', lw=1, label='ROC curve (area = %0.2f)' % roc_auc)\n",
    "plt.plot([0, 1], [0, 1], color='navy', lw=lw, linestyle='--')\n",
    "plt.xlim([0.0, 1.0])\n",
    "plt.ylim([0.0, 1.0])\n",
    "plt.xlabel('False Positive Rate')\n",
    "plt.ylabel('True Positive Rate')\n",
    "plt.title('Crime data ROC curve using ADABoost')\n",
    "plt.legend(loc=\"lower right\")\n",
    "plt.show()"
   ]
  },
  {
   "cell_type": "code",
   "execution_count": 88,
   "metadata": {
    "scrolled": true
   },
   "outputs": [
    {
     "name": "stdout",
     "output_type": "stream",
     "text": [
      "{'clf': AdaBoostClassifier(algorithm='SAMME.R', base_estimator=None,\n",
      "          learning_rate=0.1, n_estimators=50, random_state=None), 'clf__learning_rate': 0.1, 'clf__n_estimators': 50, 'reduce_dim__k': 'all'}\n"
     ]
    }
   ],
   "source": [
    "print(crime_ADABoost_model.best_params_)"
   ]
  },
  {
   "cell_type": "markdown",
   "metadata": {},
   "source": [
    "# Crime Model #3: Random Forest Classifier"
   ]
  },
  {
   "cell_type": "code",
   "execution_count": 27,
   "metadata": {},
   "outputs": [
    {
     "name": "stdout",
     "output_type": "stream",
     "text": [
      "Fitting 10 folds for each of 48 candidates, totalling 480 fits\n"
     ]
    },
    {
     "name": "stderr",
     "output_type": "stream",
     "text": [
      "[Parallel(n_jobs=-1)]: Done  42 tasks      | elapsed:    5.3s\n",
      "[Parallel(n_jobs=-1)]: Done 192 tasks      | elapsed:   36.0s\n",
      "[Parallel(n_jobs=-1)]: Done 442 tasks      | elapsed:  1.6min\n",
      "[Parallel(n_jobs=-1)]: Done 480 out of 480 | elapsed:  2.0min finished\n"
     ]
    },
    {
     "name": "stdout",
     "output_type": "stream",
     "text": [
      "0.6508241606283532\n"
     ]
    }
   ],
   "source": [
    " param_grid = [\n",
    "    {\n",
    "         'reduce_dim__k': N_FEATURES_OPTIONS,\n",
    "         'clf': [RandomForestClassifier()],\n",
    "         'clf__n_estimators': C_ESTIMATORS, \n",
    "         'clf__max_depth': C_DEPTH,\n",
    "     }\n",
    "]\n",
    "\n",
    "\n",
    "# # This will test the parameter dict against our \n",
    "# # pipeline\n",
    "\n",
    "grid_search = GridSearchCV(pipe, param_grid=param_grid, cv=k_fold,n_jobs=-1, verbose=1 )\n",
    "\n",
    "\n",
    "# # Here we are training the model, this is \n",
    "# # what takes the most amount of time to run\n",
    "crime_RandomForest_model = grid_search.fit(X_crime_train, y_crime_train)\n",
    "\n",
    "y_crime_RandomForest_score = grid_search.predict(X_crime_test)\n",
    "\n",
    "print(roc_auc_score(y_crime_test, y_crime_RandomForest_score))"
   ]
  },
  {
   "cell_type": "code",
   "execution_count": 49,
   "metadata": {},
   "outputs": [
    {
     "data": {
      "image/png": "[encoded data removed]",
      "text/plain": [
       "<Figure size 432x288 with 1 Axes>"
      ]
     },
     "metadata": {},
     "output_type": "display_data"
    }
   ],
   "source": [
    "# Plot ROC Curve\n",
    "from sklearn.metrics import roc_curve, auc\n",
    "fpr, tpr, _ = roc_curve(y_crime_test, y_crime_RandomForest_score )\n",
    "roc_auc = auc(fpr, tpr)\n",
    "lw=1\n",
    "\n",
    "plt.figure()\n",
    "plt.plot(fpr, tpr, color='darkorange', lw=1, label='ROC curve (area = %0.2f)' % roc_auc)\n",
    "plt.plot([0, 1], [0, 1], color='navy', lw=lw, linestyle='--')\n",
    "plt.xlim([0.0, 1.0])\n",
    "plt.ylim([0.0, 1.0])\n",
    "plt.xlabel('False Positive Rate')\n",
    "plt.ylabel('True Positive Rate')\n",
    "plt.title('Crime data ROC curve using Random Forest')\n",
    "plt.legend(loc=\"lower right\")\n",
    "plt.show()"
   ]
  },
  {
   "cell_type": "code",
   "execution_count": 28,
   "metadata": {
    "scrolled": true
   },
   "outputs": [
    {
     "name": "stdout",
     "output_type": "stream",
     "text": [
      "{'clf': RandomForestClassifier(bootstrap=True, class_weight=None, criterion='gini',\n",
      "            max_depth=5, max_features='auto', max_leaf_nodes=None,\n",
      "            min_impurity_decrease=0.0, min_impurity_split=None,\n",
      "            min_samples_leaf=1, min_samples_split=2,\n",
      "            min_weight_fraction_leaf=0.0, n_estimators=200, n_jobs=1,\n",
      "            oob_score=False, random_state=None, verbose=0,\n",
      "            warm_start=False), 'clf__max_depth': 5, 'clf__n_estimators': 200, 'reduce_dim__k': 'all'}\n",
      "False\n"
     ]
    }
   ],
   "source": [
    "print(crime_RandomForest_model.best_params_)\n",
    "print(crime_RandomForest_model.multimetric_)"
   ]
  },
  {
   "cell_type": "markdown",
   "metadata": {},
   "source": [
    "# Crime Model #4: KNN"
   ]
  },
  {
   "cell_type": "code",
   "execution_count": 51,
   "metadata": {},
   "outputs": [
    {
     "name": "stdout",
     "output_type": "stream",
     "text": [
      "Fitting 10 folds for each of 8 candidates, totalling 80 fits\n"
     ]
    },
    {
     "name": "stderr",
     "output_type": "stream",
     "text": [
      "[Parallel(n_jobs=-1)]: Done  42 tasks      | elapsed:   13.2s\n"
     ]
    },
    {
     "name": "stdout",
     "output_type": "stream",
     "text": [
      "0.5912107970573595\n"
     ]
    },
    {
     "name": "stderr",
     "output_type": "stream",
     "text": [
      "[Parallel(n_jobs=-1)]: Done  80 out of  80 | elapsed:   20.4s finished\n"
     ]
    }
   ],
   "source": [
    "\n",
    "param_grid = [\n",
    "    {\n",
    "         'reduce_dim__k': N_FEATURES_OPTIONS,\n",
    "         'clf': [KNeighborsClassifier()],\n",
    "         'clf__n_neighbors': C_NEIGHBORS, \n",
    "     }\n",
    "]\n",
    "\n",
    "\n",
    "# # This will test the parameter dict against our \n",
    "# # pipeline\n",
    "\n",
    "grid_search = GridSearchCV(pipe, param_grid=param_grid, cv=k_fold,n_jobs=-1, verbose=1 )\n",
    "\n",
    "\n",
    "# # Here we are training the model, this is \n",
    "# # what takes the most amount of time to run\n",
    "crime_KNearest_model = grid_search.fit(X_crime_train, y_crime_train)\n",
    "\n",
    "y_crime_KNearest_score = grid_search.predict(X_crime_test)\n",
    "\n",
    "print(roc_auc_score(y_crime_test, y_crime_score))"
   ]
  },
  {
   "cell_type": "code",
   "execution_count": 52,
   "metadata": {},
   "outputs": [
    {
     "data": {
      "image/png": "[encoded data removed]",
      "text/plain": [
       "<Figure size 432x288 with 1 Axes>"
      ]
     },
     "metadata": {},
     "output_type": "display_data"
    }
   ],
   "source": [
    "# Plot ROC Curve\n",
    "from sklearn.metrics import roc_curve, auc\n",
    "fpr, tpr, _ = roc_curve(y_crime_test, y_crime_KNearest_score )\n",
    "roc_auc = auc(fpr, tpr)\n",
    "lw=1\n",
    "\n",
    "plt.figure()\n",
    "plt.plot(fpr, tpr, color='darkorange', lw=1, label='ROC curve (area = %0.2f)' % roc_auc)\n",
    "plt.plot([0, 1], [0, 1], color='navy', lw=lw, linestyle='--')\n",
    "plt.xlim([0.0, 1.0])\n",
    "plt.ylim([0.0, 1.0])\n",
    "plt.xlabel('False Positive Rate')\n",
    "plt.ylabel('True Positive Rate')\n",
    "plt.title('Crime data ROC curve using KNN classification')\n",
    "plt.legend(loc=\"lower right\")\n",
    "plt.show()"
   ]
  },
  {
   "cell_type": "code",
   "execution_count": 53,
   "metadata": {
    "scrolled": true
   },
   "outputs": [
    {
     "name": "stdout",
     "output_type": "stream",
     "text": [
      "{'clf': KNeighborsClassifier(algorithm='auto', leaf_size=30, metric='minkowski',\n",
      "           metric_params=None, n_jobs=1, n_neighbors=5, p=2,\n",
      "           weights='uniform'), 'clf__n_neighbors': 5, 'reduce_dim__k': 25}\n"
     ]
    }
   ],
   "source": [
    "print(crime_KNearest_model.best_params_)"
   ]
  },
  {
   "cell_type": "markdown",
   "metadata": {},
   "source": [
    "# Crime Model #5: Bagging Method"
   ]
  },
  {
   "cell_type": "code",
   "execution_count": 31,
   "metadata": {},
   "outputs": [
    {
     "name": "stdout",
     "output_type": "stream",
     "text": [
      "Fitting 10 folds for each of 16 candidates, totalling 160 fits\n"
     ]
    },
    {
     "name": "stderr",
     "output_type": "stream",
     "text": [
      "[Parallel(n_jobs=-1)]: Done  42 tasks      | elapsed:   40.0s\n",
      "[Parallel(n_jobs=-1)]: Done 160 out of 160 | elapsed: 12.2min finished\n"
     ]
    },
    {
     "name": "stdout",
     "output_type": "stream",
     "text": [
      "0.6200979036451132\n"
     ]
    }
   ],
   "source": [
    "param_grid = [\n",
    "    {\n",
    "         'reduce_dim__k': N_FEATURES_OPTIONS,\n",
    "         'clf': [BaggingClassifier(DecisionTreeClassifier())],\n",
    "         'clf__n_estimators': C_ESTIMATORS \n",
    "     }\n",
    "]\n",
    "\n",
    "\n",
    "# # This will test the parameter dict against our \n",
    "# # pipeline\n",
    "\n",
    "grid_search = GridSearchCV(pipe, param_grid=param_grid, cv=k_fold,n_jobs=-1, verbose=1 )\n",
    "\n",
    "\n",
    "# # Here we are training the model, this is \n",
    "# # what takes the most amount of time to run\n",
    "crime_Bagging_model = grid_search.fit(X_crime_train, y_crime_train)\n",
    "\n",
    "y_crime_Bagging_score = grid_search.predict(X_crime_test)\n",
    "\n",
    "print(roc_auc_score(y_crime_test, y_crime_Bagging_score))"
   ]
  },
  {
   "cell_type": "code",
   "execution_count": 54,
   "metadata": {},
   "outputs": [
    {
     "data": {
      "image/png": "[encoded data removed]",
      "text/plain": [
       "<Figure size 432x288 with 1 Axes>"
      ]
     },
     "metadata": {},
     "output_type": "display_data"
    }
   ],
   "source": [
    "# Plot ROC Curve\n",
    "from sklearn.metrics import roc_curve, auc\n",
    "fpr, tpr, _ = roc_curve(y_crime_test, y_crime_Bagging_score )\n",
    "roc_auc = auc(fpr, tpr)\n",
    "lw=1\n",
    "\n",
    "plt.figure()\n",
    "plt.plot(fpr, tpr, color='darkorange', lw=1, label='ROC curve (area = %0.2f)' % roc_auc)\n",
    "plt.plot([0, 1], [0, 1], color='navy', lw=lw, linestyle='--')\n",
    "plt.xlim([0.0, 1.0])\n",
    "plt.ylim([0.0, 1.0])\n",
    "plt.xlabel('False Positive Rate')\n",
    "plt.ylabel('True Positive Rate')\n",
    "plt.title('Crime data ROC curve using KNN classification')\n",
    "plt.legend(loc=\"lower right\")\n",
    "plt.show()"
   ]
  },
  {
   "cell_type": "code",
   "execution_count": 128,
   "metadata": {},
   "outputs": [
    {
     "data": {
      "text/plain": [
       "Pipeline(memory=None,\n",
       "     steps=[('reduce_dim', SelectKBest(k=50, score_func=<function chi2 at 0x000002D45324B1E0>)), ('scale', StandardScaler(copy=True, with_mean=True, with_std=True)), ('clf', BaggingClassifier(base_estimator=DecisionTreeClassifier(class_weight=None, criterion='gini', max_depth=None,\n",
       "            max_featur...stimators=500, n_jobs=1, oob_score=False,\n",
       "         random_state=None, verbose=0, warm_start=False))])"
      ]
     },
     "execution_count": 128,
     "metadata": {},
     "output_type": "execute_result"
    }
   ],
   "source": [
    "pipe.set_params(**crime_Bagging_model.best_params_)\n",
    "pipe.fit(X_crime_train, y_crime_train)\n"
   ]
  },
  {
   "cell_type": "code",
   "execution_count": 129,
   "metadata": {},
   "outputs": [
    {
     "name": "stdout",
     "output_type": "stream",
     "text": [
      "The top 10 features that influence SPG Grade are the following\n"
     ]
    },
    {
     "data": {
      "text/html": [
       "<div>\n",
       "<style scoped>\n",
       "    .dataframe tbody tr th:only-of-type {\n",
       "        vertical-align: middle;\n",
       "    }\n",
       "\n",
       "    .dataframe tbody tr th {\n",
       "        vertical-align: top;\n",
       "    }\n",
       "\n",
       "    .dataframe thead th {\n",
       "        text-align: right;\n",
       "    }\n",
       "</style>\n",
       "<table border=\"1\" class=\"dataframe\">\n",
       "  <thead>\n",
       "    <tr style=\"text-align: right;\">\n",
       "      <th></th>\n",
       "      <th>Influence</th>\n",
       "    </tr>\n",
       "  </thead>\n",
       "  <tbody>\n",
       "    <tr>\n",
       "      <th>short_susp_per_c_num</th>\n",
       "      <td>0.106244</td>\n",
       "    </tr>\n",
       "    <tr>\n",
       "      <th>EOCSubjects_CACR_EDS</th>\n",
       "      <td>0.057279</td>\n",
       "    </tr>\n",
       "    <tr>\n",
       "      <th>unit_code</th>\n",
       "      <td>0.034537</td>\n",
       "    </tr>\n",
       "    <tr>\n",
       "      <th>EOCEnglish2_CACR_Male</th>\n",
       "      <td>0.031523</td>\n",
       "    </tr>\n",
       "    <tr>\n",
       "      <th>student_num</th>\n",
       "      <td>0.029926</td>\n",
       "    </tr>\n",
       "    <tr>\n",
       "      <th>EOCEnglish2_CACR_EDS</th>\n",
       "      <td>0.026123</td>\n",
       "    </tr>\n",
       "    <tr>\n",
       "      <th>EOCSubjects_CACR_Black</th>\n",
       "      <td>0.025231</td>\n",
       "    </tr>\n",
       "    <tr>\n",
       "      <th>EOCMathI_CACR_Black</th>\n",
       "      <td>0.025217</td>\n",
       "    </tr>\n",
       "    <tr>\n",
       "      <th>GraduationRate_4yr_SWD</th>\n",
       "      <td>0.024027</td>\n",
       "    </tr>\n",
       "    <tr>\n",
       "      <th>EOCMathI_CACR_White</th>\n",
       "      <td>0.023666</td>\n",
       "    </tr>\n",
       "  </tbody>\n",
       "</table>\n",
       "</div>"
      ],
      "text/plain": [
       "                        Influence\n",
       "short_susp_per_c_num     0.106244\n",
       "EOCSubjects_CACR_EDS     0.057279\n",
       "unit_code                0.034537\n",
       "EOCEnglish2_CACR_Male    0.031523\n",
       "student_num              0.029926\n",
       "EOCEnglish2_CACR_EDS     0.026123\n",
       "EOCSubjects_CACR_Black   0.025231\n",
       "EOCMathI_CACR_Black      0.025217\n",
       "GraduationRate_4yr_SWD   0.024027\n",
       "EOCMathI_CACR_White      0.023666"
      ]
     },
     "metadata": {},
     "output_type": "display_data"
    }
   ],
   "source": [
    "clf = pipe.steps[2][1]\n",
    "\n",
    "coef = np.mean([\n",
    "    tree.feature_importances_ for tree in clf.estimators_\n",
    "], axis=0)\n",
    "\n",
    "mask = pipe.steps[0][1].get_support()\n",
    "new_features=[]\n",
    "feature_names=list(X_crime_train.columns.values)\n",
    "for bool, feature in zip(mask, feature_names):\n",
    "    if bool:\n",
    "        new_features.append(feature)\n",
    "\n",
    "#Creates a new dataframe with the coefficients and the \n",
    "predicted_data = pd.DataFrame(data=coef,index=new_features,columns=['Influence'])\n",
    "print(\"The top 10 features that influence SPG Grade are the following\")\n",
    "\n",
    "\n",
    "\n",
    "display(predicted_data.sort_values(by='Influence', ascending=False)[0:10])"
   ]
  },
  {
   "cell_type": "code",
   "execution_count": 131,
   "metadata": {},
   "outputs": [
    {
     "data": {
      "text/plain": [
       "<matplotlib.axes._subplots.AxesSubplot at 0x2d4562e35f8>"
      ]
     },
     "execution_count": 131,
     "metadata": {},
     "output_type": "execute_result"
    },
    {
     "data": {
      "image/png": "[encoded data removed]",
      "text/plain": [
       "<Figure size 432x288 with 1 Axes>"
      ]
     },
     "metadata": {},
     "output_type": "display_data"
    }
   ],
   "source": [
    "predicted_data.sort_values(by='Influence', ascending=False)[0:10].plot(kind='barh')"
   ]
  },
  {
   "cell_type": "markdown",
   "metadata": {},
   "source": [
    "## Crime ROC Model comparison\n",
    "When we plot all ROC curves on the same chart we can see some evidence that all models are providing the same type of results.  The ADA Boost Classifier appears to have a slightly better rate of True Positive vs False Positive classification"
   ]
  },
  {
   "cell_type": "code",
   "execution_count": 74,
   "metadata": {},
   "outputs": [
    {
     "data": {
      "text/plain": [
       "<Figure size 432x288 with 0 Axes>"
      ]
     },
     "metadata": {},
     "output_type": "display_data"
    },
    {
     "data": {
      "image/png": "[encoded data removed]",
      "text/plain": [
       "<Figure size 1152x648 with 1 Axes>"
      ]
     },
     "metadata": {},
     "output_type": "display_data"
    }
   ],
   "source": [
    "# Plot ROC Curve\n",
    "from sklearn.metrics import roc_curve, auc\n",
    "fpr1, tpr1, _ = roc_curve(y_crime_test, y_crime_KNearest_score )\n",
    "fpr2, tpr2, _ = roc_curve(y_crime_test, y_crime_Bagging_score )\n",
    "fpr3, tpr3, _ = roc_curve(y_crime_test, y_crime_GradientBoost_score)\n",
    "fpr4, tpr4, _ = roc_curve(y_crime_test, y_crime_ADABoost_score)\n",
    "fpr5, tpr5, _ = roc_curve(y_crime_test, y_crime_RandomForest_score)\n",
    "roc_auc = auc(fpr, tpr)\n",
    "lw=1\n",
    "\n",
    "plt.figure()\n",
    "plt.figure(figsize=(16,9))\n",
    "plt.plot(fpr1, tpr1, color='red', lw=1, label='KNN (area = %0.2f)' % roc_auc)\n",
    "plt.plot(fpr2, tpr2, color='salmon', lw=1, label='Bagging (area = %0.2f)' % roc_auc)\n",
    "plt.plot(fpr3, tpr3, color='limegreen', lw=1, label='Grad Boost (area = %0.2f)' % roc_auc)\n",
    "plt.plot(fpr4, tpr4, color='purple', lw=1, label='ADA Boost (area = %0.2f)' % roc_auc)\n",
    "plt.plot(fpr5, tpr5, color='pink', lw=1, label='Random Forest(area = %0.2f)' % roc_auc)\n",
    "plt.plot([0, 1], [0, 1], color='navy', lw=lw, linestyle='--')\n",
    "plt.xlim([0.0, 1.0])\n",
    "plt.ylim([0.0, 1.0])\n",
    "plt.xlabel('False Positive Rate')\n",
    "plt.ylabel('True Positive Rate')\n",
    "plt.title('Crime data ROC curve comparison')\n",
    "plt.legend(loc=\"lower right\")\n",
    "\n",
    "plt.show()"
   ]
  },
  {
   "cell_type": "markdown",
   "metadata": {},
   "source": [
    "# Reduced scope model"
   ]
  },
  {
   "cell_type": "code",
   "execution_count": 133,
   "metadata": {},
   "outputs": [],
   "source": [
    "X_crime_reduced = X_crime[X_crime.columns.drop(list(X_crime.filter(regex='[Ww]hite|[Mm]ale|[Pp]acific[Ii]sland|[Aa]sian|[Hh]ispanic|[Rr]ace|[Bb]lack|[Mm]inority|[Tw]wo[Oo]r[Mm]ore|[Ii]ndian|[Ww]hite')))]\n",
    "X_crime_reduced_train, X_crime_reduced_test, y_crime_reduced_train, y_crime_reduced_test = train_test_split(X_crime_reduced, y_crime, test_size=.2)"
   ]
  },
  {
   "cell_type": "code",
   "execution_count": 134,
   "metadata": {},
   "outputs": [],
   "source": [
    "# print(X_crime_reduced.shape)"
   ]
  },
  {
   "cell_type": "code",
   "execution_count": 135,
   "metadata": {},
   "outputs": [],
   "source": [
    "#  param_grid = [\n",
    "#     {\n",
    "#          'reduce_dim__k': N_FEATURES_OPTIONS,\n",
    "#          'clf__n_estimators': C_ESTIMATORS, \n",
    "#          'clf__max_depth': C_DEPTH,\n",
    "#      }\n",
    "# ]\n",
    "\n",
    "\n",
    "# # # This will test the parameter dict against our \n",
    "# # # pipeline\n",
    "\n",
    "# grid_search = GridSearchCV(pipe, param_grid=param_grid, cv=k_fold,n_jobs=-1, verbose=1 )\n",
    "\n",
    "\n",
    "# # # Here we are training the model, this is \n",
    "# # # what takes the most amount of time to run\n",
    "# crime_reduced_GradientBoost_model = grid_search.fit(X_crime_reduced_train, y_crime_reduced_train)\n",
    "\n",
    "\n",
    "# y_crime_reduced_score = grid_search.predict(X_crime_reduced_test)\n",
    "\n",
    "# print(roc_auc_score(y_crime_reduced_test, y_crime_reduced_score))\n"
   ]
  },
  {
   "cell_type": "markdown",
   "metadata": {},
   "source": [
    "Based on the contributing features to the model we wanted to remove possible politically biased items that could create unfavorable models with regard to making policies to improve crime outcomes for the high schools in the schools specified in these North Carolina models. We wanted to remove any indicators that could possibly indicate the race of and makeup of the student body so as to not disadvantage any group of students with any recommendations for policy changes."
   ]
  },
  {
   "cell_type": "markdown",
   "metadata": {},
   "source": [
    "# Reduced method using Gradient Boost method"
   ]
  },
  {
   "cell_type": "code",
   "execution_count": 136,
   "metadata": {},
   "outputs": [
    {
     "name": "stdout",
     "output_type": "stream",
     "text": [
      "0.6542603125517699\n"
     ]
    }
   ],
   "source": [
    "pipe.set_params(**crime_GradientBoost_model.best_params_)\n",
    "pipe.fit(X_crime_reduced_train, y_crime_reduced_train)\n",
    "\n",
    "y_crime_reduced_score = pipe.predict(X_crime_reduced_test)\n",
    "\n",
    "print(roc_auc_score(y_crime_reduced_test, y_crime_reduced_score))"
   ]
  },
  {
   "cell_type": "code",
   "execution_count": 139,
   "metadata": {},
   "outputs": [
    {
     "name": "stdout",
     "output_type": "stream",
     "text": [
      "The top 10 features that influence SPG Grade are the following\n"
     ]
    },
    {
     "data": {
      "text/html": [
       "<div>\n",
       "<style scoped>\n",
       "    .dataframe tbody tr th:only-of-type {\n",
       "        vertical-align: middle;\n",
       "    }\n",
       "\n",
       "    .dataframe tbody tr th {\n",
       "        vertical-align: top;\n",
       "    }\n",
       "\n",
       "    .dataframe thead th {\n",
       "        text-align: right;\n",
       "    }\n",
       "</style>\n",
       "<table border=\"1\" class=\"dataframe\">\n",
       "  <thead>\n",
       "    <tr style=\"text-align: right;\">\n",
       "      <th></th>\n",
       "      <th>Influence</th>\n",
       "    </tr>\n",
       "  </thead>\n",
       "  <tbody>\n",
       "    <tr>\n",
       "      <th>avg_daily_attend_pct</th>\n",
       "      <td>0.295370</td>\n",
       "    </tr>\n",
       "    <tr>\n",
       "      <th>SPG Score</th>\n",
       "      <td>0.188907</td>\n",
       "    </tr>\n",
       "    <tr>\n",
       "      <th>GraduationRate_5yr_All</th>\n",
       "      <td>0.165514</td>\n",
       "    </tr>\n",
       "    <tr>\n",
       "      <th>EOCSubjects_CACR_EDS</th>\n",
       "      <td>0.122017</td>\n",
       "    </tr>\n",
       "    <tr>\n",
       "      <th>ACTMath_ACTBenchmark_All</th>\n",
       "      <td>0.048207</td>\n",
       "    </tr>\n",
       "    <tr>\n",
       "      <th>English II Score</th>\n",
       "      <td>0.037984</td>\n",
       "    </tr>\n",
       "    <tr>\n",
       "      <th>cte_courses</th>\n",
       "      <td>0.023930</td>\n",
       "    </tr>\n",
       "    <tr>\n",
       "      <th>advance_dgr_pct</th>\n",
       "      <td>0.022714</td>\n",
       "    </tr>\n",
       "    <tr>\n",
       "      <th>short_susp_per_c_num</th>\n",
       "      <td>0.022523</td>\n",
       "    </tr>\n",
       "    <tr>\n",
       "      <th>grade_range_cd_PK-12</th>\n",
       "      <td>0.014346</td>\n",
       "    </tr>\n",
       "  </tbody>\n",
       "</table>\n",
       "</div>"
      ],
      "text/plain": [
       "                          Influence\n",
       "avg_daily_attend_pct       0.295370\n",
       "SPG Score                  0.188907\n",
       "GraduationRate_5yr_All     0.165514\n",
       "EOCSubjects_CACR_EDS       0.122017\n",
       "ACTMath_ACTBenchmark_All   0.048207\n",
       "English II Score           0.037984\n",
       "cte_courses                0.023930\n",
       "advance_dgr_pct            0.022714\n",
       "short_susp_per_c_num       0.022523\n",
       "grade_range_cd_PK-12       0.014346"
      ]
     },
     "metadata": {},
     "output_type": "display_data"
    }
   ],
   "source": [
    "coef = pipe.steps[2][1].feature_importances_\n",
    "\n",
    "mask = pipe.steps[0][1].get_support()\n",
    "new_features=[]\n",
    "feature_names=list(X_crime_reduced_train.columns.values)\n",
    "for bool, feature in zip(mask, feature_names):\n",
    "    if bool:\n",
    "        new_features.append(feature)\n",
    "\n",
    "#Creates a new dataframe with the coefficients and the \n",
    "predicted_data = pd.DataFrame(data=coef,index=new_features,columns=['Influence'])\n",
    "print(\"The top 10 features that influence SPG Grade are the following\")\n",
    "\n",
    "\n",
    "\n",
    "display(predicted_data.sort_values(by='Influence', ascending=False)[0:10])"
   ]
  },
  {
   "cell_type": "code",
   "execution_count": null,
   "metadata": {},
   "outputs": [],
   "source": []
  },
  {
   "cell_type": "markdown",
   "metadata": {},
   "source": [
    "# Reduced method using Bagging method"
   ]
  },
  {
   "cell_type": "code",
   "execution_count": 187,
   "metadata": {},
   "outputs": [
    {
     "name": "stdout",
     "output_type": "stream",
     "text": [
      "0.6751033912324235\n"
     ]
    }
   ],
   "source": [
    "pipe.set_params(**crime_Bagging_model.best_params_)\n",
    "pipe.fit(X_crime_reduced_train, y_crime_reduced_train)\n",
    "\n",
    "y_crime_bagging_reduced_score = pipe.predict(X_crime_reduced_test)\n",
    "\n",
    "print(roc_auc_score(y_crime_reduced_test, y_crime_bagging_reduced_score))"
   ]
  },
  {
   "cell_type": "code",
   "execution_count": 188,
   "metadata": {},
   "outputs": [
    {
     "name": "stdout",
     "output_type": "stream",
     "text": [
      "The top 10 features that influence SPG Grade are the following\n"
     ]
    },
    {
     "data": {
      "text/html": [
       "<div>\n",
       "<style scoped>\n",
       "    .dataframe tbody tr th:only-of-type {\n",
       "        vertical-align: middle;\n",
       "    }\n",
       "\n",
       "    .dataframe tbody tr th {\n",
       "        vertical-align: top;\n",
       "    }\n",
       "\n",
       "    .dataframe thead th {\n",
       "        text-align: right;\n",
       "    }\n",
       "</style>\n",
       "<table border=\"1\" class=\"dataframe\">\n",
       "  <thead>\n",
       "    <tr style=\"text-align: right;\">\n",
       "      <th></th>\n",
       "      <th>Influence</th>\n",
       "    </tr>\n",
       "  </thead>\n",
       "  <tbody>\n",
       "    <tr>\n",
       "      <th>avg_daily_attend_pct</th>\n",
       "      <td>0.113200</td>\n",
       "    </tr>\n",
       "    <tr>\n",
       "      <th>SPG Score</th>\n",
       "      <td>0.038475</td>\n",
       "    </tr>\n",
       "    <tr>\n",
       "      <th>short_susp_per_c_num</th>\n",
       "      <td>0.027886</td>\n",
       "    </tr>\n",
       "    <tr>\n",
       "      <th>stud_internet_comp_num</th>\n",
       "      <td>0.021834</td>\n",
       "    </tr>\n",
       "    <tr>\n",
       "      <th>English II Score</th>\n",
       "      <td>0.018600</td>\n",
       "    </tr>\n",
       "    <tr>\n",
       "      <th>tchyrs_0thru3_pct</th>\n",
       "      <td>0.014998</td>\n",
       "    </tr>\n",
       "    <tr>\n",
       "      <th>ACTMath_ACTBenchmark_All</th>\n",
       "      <td>0.014125</td>\n",
       "    </tr>\n",
       "    <tr>\n",
       "      <th>_1yr_tchr_trnovr_pct</th>\n",
       "      <td>0.013998</td>\n",
       "    </tr>\n",
       "    <tr>\n",
       "      <th>unit_code</th>\n",
       "      <td>0.013895</td>\n",
       "    </tr>\n",
       "    <tr>\n",
       "      <th>advance_dgr_pct</th>\n",
       "      <td>0.013620</td>\n",
       "    </tr>\n",
       "  </tbody>\n",
       "</table>\n",
       "</div>"
      ],
      "text/plain": [
       "                          Influence\n",
       "avg_daily_attend_pct       0.113200\n",
       "SPG Score                  0.038475\n",
       "short_susp_per_c_num       0.027886\n",
       "stud_internet_comp_num     0.021834\n",
       "English II Score           0.018600\n",
       "tchyrs_0thru3_pct          0.014998\n",
       "ACTMath_ACTBenchmark_All   0.014125\n",
       "_1yr_tchr_trnovr_pct       0.013998\n",
       "unit_code                  0.013895\n",
       "advance_dgr_pct            0.013620"
      ]
     },
     "metadata": {},
     "output_type": "display_data"
    }
   ],
   "source": [
    "clf = pipe.steps[2][1]\n",
    "\n",
    "coef = np.mean([\n",
    "    tree.feature_importances_ for tree in clf.estimators_\n",
    "], axis=0)\n",
    "\n",
    "mask = pipe.steps[0][1].get_support()\n",
    "new_features=[]\n",
    "feature_names=list(X_crime_reduced_train.columns.values)\n",
    "for bool, feature in zip(mask, feature_names):\n",
    "    if bool:\n",
    "        new_features.append(feature)\n",
    "\n",
    "#Creates a new dataframe with the coefficients and the \n",
    "predicted_data = pd.DataFrame(data=coef,index=new_features,columns=['Influence'])\n",
    "print(\"The top 10 features that influence SPG Grade are the following\")\n",
    "\n",
    "\n",
    "\n",
    "display(predicted_data.sort_values(by='Influence', ascending=False)[0:10])"
   ]
  },
  {
   "cell_type": "markdown",
   "metadata": {},
   "source": [
    "# 2.d Modeling and Evaluation\n",
    "10 points - Analyze the results using your chosen method of evaluation. Use visualizations of the results to bolster the analysis. Explain any visuals and analyze why they are interesting to someone that might use this model."
   ]
  },
  {
   "cell_type": "markdown",
   "metadata": {},
   "source": [
    "# 2.e Modeling and Evaluation\n",
    "10 points - Discuss the advantages of each model for each classification task, if any. If there are not advantages, explain why. Is any model better than another? Is the difference signiﬁcant with 95% conﬁdence? Use proper statistical comparison methods."
   ]
  },
  {
   "cell_type": "code",
   "execution_count": null,
   "metadata": {},
   "outputs": [],
   "source": []
  },
  {
   "cell_type": "markdown",
   "metadata": {},
   "source": [
    "# 2.f Modeling and Evaluation\n",
    "10 points - Which attributes from your analysis are most important? Use proper methods discussed in class to evaluate the importance of different attributes. Discuss the results and hypothesize about why certain attributes are more important than others for a given classiﬁcation task."
   ]
  },
  {
   "cell_type": "code",
   "execution_count": null,
   "metadata": {},
   "outputs": [],
   "source": []
  },
  {
   "cell_type": "markdown",
   "metadata": {},
   "source": [
    "# Deployment\n",
    "5 points - How useful is yolur model for interested parties (i.e., the companies or organizations that might want to use it for prediction)? How would you measure the model's value if it was used by these parties? How would your deploy your model for interested parties? What other data should be collected? How often would the model need to be updated, etc.?"
   ]
  },
  {
   "cell_type": "code",
   "execution_count": null,
   "metadata": {},
   "outputs": [],
   "source": []
  },
  {
   "cell_type": "markdown",
   "metadata": {},
   "source": [
    "# Exceptional Work\n",
    "10 points - You have free reign to provide additional modeling. \n",
    "One idea: grid search parameters in a parallelized fashion and visualize the \n",
    "performances across attributes. Which parameters are most signiﬁcant for making a \n",
    "good model for each classiﬁcation algorithm?"
   ]
  },
  {
   "cell_type": "code",
   "execution_count": null,
   "metadata": {},
   "outputs": [],
   "source": []
  }
 ],
 "metadata": {
  "kernelspec": {
   "display_name": "Python 3",
   "language": "python",
   "name": "python3"
  },
  "language_info": {
   "codemirror_mode": {
    "name": "ipython",
    "version": 3
   },
   "file_extension": ".py",
   "mimetype": "text/x-python",
   "name": "python",
   "nbconvert_exporter": "python",
   "pygments_lexer": "ipython3",
   "version": "3.6.5"
  }
 },
 "nbformat": 4,
 "nbformat_minor": 2
}
