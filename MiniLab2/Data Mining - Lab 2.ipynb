{
 "cells": [
  {
   "cell_type": "markdown",
   "metadata": {},
   "source": [
    "# Minilab 2\n",
    "\n",
    "<b>Class:</b> MSDS 7331 Data Mining\n",
    "<br> <b>Dataset:</b> Belk Endowment Educational Attainment Data \n",
    "\n",
    "<h1 style=\"font-size:150%;\"> Teammates </h1>\n",
    "Maryam Shahini\n",
    "<br> Murtada Shubbar\n",
    "<br> Michael Toolin\n",
    "<br> Steven Millett"
   ]
  },
  {
   "cell_type": "code",
   "execution_count": 2,
   "metadata": {},
   "outputs": [],
   "source": [
    "#Set global variables\n",
    "#Number of features we will be selecting for feature selection\n",
    "\n",
    "N_FEATURES_OPTIONS = [25 , 50, 100, 200, 300]\n",
    "\n",
    "\n",
    "#Alpha and C we will be using for our classifiers\n",
    "\n",
    "C_OPTIONS = [1e-4, 1e-3, 1e-2, 1e-1, 1e0, 1e1, 1e2, 1e3, 1e4]\n",
    "\n",
    "\n",
    "#Import data all necessary libraries we will be using in our estimation\n",
    "\n",
    "import pandas as pd\n",
    "import numpy as np\n",
    "import matplotlib.pyplot as plt\n",
    "#from pandas.plotting import scatter_matrix\n",
    "import seaborn as sns\n",
    "import math\n",
    "import re\n",
    "import sklearn\n",
    "import statistics\n",
    "from sklearn.linear_model import LogisticRegression\n",
    "from sklearn.linear_model import SGDClassifier\n",
    "from sklearn.model_selection import KFold\n",
    "\n",
    "from sklearn.decomposition import PCA, NMF\n",
    "from sklearn.feature_selection import SelectKBest, chi2, SelectPercentile\n",
    "\n",
    "from sklearn.feature_selection import RFE\n",
    "\n",
    "from sklearn.svm import SVC, LinearSVC\n",
    "\n",
    "from sklearn.metrics import confusion_matrix\n",
    "from sklearn.metrics import accuracy_score\n",
    "\n",
    "from IPython.display import display, HTML\n",
    "\n",
    "from sklearn.pipeline import Pipeline\n",
    "\n",
    "from sklearn.pipeline import make_pipeline\n",
    "from sklearn.naive_bayes import MultinomialNB\n",
    "from sklearn.preprocessing import Binarizer\n",
    "\n",
    "from sklearn.preprocessing import StandardScaler\n",
    "\n",
    "from sklearn.model_selection import GridSearchCV\n",
    "\n",
    "from sklearn.model_selection import train_test_split\n",
    "\n",
    "%matplotlib inline"
   ]
  },
  {
   "cell_type": "code",
   "execution_count": 3,
   "metadata": {},
   "outputs": [
    {
     "name": "stdout",
     "output_type": "stream",
     "text": [
      "The scikit-learn version is 0.19.1.\n"
     ]
    }
   ],
   "source": [
    "# The 2017 Public Schools Machine Learning \n",
    "# Date Set is being used throughout this \n",
    "# analysis.  The _ML suffix is removed to less \n",
    "# name space size\n",
    "# Load Full Public School Data Frames for each year\n",
    "\n",
    "school_data = pd.read_csv('../Data/2017/Machine Learning Datasets/PublicSchools2017_ML.csv', low_memory=False)\n",
    "\n",
    "print('The scikit-learn version is {}.'.format(sklearn.__version__))"
   ]
  },
  {
   "cell_type": "markdown",
   "metadata": {},
   "source": [
    "# Create Models\n",
    "Create a logistic regression model and a support vector machine model for the classification task involved with your dataset. Assess how well each model performs (use 80/20 training/testing split for your data). Adjust parameters of the models to make them more accurate. If your dataset size requires the use of stochastic gradient descent, then linear kernel only is fine to use. That is, the SGDClassifier is fine to use for optimizing logistic regression and linear support vector machines. For many problems, SGD will be required in order to train the SVM model in a reasonable timeframe. "
   ]
  },
  {
   "cell_type": "code",
   "execution_count": 4,
   "metadata": {
    "scrolled": true
   },
   "outputs": [],
   "source": [
    "#split data into X and y dataframes\n",
    "\n",
    "SPG_Grade_col = school_data.filter(regex=('^SPG\\WGrade')).columns\n",
    "y = school_data[SPG_Grade_col].apply(lambda row:'A' if row.any()!=1 else \n",
    "                                 row[0]*'A+NG'+row[1]*'B'+row[2]*'C'+row[3]*'D'+row[4]*'F'+row[5]*'I',axis=1)\n",
    "\n",
    "#Removed SPG Grade and unit code(which is primary key for school data table)\n",
    " \n",
    "X = school_data[school_data.columns.drop(list(school_data.filter(regex='^SPG\\WGrade|^SPG\\WScore|unit_code')))]"
   ]
  },
  {
   "cell_type": "code",
   "execution_count": 5,
   "metadata": {
    "scrolled": true
   },
   "outputs": [],
   "source": [
    "# split X and y into test and train sets. We still want\n",
    "# to do this for external Cross Validation\n",
    "\n",
    "X_train, X_test, y_train, y_test = train_test_split(X, y, test_size=.2)"
   ]
  },
  {
   "cell_type": "markdown",
   "metadata": {},
   "source": [
    "# Training of the model\n",
    "\n",
    "Here we are training the logistic regression, SVM, and SGDClassifier models. We are using 10 k-fold internal cross validation to train and test our model. A simple pipeline was created which and then grid search was used for parameter selection. The pipeline has 3 main steps:\n",
    "1. dimension reduction\n",
    "2. sample scaling\n",
    "3. classification\n",
    "\n",
    "The grid search will try the following parameters for each of the 3 steps:\n",
    "1. dimension reduction - None, NMF, PCA\n",
    "1. a. Number of obersations - 25 , 50, 100, 200, 300\n",
    "2. sample scaling - None, Standard Scaler\n",
    "3. model classification - Logistic Regression, SVM, SGDClassifier\n",
    "3. a. Number of options used for classifiers - 1e-4, 1e-3, 1e-2, 1e-1, 1e0, 1e1, 1e2, 1e3, 1e4"
   ]
  },
  {
   "cell_type": "code",
   "execution_count": 6,
   "metadata": {},
   "outputs": [],
   "source": [
    "# Here we establish a basic 10 k-fold internal\n",
    "# Cross Validation seperation that will be used\n",
    "# for training our model.\n",
    "\n",
    "k_fold = KFold(n_splits=10,shuffle=True)\n",
    "\n",
    "#This creates the template for the pipeline\n",
    "# This creates a basic pipeline where we will \n",
    "# test for dementionality reduction, scaling,\n",
    "# and classification.\n",
    "\n",
    "pipe = Pipeline([('reduce_dim', NMF()),\n",
    "                  ('scale', StandardScaler()), \n",
    "                  ('clf', LogisticRegression())])"
   ]
  },
  {
   "cell_type": "code",
   "execution_count": 7,
   "metadata": {},
   "outputs": [
    {
     "name": "stdout",
     "output_type": "stream",
     "text": [
      "Fitting 10 folds for each of 864 candidates, totalling 8640 fits\n"
     ]
    },
    {
     "name": "stderr",
     "output_type": "stream",
     "text": [
      "[Parallel(n_jobs=-1)]: Done  88 tasks      | elapsed:   25.0s\n",
      "[Parallel(n_jobs=-1)]: Done 338 tasks      | elapsed:  1.8min\n",
      "[Parallel(n_jobs=-1)]: Done 688 tasks      | elapsed:  9.7min\n",
      "[Parallel(n_jobs=-1)]: Done 1138 tasks      | elapsed: 42.5min\n",
      "[Parallel(n_jobs=-1)]: Done 1688 tasks      | elapsed: 85.6min\n",
      "[Parallel(n_jobs=-1)]: Done 2338 tasks      | elapsed: 131.4min\n",
      "[Parallel(n_jobs=-1)]: Done 3088 tasks      | elapsed: 189.0min\n",
      "[Parallel(n_jobs=-1)]: Done 3938 tasks      | elapsed: 254.6min\n",
      "[Parallel(n_jobs=-1)]: Done 4888 tasks      | elapsed: 326.6min\n",
      "[Parallel(n_jobs=-1)]: Done 5938 tasks      | elapsed: 399.0min\n",
      "[Parallel(n_jobs=-1)]: Done 7088 tasks      | elapsed: 404.3min\n",
      "[Parallel(n_jobs=-1)]: Done 8338 tasks      | elapsed: 408.1min\n",
      "[Parallel(n_jobs=-1)]: Done 8640 out of 8640 | elapsed: 408.9min finished\n"
     ]
    },
    {
     "data": {
      "text/plain": [
       "['savedBestModel.pkl']"
      ]
     },
     "execution_count": 7,
     "metadata": {},
     "output_type": "execute_result"
    }
   ],
   "source": [
    "# #Don't run this unless you want to retrain the data.\n",
    "\n",
    "# Here we are establishing the basic testing criteria\n",
    "# for our pipeline. This will run through a number of\n",
    "# parameters for our pipeline, including type of dimensionality\n",
    "# reduction, number of features to reduce, scaling (yes/no), \n",
    "# classification models, and parameters of the classification model.\n",
    "\n",
    "param_grid = [\n",
    "    {\n",
    "        'reduce_dim': [None],\n",
    "        'scale':[None,StandardScaler()],\n",
    "        'clf':[SVC(),LogisticRegression()],\n",
    "        'clf__C': C_OPTIONS\n",
    "    },\n",
    "    {\n",
    "        'reduce_dim': [None],\n",
    "        'scale':[None,StandardScaler()],\n",
    "        'clf':[SGDClassifier(tol=1e-3,max_iter=1000)],\n",
    "        'clf__alpha': C_OPTIONS\n",
    "    },\n",
    "    {\n",
    "        'reduce_dim': [NMF(), PCA()],\n",
    "        'reduce_dim__n_components': N_FEATURES_OPTIONS,\n",
    "        'scale':[None,StandardScaler()],\n",
    "        'clf':[SVC(),LogisticRegression()],\n",
    "        'clf__C': C_OPTIONS\n",
    "    },\n",
    "    {\n",
    "        'reduce_dim': [NMF(), PCA()],\n",
    "        'reduce_dim__n_components': N_FEATURES_OPTIONS,\n",
    "        'scale':[None,StandardScaler()],\n",
    "        'clf':[SGDClassifier(tol=1e-3,max_iter=1000)],\n",
    "        'clf__alpha': C_OPTIONS\n",
    "    },\n",
    "    {\n",
    "        'reduce_dim': [SelectKBest(chi2)],\n",
    "        'reduce_dim__k': N_FEATURES_OPTIONS,\n",
    "        'scale':[None,StandardScaler()],\n",
    "        'clf':[SVC(),LogisticRegression()],\n",
    "        'clf__C': C_OPTIONS\n",
    "    },\n",
    "    {\n",
    "        'reduce_dim': [SelectKBest(chi2)],\n",
    "        'reduce_dim__k': N_FEATURES_OPTIONS,\n",
    "        'scale':[None,StandardScaler()],\n",
    "        'clf':[SGDClassifier(tol=1e-3,max_iter=1000)],\n",
    "        'clf__alpha': C_OPTIONS\n",
    "    },   \n",
    "]\n",
    "\n",
    "\n",
    "# This will test the parameter dict against our \n",
    "# pipeline\n",
    "\n",
    "grid_search = GridSearchCV(pipe, param_grid=param_grid, cv=k_fold,n_jobs=-1, verbose=1 )\n",
    "\n",
    "\n",
    "# Here we are training the model, this is \n",
    "# what takes the most amount of time to run\n",
    "grid_search.fit(X_train, y_train)\n",
    "\n",
    "\n",
    "#This saves the grid_search variable\n",
    "# to an external file so we don't have to \n",
    "# keep running the gridsearch\n",
    "\n",
    "from sklearn.externals import joblib\n",
    "joblib.dump(grid_search, 'savedBestModel.pkl')"
   ]
  },
  {
   "cell_type": "code",
   "execution_count": 8,
   "metadata": {},
   "outputs": [],
   "source": [
    "#Run this to load the model from the save file\n",
    "\n",
    "from sklearn.externals import joblib\n",
    "grid_search = joblib.load('savedBestModel.pkl')\n",
    "\n",
    "\n",
    "# Loads all parameters run into a dict \n",
    "\n",
    "params = np.array(grid_search.cv_results_['params'])\n",
    "\n",
    "\n",
    "# Loads all mean test scores into an array\n",
    "\n",
    "mean_scores = np.array(grid_search.cv_results_['mean_test_score'])"
   ]
  },
  {
   "cell_type": "code",
   "execution_count": 9,
   "metadata": {},
   "outputs": [
    {
     "data": {
      "text/html": [
       "<div>\n",
       "<style scoped>\n",
       "    .dataframe tbody tr th:only-of-type {\n",
       "        vertical-align: middle;\n",
       "    }\n",
       "\n",
       "    .dataframe tbody tr th {\n",
       "        vertical-align: top;\n",
       "    }\n",
       "\n",
       "    .dataframe thead th {\n",
       "        text-align: right;\n",
       "    }\n",
       "</style>\n",
       "<table border=\"1\" class=\"dataframe\">\n",
       "  <thead>\n",
       "    <tr style=\"text-align: right;\">\n",
       "      <th></th>\n",
       "      <th>0.0001</th>\n",
       "      <th>0.001</th>\n",
       "      <th>0.01</th>\n",
       "      <th>0.1</th>\n",
       "      <th>1.0</th>\n",
       "      <th>10.0</th>\n",
       "      <th>100.0</th>\n",
       "      <th>1000.0</th>\n",
       "      <th>10000.0</th>\n",
       "    </tr>\n",
       "  </thead>\n",
       "  <tbody>\n",
       "    <tr>\n",
       "      <th>SVC</th>\n",
       "      <td>0.400205</td>\n",
       "      <td>0.400205</td>\n",
       "      <td>0.400205</td>\n",
       "      <td>0.719550</td>\n",
       "      <td>0.860798</td>\n",
       "      <td>0.866940</td>\n",
       "      <td>0.865916</td>\n",
       "      <td>0.865916</td>\n",
       "      <td>0.865916</td>\n",
       "    </tr>\n",
       "    <tr>\n",
       "      <th>LogisticRegression</th>\n",
       "      <td>0.812692</td>\n",
       "      <td>0.812692</td>\n",
       "      <td>0.833675</td>\n",
       "      <td>0.836233</td>\n",
       "      <td>0.825998</td>\n",
       "      <td>0.816786</td>\n",
       "      <td>0.804504</td>\n",
       "      <td>0.798874</td>\n",
       "      <td>0.797851</td>\n",
       "    </tr>\n",
       "    <tr>\n",
       "      <th>SGDClassifier</th>\n",
       "      <td>0.822927</td>\n",
       "      <td>0.823439</td>\n",
       "      <td>0.822927</td>\n",
       "      <td>0.826510</td>\n",
       "      <td>0.804504</td>\n",
       "      <td>0.567554</td>\n",
       "      <td>0.469806</td>\n",
       "      <td>0.460594</td>\n",
       "      <td>0.465200</td>\n",
       "    </tr>\n",
       "  </tbody>\n",
       "</table>\n",
       "</div>"
      ],
      "text/plain": [
       "                    0.0001      0.0010      0.0100      0.1000      \\\n",
       "SVC                   0.400205    0.400205    0.400205    0.719550   \n",
       "LogisticRegression    0.812692    0.812692    0.833675    0.836233   \n",
       "SGDClassifier         0.822927    0.823439    0.822927    0.826510   \n",
       "\n",
       "                    1.0000      10.0000     100.0000    1000.0000   10000.0000  \n",
       "SVC                   0.860798    0.866940    0.865916    0.865916    0.865916  \n",
       "LogisticRegression    0.825998    0.816786    0.804504    0.798874    0.797851  \n",
       "SGDClassifier         0.804504    0.567554    0.469806    0.460594    0.465200  "
      ]
     },
     "metadata": {},
     "output_type": "display_data"
    },
    {
     "data": {
      "image/png": "[encoded data removed]",
      "text/plain": [
       "<Figure size 1008x720 with 1 Axes>"
      ]
     },
     "metadata": {},
     "output_type": "display_data"
    }
   ],
   "source": [
    "# Assigns all models to an array\n",
    "\n",
    "classifier_labels=['SVC','LogisticRegression','SGDClassifier']\n",
    "\n",
    "\n",
    "# Creates an empty dataframe that is to be\n",
    "# filled with the mean test accuracy by C global\n",
    "# variable and the different classifiers\n",
    "\n",
    "classifier_temp = pd.DataFrame(columns=classifier_labels,index=C_OPTIONS,\n",
    "                               data=np.linspace(.1,.25,num=len(C_OPTIONS)*len(classifier_labels)).reshape(len(C_OPTIONS),len(classifier_labels)))\n",
    "classifier_temp.fillna(0,inplace=True)\n",
    "\n",
    "for i, (param, score) in enumerate(zip(params, mean_scores)):\n",
    "    C = param['clf__C'] if 'clf__C' in param else param['clf__alpha']\n",
    "    class_state = str(param['clf']).split('(')[0]\n",
    "    if classifier_temp.at[C,class_state] < score:\n",
    "        classifier_temp.at[C,class_state] = score\n",
    "\n",
    "\n",
    "# Printing a grid of the best accuracies\n",
    "        \n",
    "display(classifier_temp.transpose())   \n",
    "\n",
    "\n",
    "# Print a line plot which shows the best \n",
    "# accuracies\n",
    " \n",
    "classifier_temp.plot(logx=True,ylim=(0,1),figsize=(14,10),title='Accuracy by Classifier'); "
   ]
  },
  {
   "cell_type": "code",
   "execution_count": 10,
   "metadata": {},
   "outputs": [
    {
     "data": {
      "text/html": [
       "<div>\n",
       "<style scoped>\n",
       "    .dataframe tbody tr th:only-of-type {\n",
       "        vertical-align: middle;\n",
       "    }\n",
       "\n",
       "    .dataframe tbody tr th {\n",
       "        vertical-align: top;\n",
       "    }\n",
       "\n",
       "    .dataframe thead th {\n",
       "        text-align: right;\n",
       "    }\n",
       "</style>\n",
       "<table border=\"1\" class=\"dataframe\">\n",
       "  <thead>\n",
       "    <tr style=\"text-align: right;\">\n",
       "      <th></th>\n",
       "      <th>25</th>\n",
       "      <th>50</th>\n",
       "      <th>100</th>\n",
       "      <th>200</th>\n",
       "      <th>300</th>\n",
       "      <th>None</th>\n",
       "    </tr>\n",
       "  </thead>\n",
       "  <tbody>\n",
       "    <tr>\n",
       "      <th>NMF</th>\n",
       "      <td>0.686285</td>\n",
       "      <td>0.712897</td>\n",
       "      <td>0.769703</td>\n",
       "      <td>0.759468</td>\n",
       "      <td>0.751791</td>\n",
       "      <td>0.863869</td>\n",
       "    </tr>\n",
       "    <tr>\n",
       "      <th>PCA</th>\n",
       "      <td>0.758956</td>\n",
       "      <td>0.757421</td>\n",
       "      <td>0.752815</td>\n",
       "      <td>0.761515</td>\n",
       "      <td>0.813204</td>\n",
       "      <td>0.241176</td>\n",
       "    </tr>\n",
       "    <tr>\n",
       "      <th>SelectKBest</th>\n",
       "      <td>0.767144</td>\n",
       "      <td>0.828045</td>\n",
       "      <td>0.838280</td>\n",
       "      <td>0.864381</td>\n",
       "      <td>0.866940</td>\n",
       "      <td>0.863869</td>\n",
       "    </tr>\n",
       "  </tbody>\n",
       "</table>\n",
       "</div>"
      ],
      "text/plain": [
       "                   25        50       100       200       300      None\n",
       "NMF          0.686285  0.712897  0.769703  0.759468  0.751791  0.863869\n",
       "PCA          0.758956  0.757421  0.752815  0.761515  0.813204  0.241176\n",
       "SelectKBest  0.767144  0.828045  0.838280  0.864381  0.866940  0.863869"
      ]
     },
     "metadata": {},
     "output_type": "display_data"
    },
    {
     "data": {
      "image/png": "[encoded data removed]",
      "text/plain": [
       "<Figure size 1008x720 with 1 Axes>"
      ]
     },
     "metadata": {},
     "output_type": "display_data"
    }
   ],
   "source": [
    "# Assigns all reduction models to an array\n",
    "\n",
    "reduce_labels=['NMF','PCA','SelectKBest']\n",
    "\n",
    "\n",
    "# Translates the N Features array\n",
    "# to an array full of string\n",
    "\n",
    "temp_N_FEATURES_OPTIONS = [str(r) for r in N_FEATURES_OPTIONS]\n",
    "temp_N_FEATURES_OPTIONS=temp_N_FEATURES_OPTIONS+['None']\n",
    "\n",
    "\n",
    "# Creates an empty dataframe that is to be\n",
    "# filled with the mean test accuracy by N Features\n",
    "# variable and the different feature reduction models\n",
    "\n",
    "reduce_temp = pd.DataFrame(columns=reduce_labels,index=temp_N_FEATURES_OPTIONS,\n",
    "                               data=np.linspace(.1,.25,num=len(temp_N_FEATURES_OPTIONS)*len(reduce_labels)).reshape(+len(temp_N_FEATURES_OPTIONS),len(reduce_labels)))\n",
    "\n",
    "\n",
    "for i, (param, score) in enumerate(zip(params, mean_scores)):\n",
    "    trigger=0\n",
    "    reduce_state = str(param['reduce_dim']).split('(')[0]\n",
    "    if 'reduce_dim__k' in param:\n",
    "        N_FEAT = str(param['reduce_dim__k'])\n",
    "        trigger=1\n",
    "    elif 'reduce_dim__n_components' in param:\n",
    "        N_FEAT = str(param['reduce_dim__n_components'])\n",
    "        trigger=1\n",
    "    else:\n",
    "        if reduce_temp.at['None','NMF'] < score:\n",
    "            reduce_temp.at['None','NMF'] = score\n",
    "            reduce_temp.at['None','SelectKBest'] = score\n",
    "    if trigger == 1:\n",
    "        if reduce_temp.at[N_FEAT,reduce_state] < score:\n",
    "            reduce_temp.at[N_FEAT,reduce_state] = score\n",
    "\n",
    "            \n",
    "# Printing a grid of the best accuracies\n",
    "\n",
    "display(reduce_temp.transpose())\n",
    "\n",
    "\n",
    "# Print a bar plot which shows the best \n",
    "# accuracies\n",
    "\n",
    "reduce_temp.plot(kind='bar',ylim=(0,1),figsize=(14,10),title='Accuracy by Feature Selection',rot=0);           "
   ]
  },
  {
   "cell_type": "code",
   "execution_count": 11,
   "metadata": {},
   "outputs": [
    {
     "name": "stdout",
     "output_type": "stream",
     "text": [
      "The Index of the best model is 653\n",
      "The parameters of the best model is\n"
     ]
    },
    {
     "data": {
      "text/plain": [
       "{'clf': SVC(C=10.0, cache_size=200, class_weight=None, coef0=0.0,\n",
       "   decision_function_shape='ovr', degree=3, gamma='auto', kernel='rbf',\n",
       "   max_iter=-1, probability=False, random_state=None, shrinking=True,\n",
       "   tol=0.001, verbose=False),\n",
       " 'clf__C': 10.0,\n",
       " 'reduce_dim': SelectKBest(k=300, score_func=<function chi2 at 0x7f04a68ee268>),\n",
       " 'reduce_dim__k': 300,\n",
       " 'scale': StandardScaler(copy=True, with_mean=True, with_std=True)}"
      ]
     },
     "metadata": {},
     "output_type": "display_data"
    },
    {
     "name": "stdout",
     "output_type": "stream",
     "text": [
      "The accuracy of the best model is 86.694\n"
     ]
    }
   ],
   "source": [
    "print('The Index of the best model is',grid_search.best_index_)\n",
    "print('The parameters of the best model is')\n",
    "display(grid_search.best_params_)\n",
    "print('The accuracy of the best model is',round(grid_search.best_score_*100,4))"
   ]
  },
  {
   "cell_type": "markdown",
   "metadata": {},
   "source": [
    "# Model Advantages\n",
    "Discuss the advantages of each model for each classification task. Does one type of model offer superior performance over another in terms of prediction accuracy? In terms of training time or efficiency? Explain in detail."
   ]
  },
  {
   "cell_type": "markdown",
   "metadata": {},
   "source": [
    "Looking at the accuracy of the two models there are a couple of obvious observations.\n",
    "\n",
    "1. SVM is negatively to non-standardized observations.\n",
    "2. Logistic Regression ..."
   ]
  },
  {
   "cell_type": "markdown",
   "metadata": {},
   "source": [
    "# Interpret Feature Importance\n",
    "Use the weights from logistic regression to interpret the importance of different features for the classification task. Explain your interpretation in detail. Why do you think some variables are more important?\n"
   ]
  },
  {
   "cell_type": "code",
   "execution_count": 12,
   "metadata": {
    "scrolled": true
   },
   "outputs": [
    {
     "name": "stdout",
     "output_type": "stream",
     "text": [
      "The accuracy of the best Logistic Regression is 83.4356\n",
      "The top 10 features that influence SPG Grade are the following\n"
     ]
    },
    {
     "data": {
      "text/plain": [
       "State Gap Compared_Y                                      3.227053\n",
       "Reading SPG Grade_C                                       2.266282\n",
       "Math SPG Grade_C                                          1.970883\n",
       "Reading SPG Grade_B                                       1.349541\n",
       "Math SPG Grade_B                                          1.319443\n",
       "EVAAS Growth Status_NotMet                                1.283206\n",
       "Reading SPG Grade_D                                       0.997239\n",
       "EOG/EOCSubjects_CACR_All                                  0.927198\n",
       "Math SPG Grade_D                                          0.903086\n",
       "EVAAS Growth Score                                        0.822498\n",
       "Math SPG Grade_F                                          0.556266\n",
       "Reading SPG Grade_F                                       0.455630\n",
       "EOG/EOCSubjects_CACR_EDS                                  0.446138\n",
       "school_type_txt_Regular School                            0.432964\n",
       "short_susp_per_c_num                                      0.398593\n",
       "EVAAS Growth Status_Met                                   0.353566\n",
       "calendar_type_txt_Regular School, Traditional Calendar    0.320973\n",
       "EOCSubjects_CACR_AIG                                      0.306636\n",
       "Science Score                                             0.306184\n",
       "pct_eds                                                   0.285336\n",
       "school_type_txt_Magnet School                             0.222150\n",
       "calendar_type_txt_Magnet School, Traditional Calendar     0.196197\n",
       "TotalTargets_pTarget_PctMet                               0.190151\n",
       "EOGSubjects_CACR_AIG                                      0.167465\n",
       "EOGMathGr3-8_CACR_White                                   0.153167\n",
       "00_Size                                                   0.147117\n",
       "EOGScienceGr5&8_CACR_Asian                                0.135553\n",
       "EOCMathI_GLP_LEP                                          0.135485\n",
       "MinorityMalePct                                           0.134885\n",
       "MathGr3-8_pTarget_PctMet                                  0.134884\n",
       "                                                            ...   \n",
       "EOGScienceGr5_GLP_LEP                                     0.034932\n",
       "EOGGr3_CACR_EDS                                           0.034769\n",
       "EOG/EOCSubjects_CACR_TwoorMoreRaces                       0.034620\n",
       "category_cd_M                                             0.034462\n",
       "EOGReadingGr3-8_CACR_Black                                0.034359\n",
       "EOG/EOCSubjects_CACR_AmericanIndian                       0.034290\n",
       "lea_nbpts_num                                             0.034076\n",
       "EOG/EOCSubjects_CACR_LEP                                  0.033807\n",
       "02_Size                                                   0.032916\n",
       "lea_local_perpupil_num                                    0.032608\n",
       "category_cd_I                                             0.032337\n",
       "calendar_type_txt_Regular School, Year-Round Calendar     0.031641\n",
       "EOG/EOCSubjects_CACR_White                                0.031381\n",
       "EOGScienceGr5_CACR_AmericanIndian                         0.031103\n",
       "Distinguished_TCHR_Standard 2_Pct                         0.030725\n",
       "Exceeds Expected Growth_TCHR_Student Growth_Pct           0.030511\n",
       "EOGGr5_CACR_TwoorMoreRaces                                0.030059\n",
       "SBE District_Western                                      0.029716\n",
       "flicensed_teach_pct                                       0.029591\n",
       "EOGSubjects_CACR_Asian                                    0.029467\n",
       "Developing_TCHR_Standard 4_Pct                            0.029149\n",
       "EOGGr3_CACR_TwoorMoreRaces                                0.029111\n",
       "Developing_TCHR_Standard 5_Pct                            0.029091\n",
       "_1_to_1_access_Yes                                        0.028737\n",
       "expelled_per_c_num                                        0.028461\n",
       "EOCMathI_CACR_Hispanic                                    0.028376\n",
       "EOGReadingGr4_CACR_LEP                                    0.028169\n",
       "EOGMathGr3_CACR_EDS                                       0.028156\n",
       "EOGMathGr5_CACR_LEP                                       0.028151\n",
       "EOCMathI_CACR_AmericanIndian                              0.027133\n",
       "Length: 200, dtype: float64"
      ]
     },
     "metadata": {},
     "output_type": "display_data"
    }
   ],
   "source": [
    "best_score=0\n",
    "ind = 0\n",
    "\n",
    "\n",
    "# Figure out the index of the best \n",
    "# model based on LogisticRegression\n",
    "\n",
    "for index, (param, score) in enumerate(zip(params, mean_scores)):\n",
    "    # Uses split to get the first part of the \n",
    "    # clf dict, which is the classifier used\n",
    "    class_state = str(param['clf']).split('(')[0]\n",
    "    if class_state == 'LogisticRegression' and score>best_score:\n",
    "        best_score=score\n",
    "        ind=index\n",
    "\n",
    "# Sets parameters to the best found with\n",
    "# the index\n",
    "\n",
    "pipe.set_params(**grid_search.cv_results_['params'][ind])\n",
    "pipe.fit(X_train,y_train)\n",
    "\n",
    "#Gets the predicted coefficients for the pipeline\n",
    "\n",
    "coef = pipe.steps[2][1].coef_\n",
    "\n",
    "#Creates a boolean mask based on the Kbest selection\n",
    "mask = pipe.steps[0][1].get_support()\n",
    "new_features= []\n",
    "\n",
    "#Creates a list of names from the columns of the original dataset\n",
    "feature_names = list(X.columns.values)\n",
    "\n",
    "for bool, feature in zip(mask, feature_names):\n",
    "    if bool:\n",
    "        new_features.append(feature)\n",
    "\n",
    "#Creates a new dataframe with the coefficients and the \n",
    "predicted_data = pd.DataFrame(coef, columns=new_features)\n",
    "\n",
    "# Predicts the prediction of the y test\n",
    "y_pred = pipe.predict(X_test)\n",
    "\n",
    "# Assigns the accuracy of the external cross validation \n",
    "accuracy = accuracy_score(y_test,y_pred)\n",
    "\n",
    "\n",
    "print('The accuracy of the best Logistic Regression is',round(accuracy*100,4))\n",
    "        \n",
    "#Add the square of every column together to get the most influential predictors\n",
    "sum1 = predicted_data.apply(lambda row: (row**2).sum(),axis=0)\n",
    "#sum2 = predicted_data.apply(lambda row: abs(row).sum(),axis=0)\n",
    "\n",
    "print(\"The top 10 features that influence SPG Grade are the following\")\n",
    "\n",
    "display(sum1.sort_values(ascending=False)[0:200])"
   ]
  },
  {
   "cell_type": "markdown",
   "metadata": {},
   "source": [
    "# Interpret Support Vectors\n",
    "Look at the chosen support vectors for the classification task. Do these provide any insight into the data? Explain. If you used stochastic gradient descent (and therefore did not explicitly solve for support vectors), try subsampling your data to train the SVC model— then analyze the support vectors from the subsampled dataset."
   ]
  },
  {
   "cell_type": "code",
   "execution_count": 13,
   "metadata": {},
   "outputs": [
    {
     "name": "stdout",
     "output_type": "stream",
     "text": [
      "The accuracy of the best SVM is 85.6851\n"
     ]
    }
   ],
   "source": [
    "#This will search for the best logistic regression model from the previously run grid search\n",
    "\n",
    "best_score=0\n",
    "ind = 0\n",
    "\n",
    "\n",
    "# Figure out the index of the best \n",
    "# model based on SVM\n",
    "\n",
    "for index, (param, score) in enumerate(zip(params, mean_scores)):\n",
    "    # Uses split to get the first part of the \n",
    "    # clf dict, which is the classifier used\n",
    "    class_state = str(param['clf']).split('(')[0]\n",
    "    if class_state == 'SVC' and score>best_score:\n",
    "        best_score=score\n",
    "        ind=index\n",
    "\n",
    "# Sets parameters to the best found with\n",
    "# the index\n",
    "\n",
    "pipe.set_params(**grid_search.cv_results_['params'][ind])\n",
    "pipe.fit(X_train,y_train)\n",
    "\n",
    "\n",
    "# Predicts the prediction of the y test\n",
    "\n",
    "y_pred = pipe.predict(X_test)\n",
    "\n",
    "# Assigns the accuracy of the external cross validation \n",
    "\n",
    "accuracy = accuracy_score(y_test,y_pred)\n",
    "\n",
    "\n",
    "print('The accuracy of the best SVM is',round(accuracy*100,4))\n",
    "        "
   ]
  },
  {
   "cell_type": "code",
   "execution_count": null,
   "metadata": {},
   "outputs": [],
   "source": []
  }
 ],
 "metadata": {
  "kernelspec": {
   "display_name": "Python 3",
   "language": "python",
   "name": "python3"
  },
  "language_info": {
   "codemirror_mode": {
    "name": "ipython",
    "version": 3
   },
   "file_extension": ".py",
   "mimetype": "text/x-python",
   "name": "python",
   "nbconvert_exporter": "python",
   "pygments_lexer": "ipython3",
   "version": "3.6.5"
  }
 },
 "nbformat": 4,
 "nbformat_minor": 2
}
