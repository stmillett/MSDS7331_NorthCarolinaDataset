{
 "cells": [
  {
   "cell_type": "markdown",
   "metadata": {},
   "source": [
    "# Minilab 2\n",
    "\n",
    "<b>Class:</b> MSDS 7331 Data Mining\n",
    "<br> <b>Dataset:</b> Belk Endowment Educational Attainment Data \n",
    "\n",
    "<h1 style=\"font-size:150%;\"> Teammates </h1>\n",
    "Maryam Shahini\n",
    "<br> Murtada Shubbar\n",
    "<br> Michael Toolin\n",
    "<br> Steven Millett"
   ]
  },
  {
   "cell_type": "code",
   "execution_count": 1,
   "metadata": {},
   "outputs": [],
   "source": [
    "#Set global variables\n",
    "N_FEATURES_OPTIONS = [25 , 50, 100, 200, 300]\n",
    "C_OPTIONS = [1e-4, 1e-3, 1e-2, 1e-1, 1e0, 1e1, 1e2, 1e3, 1e4]\n",
    "\n",
    "#Import data\n",
    "\n",
    "import pandas as pd\n",
    "import numpy as np\n",
    "import matplotlib.pyplot as plt\n",
    "from pandas.plotting import scatter_matrix\n",
    "import seaborn as sns\n",
    "import math\n",
    "import re\n",
    "import statistics\n",
    "from sklearn.linear_model import LogisticRegression\n",
    "from sklearn.linear_model import SGDClassifier\n",
    "from sklearn.model_selection import KFold\n",
    "\n",
    "from sklearn.decomposition import PCA, NMF\n",
    "from sklearn.feature_selection import SelectKBest, chi2, SelectPercentile\n",
    "\n",
    "from sklearn.feature_selection import RFE\n",
    "\n",
    "from sklearn.svm import SVC, LinearSVC\n",
    "\n",
    "from sklearn.metrics import confusion_matrix\n",
    "from sklearn.metrics import accuracy_score\n",
    "\n",
    "from IPython.display import display, HTML\n",
    "\n",
    "from sklearn.pipeline import Pipeline\n",
    "\n",
    "from sklearn.pipeline import make_pipeline\n",
    "from sklearn.naive_bayes import MultinomialNB\n",
    "from sklearn.preprocessing import Binarizer\n",
    "\n",
    "from sklearn.preprocessing import StandardScaler\n",
    "\n",
    "from sklearn.model_selection import GridSearchCV\n",
    "\n",
    "from sklearn.model_selection import train_test_split\n",
    "\n",
    "%matplotlib inline"
   ]
  },
  {
   "cell_type": "code",
   "execution_count": 2,
   "metadata": {},
   "outputs": [],
   "source": [
    "#\n",
    "# The 2017 Public Schools Machine Learning Date Set is being used throughout this analysis.  The _ML suffix is removed to less name space size\n",
    "#\n",
    "# Load Full Public School Data Frames for each year\n",
    "\n",
    "school_data = pd.read_csv('../Data/2017/Machine Learning Datasets/PublicSchools2017_ML.csv', low_memory=False)\n",
    "\n"
   ]
  },
  {
   "cell_type": "markdown",
   "metadata": {},
   "source": [
    "# Create Models\n",
    "Create a logistic regression model and a support vector machine model for the classification task involved with your dataset. Assess how well each model performs (use 80/20 training/testing split for your data). Adjust parameters of the models to make them more accurate. If your dataset size requires the use of stochastic gradient descent, then linear kernel only is fine to use. That is, the SGDClassifier is fine to use for optimizing logistic regression and linear support vector machines. For many problems, SGD will be required in order to train the SVM model in a reasonable timeframe. "
   ]
  },
  {
   "cell_type": "code",
   "execution_count": 3,
   "metadata": {
    "scrolled": true
   },
   "outputs": [],
   "source": [
    "#split data into X and y dataframes\n",
    "\n",
    "SPG_Grade_col = school_data.filter(regex=('^SPG\\WGrade')).columns\n",
    "y = school_data[SPG_Grade_col].apply(lambda row:'A' if row.any()!=1 else \n",
    "                                 row[0]*'A+NG'+row[1]*'B'+row[2]*'C'+row[3]*'D'+row[4]*'F'+row[5]*'I',axis=1)\n",
    "\n",
    "#Removed SPG Grade and unit code(which is primary key for school data table)\n",
    "X = school_data[school_data.columns.drop(list(school_data.filter(regex='^SPG\\WGrade|unit_code')))]\n",
    "\n",
    "\n"
   ]
  },
  {
   "cell_type": "code",
   "execution_count": 4,
   "metadata": {
    "scrolled": true
   },
   "outputs": [],
   "source": [
    "#split X and y into test and train sets.\n",
    "\n",
    "\n",
    "X_train, X_test, y_train, y_test = train_test_split(X, y, test_size=.2)"
   ]
  },
  {
   "cell_type": "code",
   "execution_count": 5,
   "metadata": {},
   "outputs": [
    {
     "name": "stdout",
     "output_type": "stream",
     "text": [
      "Fitting 10 folds for each of 594 candidates, totalling 5940 fits\n"
     ]
    },
    {
     "name": "stderr",
     "output_type": "stream",
     "text": [
      "[Parallel(n_jobs=-1)]: Done  88 tasks      | elapsed:   25.2s\n",
      "[Parallel(n_jobs=-1)]: Done 338 tasks      | elapsed:  1.9min\n",
      "[Parallel(n_jobs=-1)]: Done 688 tasks      | elapsed: 20.7min\n",
      "[Parallel(n_jobs=-1)]: Done 1138 tasks      | elapsed: 75.6min\n",
      "[Parallel(n_jobs=-1)]: Done 1688 tasks      | elapsed: 151.2min\n",
      "[Parallel(n_jobs=-1)]: Done 2338 tasks      | elapsed: 232.7min\n",
      "[Parallel(n_jobs=-1)]: Done 3088 tasks      | elapsed: 334.7min\n",
      "[Parallel(n_jobs=-1)]: Done 3938 tasks      | elapsed: 353.4min\n",
      "[Parallel(n_jobs=-1)]: Done 4888 tasks      | elapsed: 357.4min\n",
      "[Parallel(n_jobs=-1)]: Done 5940 out of 5940 | elapsed: 359.5min finished\n"
     ]
    },
    {
     "data": {
      "text/plain": [
       "['savedBestModel.pkl']"
      ]
     },
     "execution_count": 5,
     "metadata": {},
     "output_type": "execute_result"
    }
   ],
   "source": [
    "#Don't run this unless you want to retrain the data.\n",
    "\n",
    "k_fold = KFold(n_splits=10,shuffle=True)\n",
    "\n",
    "pipe = Pipeline([('reduce_dim', NMF()),\n",
    "                 ('scale', StandardScaler()), \n",
    "                 ('clf', LogisticRegression())])\n",
    "\n",
    "\n",
    "param_grid = [\n",
    "    {\n",
    "        'reduce_dim': [None],\n",
    "        'scale':[None,StandardScaler()],\n",
    "        'clf':[SVC(),LogisticRegression()],\n",
    "        'clf__C': C_OPTIONS\n",
    "    },\n",
    "    {\n",
    "        'reduce_dim': [None],\n",
    "        'scale':[None,StandardScaler()],\n",
    "        'clf':[SGDClassifier(tol=1e-3,max_iter=1000)],\n",
    "        'clf__alpha': C_OPTIONS\n",
    "    },\n",
    "    {\n",
    "        'reduce_dim': [NMF()],\n",
    "        'reduce_dim__n_components': N_FEATURES_OPTIONS,\n",
    "        'scale':[None,StandardScaler()],\n",
    "        'clf':[SVC(),LogisticRegression()],\n",
    "        'clf__C': C_OPTIONS\n",
    "    },\n",
    "    {\n",
    "        'reduce_dim': [NMF()],\n",
    "        'reduce_dim__n_components': N_FEATURES_OPTIONS,\n",
    "        'scale':[None,StandardScaler()],\n",
    "        'clf':[SGDClassifier(tol=1e-3,max_iter=1000)],\n",
    "        'clf__alpha': C_OPTIONS\n",
    "    },\n",
    "    {\n",
    "        'reduce_dim': [SelectKBest(chi2)],\n",
    "        'reduce_dim__k': N_FEATURES_OPTIONS,\n",
    "        'scale':[None,StandardScaler()],\n",
    "        'clf':[SVC(),LogisticRegression()],\n",
    "        'clf__C': C_OPTIONS\n",
    "    },\n",
    "    {\n",
    "        'reduce_dim': [SelectKBest(chi2)],\n",
    "        'reduce_dim__k': N_FEATURES_OPTIONS,\n",
    "        'scale':[None,StandardScaler()],\n",
    "        'clf':[SGDClassifier(tol=1e-3,max_iter=1000)],\n",
    "        'clf__alpha': C_OPTIONS\n",
    "    },\n",
    "\n",
    "    \n",
    "]\n",
    "\n",
    "grid_search = GridSearchCV(pipe, param_grid=param_grid, cv=k_fold,n_jobs=-1, verbose=1 )\n",
    "\n",
    "grid_search.fit(X_train, y_train)\n",
    "\n",
    "from sklearn.externals import joblib\n",
    "joblib.dump(grid_search, 'savedBestModel.pkl')"
   ]
  },
  {
   "cell_type": "code",
   "execution_count": 5,
   "metadata": {},
   "outputs": [],
   "source": [
    "#Run this to load the model\n",
    "\n",
    "from sklearn.externals import joblib\n",
    "grid_search = joblib.load('savedBestModel.pkl') "
   ]
  },
  {
   "cell_type": "code",
   "execution_count": 65,
   "metadata": {},
   "outputs": [
    {
     "data": {
      "text/html": [
       "<div>\n",
       "<style scoped>\n",
       "    .dataframe tbody tr th:only-of-type {\n",
       "        vertical-align: middle;\n",
       "    }\n",
       "\n",
       "    .dataframe tbody tr th {\n",
       "        vertical-align: top;\n",
       "    }\n",
       "\n",
       "    .dataframe thead th {\n",
       "        text-align: right;\n",
       "    }\n",
       "</style>\n",
       "<table border=\"1\" class=\"dataframe\">\n",
       "  <thead>\n",
       "    <tr style=\"text-align: right;\">\n",
       "      <th></th>\n",
       "      <th>0.0001</th>\n",
       "      <th>0.001</th>\n",
       "      <th>0.01</th>\n",
       "      <th>0.1</th>\n",
       "      <th>1.0</th>\n",
       "      <th>10.0</th>\n",
       "      <th>100.0</th>\n",
       "      <th>1000.0</th>\n",
       "      <th>10000.0</th>\n",
       "    </tr>\n",
       "  </thead>\n",
       "  <tbody>\n",
       "    <tr>\n",
       "      <th>SVC</th>\n",
       "      <td>0.397134</td>\n",
       "      <td>0.397134</td>\n",
       "      <td>0.397134</td>\n",
       "      <td>0.720061</td>\n",
       "      <td>0.856192</td>\n",
       "      <td>0.867963</td>\n",
       "      <td>0.866940</td>\n",
       "      <td>0.867451</td>\n",
       "      <td>0.867451</td>\n",
       "    </tr>\n",
       "    <tr>\n",
       "      <th>LogisticRegression</th>\n",
       "      <td>0.679120</td>\n",
       "      <td>0.801433</td>\n",
       "      <td>0.833163</td>\n",
       "      <td>0.839304</td>\n",
       "      <td>0.832139</td>\n",
       "      <td>0.814739</td>\n",
       "      <td>0.805015</td>\n",
       "      <td>0.793756</td>\n",
       "      <td>0.789150</td>\n",
       "    </tr>\n",
       "    <tr>\n",
       "      <th>SGDClassifier</th>\n",
       "      <td>0.824974</td>\n",
       "      <td>0.833163</td>\n",
       "      <td>0.825486</td>\n",
       "      <td>0.830092</td>\n",
       "      <td>0.801945</td>\n",
       "      <td>0.504094</td>\n",
       "      <td>0.436540</td>\n",
       "      <td>0.481576</td>\n",
       "      <td>0.437564</td>\n",
       "    </tr>\n",
       "  </tbody>\n",
       "</table>\n",
       "</div>"
      ],
      "text/plain": [
       "                    0.0001      0.0010      0.0100      0.1000      \\\n",
       "SVC                   0.397134    0.397134    0.397134    0.720061   \n",
       "LogisticRegression    0.679120    0.801433    0.833163    0.839304   \n",
       "SGDClassifier         0.824974    0.833163    0.825486    0.830092   \n",
       "\n",
       "                    1.0000      10.0000     100.0000    1000.0000   10000.0000  \n",
       "SVC                   0.856192    0.867963    0.866940    0.867451    0.867451  \n",
       "LogisticRegression    0.832139    0.814739    0.805015    0.793756    0.789150  \n",
       "SGDClassifier         0.801945    0.504094    0.436540    0.481576    0.437564  "
      ]
     },
     "metadata": {},
     "output_type": "display_data"
    },
    {
     "data": {
      "image/png": "[encoded data removed]",
      "text/plain": [
       "<Figure size 1008x720 with 1 Axes>"
      ]
     },
     "metadata": {},
     "output_type": "display_data"
    }
   ],
   "source": [
    "cv_results = grid_search.cv_results_\n",
    "best_estimator = grid_search.best_estimator_\n",
    "best_score = grid_search.best_score_\n",
    "best_params = grid_search.best_params_\n",
    "\n",
    "\n",
    "params = np.array(grid_search.cv_results_['params'])\n",
    "mean_scores = np.array(grid_search.cv_results_['mean_test_score'])\n",
    "\n",
    "classifier_labels=['SVC','LogisticRegression','SGDClassifier']\n",
    "\n",
    "classifier_temp = pd.DataFrame(columns=classifier_labels,index=C_OPTIONS,\n",
    "                               data=np.linspace(.1,.25,num=len(C_OPTIONS)*len(classifier_labels)).reshape(len(C_OPTIONS),len(classifier_labels)))\n",
    "classifier_temp.fillna(0,inplace=True)\n",
    "\n",
    "for i, (param, score) in enumerate(zip(params, mean_scores)):\n",
    "    C = param['clf__C'] if 'clf__C' in param else param['clf__alpha']\n",
    "    class_state = str(param['clf']).split('(')[0]\n",
    "    if classifier_temp.at[C,class_state] < score:\n",
    "        classifier_temp.at[C,class_state] = score\n",
    "\n",
    "\n",
    "\n",
    "        \n",
    "display(classifier_temp.transpose())        \n",
    " \n",
    "classifier_temp.plot(logx=True,ylim=(0,1),figsize=(14,10),title='Accuracy by Classifier'); \n",
    "    \n",
    " \n",
    "\n",
    "\n",
    "\n",
    "\n"
   ]
  },
  {
   "cell_type": "code",
   "execution_count": 64,
   "metadata": {},
   "outputs": [
    {
     "data": {
      "text/html": [
       "<div>\n",
       "<style scoped>\n",
       "    .dataframe tbody tr th:only-of-type {\n",
       "        vertical-align: middle;\n",
       "    }\n",
       "\n",
       "    .dataframe tbody tr th {\n",
       "        vertical-align: top;\n",
       "    }\n",
       "\n",
       "    .dataframe thead th {\n",
       "        text-align: right;\n",
       "    }\n",
       "</style>\n",
       "<table border=\"1\" class=\"dataframe\">\n",
       "  <thead>\n",
       "    <tr style=\"text-align: right;\">\n",
       "      <th></th>\n",
       "      <th>25</th>\n",
       "      <th>50</th>\n",
       "      <th>100</th>\n",
       "      <th>200</th>\n",
       "      <th>300</th>\n",
       "      <th>None</th>\n",
       "    </tr>\n",
       "  </thead>\n",
       "  <tbody>\n",
       "    <tr>\n",
       "      <th>NMF</th>\n",
       "      <td>0.716991</td>\n",
       "      <td>0.719550</td>\n",
       "      <td>0.775844</td>\n",
       "      <td>0.766633</td>\n",
       "      <td>0.756397</td>\n",
       "      <td>0.864381</td>\n",
       "    </tr>\n",
       "    <tr>\n",
       "      <th>SelectKBest</th>\n",
       "      <td>0.624872</td>\n",
       "      <td>0.863357</td>\n",
       "      <td>0.859263</td>\n",
       "      <td>0.867963</td>\n",
       "      <td>0.861822</td>\n",
       "      <td>0.864381</td>\n",
       "    </tr>\n",
       "  </tbody>\n",
       "</table>\n",
       "</div>"
      ],
      "text/plain": [
       "                   25        50       100       200       300      None\n",
       "NMF          0.716991  0.719550  0.775844  0.766633  0.756397  0.864381\n",
       "SelectKBest  0.624872  0.863357  0.859263  0.867963  0.861822  0.864381"
      ]
     },
     "metadata": {},
     "output_type": "display_data"
    },
    {
     "data": {
      "image/png": "[encoded data removed]",
      "text/plain": [
       "<Figure size 1008x720 with 1 Axes>"
      ]
     },
     "metadata": {},
     "output_type": "display_data"
    }
   ],
   "source": [
    "params = np.array(grid_search.cv_results_['params'])\n",
    "mean_scores = np.array(grid_search.cv_results_['mean_test_score'])\n",
    "\n",
    "reduce_labels=['NMF','SelectKBest']\n",
    "\n",
    "temp_N_FEATURES_OPTIONS = [str(r) for r in N_FEATURES_OPTIONS]\n",
    "temp_N_FEATURES_OPTIONS=temp_N_FEATURES_OPTIONS+['None']\n",
    "\n",
    "reduce_temp = pd.DataFrame(columns=reduce_labels,index=temp_N_FEATURES_OPTIONS,\n",
    "                               data=np.linspace(.1,.25,num=len(temp_N_FEATURES_OPTIONS)*len(reduce_labels)).reshape(+len(temp_N_FEATURES_OPTIONS),len(reduce_labels)))\n",
    "\n",
    "\n",
    "for i, (param, score) in enumerate(zip(params, mean_scores)):\n",
    "    trigger=0\n",
    "    reduce_state = str(param['reduce_dim']).split('(')[0]\n",
    "    if 'reduce_dim__k' in param:\n",
    "        N_FEAT = str(param['reduce_dim__k'])\n",
    "        trigger=1\n",
    "    elif 'reduce_dim__n_components' in param:\n",
    "        N_FEAT = str(param['reduce_dim__n_components'])\n",
    "        trigger=1\n",
    "    else:\n",
    "        if reduce_temp.at['None','NMF'] < score:\n",
    "            reduce_temp.at['None','NMF'] = score\n",
    "            reduce_temp.at['None','SelectKBest'] = score\n",
    "        \n",
    "    if trigger == 1:\n",
    "        if reduce_temp.at[N_FEAT,reduce_state] < score:\n",
    "            reduce_temp.at[N_FEAT,reduce_state] = score\n",
    "            \n",
    "\n",
    "display(reduce_temp.transpose())\n",
    "\n",
    "reduce_temp.plot(kind='bar',ylim=(0,1),figsize=(14,10),title='Accuracy by Feature Selection',rot=0);\n",
    "            "
   ]
  },
  {
   "cell_type": "code",
   "execution_count": 9,
   "metadata": {},
   "outputs": [
    {
     "data": {
      "text/plain": [
       "381"
      ]
     },
     "metadata": {},
     "output_type": "display_data"
    },
    {
     "data": {
      "text/plain": [
       "{'clf': SVC(C=10.0, cache_size=200, class_weight=None, coef0=0.0,\n",
       "   decision_function_shape='ovr', degree=3, gamma='auto', kernel='rbf',\n",
       "   max_iter=-1, probability=False, random_state=None, shrinking=True,\n",
       "   tol=0.001, verbose=False),\n",
       " 'clf__C': 10.0,\n",
       " 'reduce_dim': SelectKBest(k=200, score_func=<function chi2 at 0x7fb4578dde18>),\n",
       " 'reduce_dim__k': 200,\n",
       " 'scale': StandardScaler(copy=True, with_mean=True, with_std=True)}"
      ]
     },
     "metadata": {},
     "output_type": "display_data"
    },
    {
     "data": {
      "text/plain": [
       "0.8679631525076765"
      ]
     },
     "metadata": {},
     "output_type": "display_data"
    }
   ],
   "source": [
    "#print(grid_search.best_estimator_)\n",
    "display(grid_search.best_index_)\n",
    "display(grid_search.best_params_)\n",
    "display(grid_search.best_score_)"
   ]
  },
  {
   "cell_type": "markdown",
   "metadata": {},
   "source": [
    "# Model Advantages\n",
    "Discuss the advantages of each model for each classification task. Does one type of model offer superior performance over another in terms of prediction accuracy? In terms of training time or efficiency? Explain in detail."
   ]
  },
  {
   "cell_type": "markdown",
   "metadata": {},
   "source": [
    "Looking at the accuracy of the two models there are a couple of obvious observations.\n",
    "\n",
    "1. SVM is negatively to non-standardized observations.\n",
    "2. Logistic Regression ..."
   ]
  },
  {
   "cell_type": "markdown",
   "metadata": {},
   "source": [
    "# Interpret Feature Importance\n",
    "Use the weights from logistic regression to interpret the importance of different features for the classification task. Explain your interpretation in detail. Why do you think some variables are more important?\n"
   ]
  },
  {
   "cell_type": "code",
   "execution_count": null,
   "metadata": {},
   "outputs": [],
   "source": []
  },
  {
   "cell_type": "markdown",
   "metadata": {},
   "source": [
    "# Interpret Support Vectors\n",
    "Look at the chosen support vectors for the classification task. Do these provide any insight into the data? Explain. If you used stochastic gradient descent (and therefore did not explicitly solve for support vectors), try subsampling your data to train the SVC model— then analyze the support vectors from the subsampled dataset."
   ]
  },
  {
   "cell_type": "code",
   "execution_count": null,
   "metadata": {},
   "outputs": [],
   "source": []
  }
 ],
 "metadata": {
  "kernelspec": {
   "display_name": "Python 3",
   "language": "python",
   "name": "python3"
  },
  "language_info": {
   "codemirror_mode": {
    "name": "ipython",
    "version": 3
   },
   "file_extension": ".py",
   "mimetype": "text/x-python",
   "name": "python",
   "nbconvert_exporter": "python",
   "pygments_lexer": "ipython3",
   "version": "3.6.5"
  }
 },
 "nbformat": 4,
 "nbformat_minor": 2
}
